{
 "cells": [
  {
   "cell_type": "code",
   "execution_count": 2,
   "id": "a492c6b3-1386-4aed-87e0-a999d9e13118",
   "metadata": {},
   "outputs": [],
   "source": [
    "import cv2\n",
    "import matplotlib.pyplot as plt\n",
    "from pathlib import Path\n",
    "from tqdm import tqdm"
   ]
  },
  {
   "cell_type": "markdown",
   "id": "1a3440d6-30a9-48c3-820f-8618ca51ec62",
   "metadata": {},
   "source": [
    "### Define paths"
   ]
  },
  {
   "cell_type": "code",
   "execution_count": 3,
   "id": "d1af98ff-4d75-488a-9f65-870e934b4bb6",
   "metadata": {},
   "outputs": [],
   "source": [
    "in_path = Path('./data/in/videos')\n",
    "out_path = Path('./data/out/videos')"
   ]
  },
  {
   "cell_type": "markdown",
   "id": "469395b0-12f5-42ed-ab33-d283b7e988eb",
   "metadata": {},
   "source": [
    "### Utilities"
   ]
  },
  {
   "cell_type": "code",
   "execution_count": 4,
   "id": "d76c9b53-a3e8-4155-bb17-62c560d05e37",
   "metadata": {},
   "outputs": [],
   "source": [
    "def show_image(img):\n",
    "    plt.imshow(img, cmap='gray')\n",
    "    plt.show()\n",
    "\n",
    "def save_image(path, img):\n",
    "    cv2.imwrite(path, img)"
   ]
  },
  {
   "cell_type": "code",
   "execution_count": 5,
   "id": "562ee465-6acb-4195-86a0-bcba81aa707c",
   "metadata": {},
   "outputs": [],
   "source": [
    "def manage_and_create_paths(image_path, out_path):\n",
    "    res = out_path / image_path.stem\n",
    "    if not res.parent.exists():\n",
    "        res.mkdir(parents=True, exist_ok=True)\n",
    "    return res\n",
    "\n",
    "def create_output_path(path, out_path):\n",
    "    return str(manage_and_create_paths(path, out_path)) + '/' + path.name"
   ]
  },
  {
   "cell_type": "markdown",
   "id": "68cd49d1-d1fe-45d1-a8e4-5b49dfcffc95",
   "metadata": {},
   "source": [
    "### Extract frames"
   ]
  },
  {
   "cell_type": "code",
   "execution_count": 19,
   "id": "624ef513-f70d-4e9c-8bd2-7e2409dc9053",
   "metadata": {},
   "outputs": [
    {
     "name": "stdout",
     "output_type": "stream",
     "text": [
      "frames per second:  29.97002997002997\n",
      "total number of frames:  2196\n"
     ]
    },
    {
     "name": "stderr",
     "output_type": "stream",
     "text": [
      "100%|██████████| 2196/2196 [00:44<00:00, 49.80it/s]\n"
     ]
    }
   ],
   "source": [
    "for p in (in_path.rglob('*.mp4')):\n",
    "    print(p)\n",
    "    path = manage_and_create_paths(p, out_path)\n",
    "    cap = cv2.VideoCapture(str(p))\n",
    "    fps = cap.get(cv2.CAP_PROP_FPS)\n",
    "    print('frames per second: ',fps)\n",
    "    l = int(cap.get(cv2.CAP_PROP_FRAME_COUNT))\n",
    "    print('total number of frames: ', l)\n",
    "    \n",
    "    for f in tqdm(range(l)):\n",
    "        cap.set(cv2.CAP_PROP_POS_FRAMES, f)\n",
    "        ret, frame = cap.read()\n",
    "        res_path = './' + str(path) + f'/frame_{f}.jpg'\n",
    "        save_image(res_path, frame)"
   ]
  },
  {
   "cell_type": "markdown",
   "id": "feb71460-3f3b-4a9d-bd87-3b609f787c6c",
   "metadata": {},
   "source": [
    "## In case multiprocessing works:"
   ]
  },
  {
   "cell_type": "code",
   "execution_count": null,
   "id": "f495351d-481f-4c04-b2cb-1aedc3bba1fe",
   "metadata": {},
   "outputs": [],
   "source": [
    "import cv2\n",
    "from pathlib import Path\n",
    "from tqdm import tqdm\n",
    "from multiprocessing import Pool, cpu_count\n",
    "\n",
    "def process_video(video_path, out_path):\n",
    "    cap = cv2.VideoCapture(str(video_path))\n",
    "    fps = cap.get(cv2.CAP_PROP_FPS)\n",
    "    l = int(cap.get(cv2.CAP_PROP_FRAME_COUNT))\n",
    "    frames = []\n",
    "    for f in range(l):\n",
    "        cap.set(cv2.CAP_PROP_POS_FRAMES, f)\n",
    "        ret, frame = cap.read()\n",
    "        frames.append((f, frame))\n",
    "    cap.release()\n",
    "\n",
    "    path = manage_and_create_paths(video_path, out_path)\n",
    "    for frame_info in frames:\n",
    "        f, frame = frame_info\n",
    "        res_path = str(path) + f'/frame_{f}.jpg'\n",
    "        save_image(res_path, frame)\n",
    "\n",
    "def process_videos(video_paths, out_path):\n",
    "    with Pool(cpu_count()) as pool:\n",
    "        pool.starmap(process_video, [(video_path, out_path) for video_path in video_paths])\n",
    "\n",
    "# Assuming manage_and_create_paths and save_image are defined elsewhere\n",
    "\n",
    "# Main code\n",
    "video_paths = list(in_path.rglob('*.mp4'))\n",
    "process_videos(video_paths, out_path)\n"
   ]
  }
 ],
 "metadata": {
  "kernelspec": {
   "display_name": "Python 3 (ipykernel)",
   "language": "python",
   "name": "python3"
  },
  "language_info": {
   "codemirror_mode": {
    "name": "ipython",
    "version": 3
   },
   "file_extension": ".py",
   "mimetype": "text/x-python",
   "name": "python",
   "nbconvert_exporter": "python",
   "pygments_lexer": "ipython3",
   "version": "3.8.10"
  }
 },
 "nbformat": 4,
 "nbformat_minor": 5
}
