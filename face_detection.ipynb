{
 "cells": [
  {
   "cell_type": "code",
   "execution_count": null,
   "id": "bb667ec2-f189-42dc-9585-f924bdf8fe48",
   "metadata": {},
   "outputs": [],
   "source": [
    "import cv2\n",
    "import sys\n",
    "import matplotlib.pyplot as plt\n",
    "import os \n",
    "from tqdm import tqdm\n",
    "from joblib import Parallel, delayed\n",
    "import time\n",
    "import concurrent.futures"
   ]
  },
  {
   "cell_type": "code",
   "execution_count": null,
   "id": "7f144fed-6754-4bb6-af2f-76ef4cc58ab3",
   "metadata": {},
   "outputs": [],
   "source": [
    "# face detection using haar cascades // viola jones\n",
    "# read images, crop and create new dir to store the crops\n",
    "nimh_path = './NIMH-CHEFS'\n",
    "out_path = './out'\n",
    "\n",
    "def process_image(image_path):\n",
    "    img = cv2.imread(image_path)\n",
    "    gray_image = cv2.cvtColor(img, cv2.COLOR_BGR2GRAY)\n",
    "    face_classifier = cv2.CascadeClassifier(cv2.data.haarcascades + \"haarcascade_frontalface_default.xml\")\n",
    "    face = face_classifier.detectMultiScale(gray_image, scaleFactor=1.1, minNeighbors=5, minSize=(40, 40))\n",
    "    return face\n",
    "\n",
    "def save_processed(face, img_path, file_name, folder):\n",
    "    img = cv2.imread(img_path)\n",
    "    x, y, w, h = face\n",
    "    cv2.rectangle(img, (x, y), (x + w, y + h), (0, 255, 0), 4)\n",
    "    faces = img[y:y + h, x:x + w]\n",
    "    file_name = os.path.splitext(file_name)[0]\n",
    "    cv2.imwrite(f'out/{folder}/{file_name}_cropped.jpg', faces) \n",
    "\n",
    "def process_face_and_save(face_coords, image_path, file_name, folder):\n",
    "    try:\n",
    "        save_processed(face_coords, image_path, file_name, folder)\n",
    "    except Exception as e:\n",
    "        print(f\"Error processing image {file_name}: {e}\")\n",
    "\n",
    "def process_folder(folder):\n",
    "    display(folder)\n",
    "    folder_path_out = os.path.join(out_path, os.path.basename(folder))    \n",
    "    if not os.path.exists(folder_path_out):\n",
    "        os.makedirs(folder_path_out)\n",
    "    image_files = [os.path.join(folder, file_name) for file_name in os.listdir(folder) if file_name.endswith('.jpg')]\n",
    "    for image_path in image_files:\n",
    "        face = process_image(image_path)\n",
    "        for face_coords in face:\n",
    "            process_face_and_save(face_coords, image_path, os.path.basename(image_path), os.path.basename(folder))\n",
    "\n",
    "t1 = time.time()\n",
    "folders = [os.path.join(nimh_path, folder) for folder in os.listdir(nimh_path) if folder != '.ipynb_checkpoints']\n",
    "# display(folders)\n",
    "\n",
    "# multithreading\n",
    "# with concurrent.futures.ThreadPoolExecutor(max_workers=4) as executor:\n",
    "#    executor.map(process_folder, folders)\n",
    "\n",
    "# single-threading\n",
    "for folder in folders:\n",
    "    process_folder(folder)\n",
    "\n",
    "t2 = time.time()\n",
    "display(t2-t1)"
   ]
  },
  {
   "cell_type": "code",
   "execution_count": null,
   "id": "460db262-989f-405d-b79d-8e4ba007712d",
   "metadata": {},
   "outputs": [],
   "source": []
  }
 ],
 "metadata": {
  "kernelspec": {
   "display_name": "Python 3 (ipykernel)",
   "language": "python",
   "name": "python3"
  },
  "language_info": {
   "codemirror_mode": {
    "name": "ipython",
    "version": 3
   },
   "file_extension": ".py",
   "mimetype": "text/x-python",
   "name": "python",
   "nbconvert_exporter": "python",
   "pygments_lexer": "ipython3",
   "version": "3.8.19"
  }
 },
 "nbformat": 4,
 "nbformat_minor": 5
}
