{
 "cells": [
  {
   "cell_type": "code",
   "execution_count": null,
   "id": "ee41e651-be67-4da3-8fbe-857210e2e58c",
   "metadata": {},
   "outputs": [],
   "source": [
    "import cv2\n",
    "import sys\n",
    "import matplotlib.pyplot as plt\n",
    "import os \n",
    "from tqdm import tqdm\n",
    "from joblib import Parallel, delayed\n",
    "import time\n",
    "import concurrent.futures"
   ]
  },
  {
   "cell_type": "code",
   "execution_count": null,
   "id": "a016d1e8-f90c-42f1-a05b-9e648af36ca1",
   "metadata": {},
   "outputs": [],
   "source": [
    "nimh_path = './NIMH-CHEFS'\n",
    "out_path = './out'"
   ]
  },
  {
   "cell_type": "markdown",
   "id": "4b05a0fe-2f07-4517-b504-f1fd580bbcb8",
   "metadata": {},
   "source": [
    "### Folder Utilities"
   ]
  },
  {
   "cell_type": "code",
   "execution_count": null,
   "id": "69dd04a7-4112-451b-bc83-940fa17b9c19",
   "metadata": {},
   "outputs": [],
   "source": [
    "# returns a list of subfolders\n",
    "def get_subfolders(path):\n",
    "    return [os.path.join(path, folder)\n",
    "            for folder in os.listdir(path) \n",
    "            if folder != '.ipynb_checkpoints' \n",
    "            and folder != '.DS_Store']\n",
    "\n",
    "# gets inly the names of folders of a folder list\n",
    "def get_folder_names(folder_list):\n",
    "    return [os.path.basename(folder) for folder in folder_list]\n",
    "\n",
    "# gets all the image files of a given folder\n",
    "def get_image_files_from_folder(folder):\n",
    "    return [os.path.join(folder, file_name)\n",
    "            for file_name in os.listdir(folder) \n",
    "            if file_name.endswith('.jpg')]"
   ]
  },
  {
   "cell_type": "markdown",
   "id": "961a1e27",
   "metadata": {},
   "source": [
    "### Image Utilities"
   ]
  },
  {
   "cell_type": "code",
   "execution_count": null,
   "id": "fa976982",
   "metadata": {},
   "outputs": [],
   "source": [
    "# saves an image to a given path, creates path, if it doesn't exist, names it after the changes done, e.g. 'resized', 'cropped'\n",
    "def save_image(image, folder_path_out, image_name, changes):\n",
    "    image_name = os.path.splitext(image_name)[0]\n",
    "    if not os.path.exists(folder_path_out):\n",
    "        os.makedirs(folder_path_out)\n",
    "    cv2.imwrite(f'{folder_path_out}/{image_name}_{changes}.jpg', image)"
   ]
  },
  {
   "cell_type": "code",
   "execution_count": null,
   "id": "01c1fbf2",
   "metadata": {},
   "outputs": [],
   "source": [
    "folders = get_subfolders(nimh_path)\n",
    "folder_names = get_folder_names(folders)"
   ]
  },
  {
   "cell_type": "markdown",
   "id": "65ff11e4",
   "metadata": {},
   "source": [
    "### Grayscale"
   ]
  },
  {
   "cell_type": "markdown",
   "id": "2c02c440",
   "metadata": {},
   "source": [
    "#### Grayscale utilities"
   ]
  },
  {
   "cell_type": "code",
   "execution_count": null,
   "id": "a8918b22",
   "metadata": {},
   "outputs": [],
   "source": [
    "def convert_to_grayscale(image_path):\n",
    "    img = cv2.imread(image_path)\n",
    "    return cv2.cvtColor(img, cv2.COLOR_BGR2GRAY)"
   ]
  },
  {
   "cell_type": "markdown",
   "id": "50c2a188-8381-43c5-ba26-2f24d2fe7666",
   "metadata": {},
   "source": [
    "### Crop faces"
   ]
  },
  {
   "cell_type": "markdown",
   "id": "21d948e3",
   "metadata": {},
   "source": [
    "#### Face detection utilities"
   ]
  },
  {
   "cell_type": "code",
   "execution_count": null,
   "id": "e05523ae",
   "metadata": {},
   "outputs": [],
   "source": [
    "# face detection using haar cascades // viola jones\n",
    "# read images, crop and create new dir to store the crops\n",
    "\n",
    "def find_face(image_path):\n",
    "    img = cv2.imread(image_path)\n",
    "    gray_image = cv2.cvtColor(img, cv2.COLOR_BGR2GRAY)\n",
    "    face_classifier = cv2.CascadeClassifier(cv2.data.haarcascades + \"haarcascade_frontalface_default.xml\")\n",
    "    face = face_classifier.detectMultiScale(gray_image, scaleFactor=1.1, minNeighbors=5, minSize=(40, 40))\n",
    "    return face\n",
    "\n",
    "# returns cropped image in cv2 format\n",
    "def crop_face(face, img_path):\n",
    "    img = cv2.imread(img_path)\n",
    "    x, y, w, h = face\n",
    "    cv2.rectangle(img, (x, y), (x + w, y + h), (0, 255, 0), 4)\n",
    "    return img[y:y + h, x:x + w]\n",
    "\n",
    "def process_face_and_save(face_coords, image_path, file_name, folder):\n",
    "    try:\n",
    "        crop_and_save(face_coords, image_path, file_name, folder)\n",
    "    except Exception as e:\n",
    "        print(f\"Error processing image {file_name}: {e}\")\n",
    "\n",
    "def process_folder_crop(folder_list):\n",
    "    for folder in folder_list:\n",
    "        display(folder_path_out)\n",
    "        image_files_in_folder = get_image_files_from_folder(folder)\n",
    "        for image_path in tqdm(image_files):\n",
    "            face = find_face(image_path)\n",
    "            for face_coords in face:\n",
    "                img = crop_face(face, image_path)\n",
    "                save_image(img, folder_path_out, os.path.basename(image_path), 'cropped')"
   ]
  },
  {
   "cell_type": "markdown",
   "id": "26b44ee3",
   "metadata": {},
   "source": [
    "#### Detect face and crop"
   ]
  },
  {
   "cell_type": "code",
   "execution_count": null,
   "id": "07cdbc6b",
   "metadata": {},
   "outputs": [],
   "source": [
    "t1 = time.time()\n",
    "folders = [os.path.join(nimh_path, folder) for folder in os.listdir(nimh_path) if folder != '.ipynb_checkpoints' and folder != '.DS_Store']\n",
    "# display(folders)\n",
    "\n",
    "# multithreading\n",
    "# with concurrent.futures.ThreadPoolExecutor(max_workers=4) as executor:\n",
    "#    executor.map(process_folder, folders)\n",
    "\n",
    "# single-threading\n",
    "for folder in folders:\n",
    "    process_folder_crop(folder)\n",
    "\n",
    "t2 = time.time()\n",
    "display(t2-t1)"
   ]
  },
  {
   "cell_type": "markdown",
   "id": "38325ff0",
   "metadata": {},
   "source": [
    "### Resizing"
   ]
  },
  {
   "cell_type": "markdown",
   "id": "730dd0c9",
   "metadata": {},
   "source": [
    "#### Set parameters for resizing"
   ]
  },
  {
   "cell_type": "code",
   "execution_count": null,
   "id": "b2466c3d",
   "metadata": {},
   "outputs": [],
   "source": [
    "size = (256, 256)\n",
    "downsampling = cv2.INTER_AREA\n",
    "upsampling = cv2.INTER_CUBIC"
   ]
  },
  {
   "cell_type": "markdown",
   "id": "f351e70e",
   "metadata": {},
   "source": [
    "#### Resizing utilities"
   ]
  },
  {
   "cell_type": "code",
   "execution_count": null,
   "id": "7f5a20fc",
   "metadata": {},
   "outputs": [],
   "source": [
    "# resizes images based on given size and interpolation method\n",
    "def resize_image(image_file, size, interpolation):\n",
    "    img = cv2.imread(image_file)\n",
    "    return cv2.resize(img, dsize=size, interpolation=interpolation)\n",
    "\n",
    "# does all the magic\n",
    "def process_images_resize(folder_list, size, interpolation):\n",
    "    for folder in folder_list:\n",
    "        display(folder)\n",
    "        image_files_in_folder = get_image_files_from_folder(folder)\n",
    "        for image_file in tqdm(image_files_in_folder):\n",
    "            res_img = resize_image(image_file, size, downsampling)\n",
    "            folder_path_out = f'out/resized/{os.path.basename(folder)}'\n",
    "            img_name = os.path.basename(image_file)\n",
    "            save_image(res_img, folder_path_out, img_name, 'resized')"
   ]
  },
  {
   "cell_type": "markdown",
   "id": "f96e0b8a",
   "metadata": {},
   "source": [
    "#### Resize"
   ]
  },
  {
   "cell_type": "code",
   "execution_count": null,
   "id": "8ee713f1",
   "metadata": {},
   "outputs": [],
   "source": [
    "process_images_resize(folders, size, interpolation)"
   ]
  }
 ],
 "metadata": {
  "kernelspec": {
   "display_name": "Python 3 (ipykernel)",
   "language": "python",
   "name": "python3"
  },
  "language_info": {
   "codemirror_mode": {
    "name": "ipython",
    "version": 3
   },
   "file_extension": ".py",
   "mimetype": "text/x-python",
   "name": "python",
   "nbconvert_exporter": "python",
   "pygments_lexer": "ipython3",
   "version": "3.8.19"
  }
 },
 "nbformat": 4,
 "nbformat_minor": 5
}
