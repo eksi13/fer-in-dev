{
 "cells": [
  {
   "cell_type": "code",
   "execution_count": 205,
   "id": "a492c6b3-1386-4aed-87e0-a999d9e13118",
   "metadata": {},
   "outputs": [
    {
     "name": "stdout",
     "output_type": "stream",
     "text": [
      "Requirement already satisfied: opencv-python-headless==4.9.0.80 in /opt/conda/lib/python3.11/site-packages (4.9.0.80)\n",
      "Requirement already satisfied: numpy>=1.21.2 in /opt/conda/lib/python3.11/site-packages (from opencv-python-headless==4.9.0.80) (1.26.4)\n",
      "Note: you may need to restart the kernel to use updated packages.\n",
      "install successfull\n"
     ]
    }
   ],
   "source": [
    "%pip install opencv-python-headless==4.9.0.80\n",
    "import cv2\n",
    "import matplotlib.pyplot as plt\n",
    "from pathlib import Path\n",
    "from tqdm import tqdm\n",
    "import re\n",
    "import json\n",
    "import pandas as pd\n",
    "from datetime import datetime\n",
    "print('install successfull')"
   ]
  },
  {
   "cell_type": "code",
   "execution_count": 40,
   "id": "53083bc1-71e6-4175-9995-719fc84667f3",
   "metadata": {},
   "outputs": [],
   "source": [
    "BASE_PATH = Path('/home/jovyan/work/videos/')\n",
    "VIDEO_PATHS = list(BASE_PATH.rglob('*.MP4')) + list(BASE_PATH.rglob('*.mp4'))\n",
    "CSV_PATHS = list(BASE_PATH.rglob('*.csv'))\n",
    "\n",
    "T1_PATHS_str = [str(file) for file in VIDEO_PATHS if not re.search('gelöschte|clipped|T2', str(file))]\n",
    "T2_PATHS_str = [str(file) for file in VIDEO_PATHS if not re.search('gelöschte|clipped|T1', str(file))]\n",
    "\n",
    "T1_PATHS = [Path(file) for file in T1_PATHS_str]\n",
    "\n",
    "\n",
    "ELAN = '_ELAN'\n",
    "SYNC = '_sync'"
   ]
  },
  {
   "cell_type": "code",
   "execution_count": 41,
   "id": "4fdf5df3-06cf-40c4-9066-5731496ca7c1",
   "metadata": {},
   "outputs": [
    {
     "data": {
      "text/plain": [
       "19"
      ]
     },
     "execution_count": 41,
     "metadata": {},
     "output_type": "execute_result"
    }
   ],
   "source": [
    "len(T1_PATHS)"
   ]
  },
  {
   "cell_type": "code",
   "execution_count": 162,
   "id": "9b411ef9-e350-4ecf-9c71-79fb4c603f14",
   "metadata": {},
   "outputs": [],
   "source": [
    "def find_files(video_paths=VIDEO_PATHS):\n",
    "    files_dict = {}\n",
    "\n",
    "    for v in tqdm(video_paths):\n",
    "        name = v.stem\n",
    "        folder = v.parent.parent\n",
    "        \n",
    "        csvs = [str(x) for x in folder.iterdir() if x.is_file() and x.suffix == '.csv']\n",
    "        match_csv = [file for file in csvs if re.search(name, file)]\n",
    "        if match_csv:\n",
    "            match_csv = match_csv[0]\n",
    "        else:\n",
    "            match_csv = None\n",
    "\n",
    "        videoanalyse_folder = Path(folder / 'Videoanalyse')\n",
    "        if videoanalyse_folder.exists() and videoanalyse_folder.is_dir():\n",
    "            txt_name = name[:13] + ELAN + name[13:] + SYNC\n",
    "            txts = [str(x) for x in videoanalyse_folder.iterdir() if x.is_file() and x.suffix == '.txt']\n",
    "            match_txt = [file for file in txts if re.search(txt_name, file)]\n",
    "            if match_txt:\n",
    "                match_txt = match_txt[0]\n",
    "            else:\n",
    "                match_txt = None\n",
    "        \n",
    "            files_dict[str(name)] = {\n",
    "                'start_end_file': match_csv,\n",
    "                'analysis_file': match_txt,\n",
    "                'path': str(v),\n",
    "                'start_time': 0,\n",
    "                'end_time': 0\n",
    "            }\n",
    "    output_dir = Path('/home/jovyan/work/output')\n",
    "    if not output_dir.exists():\n",
    "        output_dir.mkdir(parents=True, exist_ok=True)\n",
    "    res_dir = str(output_dir / 'files.json')\n",
    "    with open(str(output_dir / 'files.json'), 'w') as json_file:\n",
    "        json.dump(files_dict, json_file, indent=4)\n",
    "        print(f'saved file into: {res_dir}')\n",
    "        \n",
    "    return files_dict\n",
    "\n",
    "\n",
    "\n",
    "def get_times(files_dict):\n",
    "    files_dict = files_dict\n",
    "    \n",
    "    for file, file_info in tqdm(files_dict.items()):\n",
    "        se_file = file_info.get('start_end_file')\n",
    "        if se_file is None:\n",
    "            files_dict[str(file)]['start_time'] = '00:00:00'\n",
    "            files_dict[str(file)]['end_time'] = '00:00:00'\n",
    "            continue\n",
    "\n",
    "        df = pd.read_csv(se_file)\n",
    "        \n",
    "        start = str(df.iloc[0]['hour']) + ':' + str(df.iloc[0]['minute']) + ':' + str(df.iloc[0]['milisecond'])\n",
    "        end = str(df.iloc[1]['hour']) + ':' + str(df.iloc[1]['minute']) + ':' + str(df.iloc[1]['milisecond'])\n",
    "\n",
    "        files_dict[str(file)]['start_time'] = start\n",
    "        files_dict[str(file)]['end_time'] = end\n",
    "        \n",
    "    output_dir = Path('/home/jovyan/work/output')\n",
    "    if not output_dir.exists():\n",
    "        output_dir.mkdir(parents=True, exist_ok=True)\n",
    "        \n",
    "    res_dir = str(output_dir / 'files.json')\n",
    "    with open(res_dir, 'w') as json_file:\n",
    "        json.dump(files_dict, json_file, indent=4)\n",
    "        print(f'saved file into: {res_dir}')\n",
    "\n",
    "    return files_dict\n",
    "\n",
    "\n",
    "\n",
    "def get_analysis(files_dict):\n",
    "\n",
    "    for file, file_info in tqdm(files_dict.items()):\n",
    "        sync_file = file_info['analysis_file']\n",
    "\n",
    "        if sync_file is not None:\n",
    "            try:\n",
    "                columns = ['category', 'file', 'timestamp_start_long', 'timestamp_start_short', \n",
    "                   'timestamp_end_long', 'timestamp_end_short', 'length_long', 'length_short', \n",
    "                   'label', 'label_str']\n",
    "                df = pd.read_csv(sync_file, sep=\"\t\", header=None)\n",
    "                df.columns = columns\n",
    "                filtered_df = df[df['category'].str.contains('SE')]\n",
    "            \n",
    "                output_dir = Path('/home/jovyan/work/output/' + file)\n",
    "                if not output_dir.exists():\n",
    "                    output_dir.mkdir(parents=True, exist_ok=True)\n",
    "                res_path = str(output_dir / 'analysis.csv')\n",
    "                filtered_df.to_csv(res_path, index=False)\n",
    "        \n",
    "                file_info['analysis_file'] = res_path\n",
    "            except pd.errors.ParserError as e:\n",
    "                print(f\"Error parsing CSV file: {e} with file {sync_file}\")\n",
    "                continue\n",
    "\n",
    "        else: \n",
    "            pass\n",
    "\n",
    "    output_dir = Path('/home/jovyan/work/output')\n",
    "    if not output_dir.exists():\n",
    "        output_dir.mkdir(parents=True, exist_ok=True)\n",
    "    res_dir = str(output_dir / 'files.json')\n",
    "    with open(res_dir, 'w') as json_file:\n",
    "        json.dump(files_dict, json_file, indent=4)\n",
    "        print(f'saved file into: {res_dir}')\n",
    "    return files_dict"
   ]
  },
  {
   "cell_type": "code",
   "execution_count": 163,
   "id": "82161a88-d375-490a-b9c5-e940a2ab10b5",
   "metadata": {},
   "outputs": [
    {
     "name": "stderr",
     "output_type": "stream",
     "text": [
      "100%|███████████████████████████████████████████████████████████████████████████████████| 19/19 [00:01<00:00, 11.52it/s]\n"
     ]
    },
    {
     "name": "stdout",
     "output_type": "stream",
     "text": [
      "saved file into: /home/jovyan/work/output/files.json\n"
     ]
    },
    {
     "name": "stderr",
     "output_type": "stream",
     "text": [
      "100%|██████████████████████████████████████████████████████████████████████████████████| 19/19 [00:00<00:00, 219.92it/s]\n"
     ]
    },
    {
     "name": "stdout",
     "output_type": "stream",
     "text": [
      "saved file into: /home/jovyan/work/output/files.json\n"
     ]
    },
    {
     "name": "stderr",
     "output_type": "stream",
     "text": [
      "100%|██████████████████████████████████████████████████████████████████████████████████| 19/19 [00:00<00:00, 103.09it/s]"
     ]
    },
    {
     "name": "stdout",
     "output_type": "stream",
     "text": [
      "saved file into: /home/jovyan/work/output/files.json\n"
     ]
    },
    {
     "name": "stderr",
     "output_type": "stream",
     "text": [
      "\n"
     ]
    }
   ],
   "source": [
    "d = find_files(T1_PATHS)\n",
    "e = get_times(d)\n",
    "f_dict = get_analysis(e)"
   ]
  },
  {
   "cell_type": "code",
   "execution_count": 164,
   "id": "9e7014a9-eab7-4a0f-abdf-6c181c010465",
   "metadata": {},
   "outputs": [
    {
     "data": {
      "text/plain": [
       "{'START_S001_T1_La1': {'start_end_file': '/home/jovyan/work/videos/S001/T1/START_S001_T1_La1.csv',\n",
       "  'analysis_file': '/home/jovyan/work/output/START_S001_T1_La1/analysis.csv',\n",
       "  'path': '/home/jovyan/work/videos/S001/T1/Videos/START_S001_T1_La1.MP4',\n",
       "  'start_time': '16:31:23920',\n",
       "  'end_time': '16:36:23943'},\n",
       " 'START_S001_T1_La2': {'start_end_file': '/home/jovyan/work/videos/S001/T1/START_S001_T1_La2.csv',\n",
       "  'analysis_file': '/home/jovyan/work/output/START_S001_T1_La2/analysis.csv',\n",
       "  'path': '/home/jovyan/work/videos/S001/T1/Videos/START_S001_T1_La2.MP4',\n",
       "  'start_time': '16:56:1598',\n",
       "  'end_time': '17:1:1603'},\n",
       " 'START_S001_T1_LaCon_Ki': {'start_end_file': '/home/jovyan/work/videos/S001/T1/START_S001_T1_LaCon_Ki.csv',\n",
       "  'analysis_file': None,\n",
       "  'path': '/home/jovyan/work/videos/S001/T1/Videos/START_S001_T1_LaCon_Ki.MP4',\n",
       "  'start_time': '17:13:41690',\n",
       "  'end_time': '17:18:41694'},\n",
       " 'START_S001_T1_LaCon_Mu': {'start_end_file': '/home/jovyan/work/videos/S001/T1/START_S001_T1_LaCon_Mu.csv',\n",
       "  'analysis_file': None,\n",
       "  'path': '/home/jovyan/work/videos/S001/T1/Videos/START_S001_T1_LaCon_Mu.MP4',\n",
       "  'start_time': '17:23:7838',\n",
       "  'end_time': '17:28:7862'},\n",
       " 'START_S004_T1_La1': {'start_end_file': '/home/jovyan/work/videos/S004/T1/START_S004_T1_La1.csv',\n",
       "  'analysis_file': '/home/jovyan/work/output/START_S004_T1_La1/analysis.csv',\n",
       "  'path': '/home/jovyan/work/videos/S004/T1/Videos/START_S004_T1_La1.MP4',\n",
       "  'start_time': '18:20:38485',\n",
       "  'end_time': '18:25:38499'},\n",
       " 'START_S004_T1_La2': {'start_end_file': '/home/jovyan/work/videos/S004/T1/START_S004_T1_La2.csv',\n",
       "  'analysis_file': '/home/jovyan/work/output/START_S004_T1_La2/analysis.csv',\n",
       "  'path': '/home/jovyan/work/videos/S004/T1/Videos/START_S004_T1_La2.MP4',\n",
       "  'start_time': '18:56:55536',\n",
       "  'end_time': '19:1:55541'},\n",
       " 'START_S004_T1_LaCon_Ki': {'start_end_file': '/home/jovyan/work/videos/S004/T1/START_S004_T1_LaCon_Ki.csv',\n",
       "  'analysis_file': None,\n",
       "  'path': '/home/jovyan/work/videos/S004/T1/Videos/START_S004_T1_LaCon_Ki.MP4',\n",
       "  'start_time': '19:4:40247',\n",
       "  'end_time': '19:9:40262'},\n",
       " 'START_S004_T1_LaCon_Mu': {'start_end_file': '/home/jovyan/work/videos/S004/T1/START_S004_T1_LaCon_Mu.csv',\n",
       "  'analysis_file': None,\n",
       "  'path': '/home/jovyan/work/videos/S004/T1/Videos/START_S004_T1_LaCon_Mu.MP4',\n",
       "  'start_time': '19:13:22591',\n",
       "  'end_time': '19:18:22595'},\n",
       " 'START_S005_T1_La1': {'start_end_file': '/home/jovyan/work/videos/S005/T1/START_S005_T1_La1.csv',\n",
       "  'analysis_file': '/home/jovyan/work/output/START_S005_T1_La1/analysis.csv',\n",
       "  'path': '/home/jovyan/work/videos/S005/T1/Videos/START_S005_T1_La1.MP4',\n",
       "  'start_time': '17:13:5183',\n",
       "  'end_time': '17:18:5203'},\n",
       " 'START_S005_T1_La2': {'start_end_file': '/home/jovyan/work/videos/S005/T1/START_S005_T1_La2.csv',\n",
       "  'analysis_file': '/home/jovyan/work/output/START_S005_T1_La2/analysis.csv',\n",
       "  'path': '/home/jovyan/work/videos/S005/T1/Videos/START_S005_T1_La2.MP4',\n",
       "  'start_time': '17:52:16440',\n",
       "  'end_time': '17:57:16445'},\n",
       " 'START_S005_T1_LaCon_Ki': {'start_end_file': '/home/jovyan/work/videos/S005/T1/START_S005_T1_LaCon_Ki.csv',\n",
       "  'analysis_file': None,\n",
       "  'path': '/home/jovyan/work/videos/S005/T1/Videos/START_S005_T1_LaCon_Ki.MP4',\n",
       "  'start_time': '18:13:27580',\n",
       "  'end_time': '18:18:27585'},\n",
       " 'START_S006_T1_La1': {'start_end_file': '/home/jovyan/work/videos/S006/T1/START_S006_T1_La1.csv',\n",
       "  'analysis_file': '/home/jovyan/work/output/START_S006_T1_La1/analysis.csv',\n",
       "  'path': '/home/jovyan/work/videos/S006/T1/Videos/START_S006_T1_La1.MP4',\n",
       "  'start_time': '15:6:26903',\n",
       "  'end_time': '15:11:26909'},\n",
       " 'START_S006_T1_La2': {'start_end_file': '/home/jovyan/work/videos/S006/T1/START_S006_T1_La2.csv',\n",
       "  'analysis_file': '/home/jovyan/work/output/START_S006_T1_La2/analysis.csv',\n",
       "  'path': '/home/jovyan/work/videos/S006/T1/Videos/START_S006_T1_La2.MP4',\n",
       "  'start_time': '15:29:16286',\n",
       "  'end_time': '15:34:16301'},\n",
       " 'START_S006_T1_LaCon_Ki': {'start_end_file': '/home/jovyan/work/videos/S006/T1/START_S006_T1_LaCon_Ki.csv',\n",
       "  'analysis_file': None,\n",
       "  'path': '/home/jovyan/work/videos/S006/T1/Videos/START_S006_T1_LaCon_Ki.MP4',\n",
       "  'start_time': '15:48:24801',\n",
       "  'end_time': '15:53:24824'},\n",
       " 'START_S006_T1_LaCon_Mu': {'start_end_file': '/home/jovyan/work/videos/S006/T1/START_S006_T1_LaCon_Mu.csv',\n",
       "  'analysis_file': None,\n",
       "  'path': '/home/jovyan/work/videos/S006/T1/Videos/START_S006_T1_LaCon_Mu.MP4',\n",
       "  'start_time': '15:56:14885',\n",
       "  'end_time': '16:1:14901'},\n",
       " 'START_S002_T1': {'start_end_file': '/home/jovyan/work/videos/S002/T1/START_S002_T1_La1.csv',\n",
       "  'analysis_file': None,\n",
       "  'path': '/home/jovyan/work/videos/S002/T1/Videos/START_S002_T1.mp4',\n",
       "  'start_time': '17:18:26784',\n",
       "  'end_time': '17:23:26787'},\n",
       " 'START_S002_T1_La1': {'start_end_file': '/home/jovyan/work/videos/S002/T1/START_S002_T1_La1.csv',\n",
       "  'analysis_file': '/home/jovyan/work/output/START_S002_T1_La1/analysis.csv',\n",
       "  'path': '/home/jovyan/work/videos/S002/T1/Videos/START_S002_T1_La1.mp4',\n",
       "  'start_time': '17:18:26784',\n",
       "  'end_time': '17:23:26787'},\n",
       " 'START_S002_T1_La2': {'start_end_file': '/home/jovyan/work/videos/S002/T1/START_S002_T1_La2.csv',\n",
       "  'analysis_file': '/home/jovyan/work/output/START_S002_T1_La2/analysis.csv',\n",
       "  'path': '/home/jovyan/work/videos/S002/T1/Videos/START_S002_T1_La2.mp4',\n",
       "  'start_time': '17:38:26537',\n",
       "  'end_time': '17:43:26553'},\n",
       " 'START_S005_T1_LaCon_Mu_cut': {'start_end_file': None,\n",
       "  'analysis_file': None,\n",
       "  'path': '/home/jovyan/work/videos/S005/T1/Videos/START_S005_T1_LaCon_Mu_cut.mp4',\n",
       "  'start_time': '00:00:00',\n",
       "  'end_time': '00:00:00'}}"
      ]
     },
     "execution_count": 164,
     "metadata": {},
     "output_type": "execute_result"
    }
   ],
   "source": [
    "f_dict"
   ]
  },
  {
   "cell_type": "code",
   "execution_count": 392,
   "id": "59dd6388-9095-425f-8794-a03d5d260121",
   "metadata": {},
   "outputs": [],
   "source": [
    "times_dict = {\n",
    "    'START_S001_T1_La1': \"16:30:56\",\n",
    "    'START_S001_T1_La2': \"16:55:21\",\n",
    "    'START_S001_T1_LaCon_Ki': \"17:12:57\",\n",
    "    'START_S001_T1_LaCon_Mu': \"17:22:38\",\n",
    "    \n",
    "    'START_S004_T1_La1': \"00:00:00\",\n",
    "    'START_S004_T1_La2':  \"00:00:00\",\n",
    "    'START_S004_T1_LaCon_Ki':  \"00:00:00\",\n",
    "    'START_S004_T1_LaCon_Mu':  \"00:00:00\",\n",
    "    \n",
    "    'START_S005_T1_La1':  \"17:12:00\",\n",
    "    'START_S005_T1_La2':  \"00:00:00\",\n",
    "    'START_S005_T1_LaCon_Ki':  \"00:00:00\",\n",
    "    'START_S005_T1_LaCon_Mu_cut':  \"00:00:00\",\n",
    "    \n",
    "    'START_S006_T1_La1': \"15:06:05\",\n",
    "    'START_S006_T1_La2': \"15:28:55\",\n",
    "    'START_S006_T1_LaCon_Ki': \"15:48:04\",\n",
    "    'START_S006_T1_LaCon_Mu': \"15:55:54\",\n",
    "    \n",
    "    'START_S002_T1': \"16:59:00\",\n",
    "    'START_S002_T1_La1': \"00:00:00\",\n",
    "    'START_S002_T1_La2': \"00:00:00\"\n",
    "}\n"
   ]
  },
  {
   "cell_type": "code",
   "execution_count": 288,
   "id": "fa7751a9-4f37-46a0-8ae1-79aba24ca46a",
   "metadata": {},
   "outputs": [],
   "source": [
    "def save_video_frames(frames, output_file, width, height):\n",
    "    fourcc = cv2.VideoWriter_fourcc(*'mp4v')\n",
    "    out = cv2.VideoWriter('/home/jovyan/work/clipped.mp4', fourcc, 25, (width, height))\n",
    "    for frame in frames:\n",
    "        out.write(frame)\n",
    "    out.release()\n",
    "\n",
    "def clip_and_save_video(file_info, times_dict):\n",
    "    video_time = datetime.strptime(times_dict[file], '%H:%M:%f')\n",
    "    start_time = datetime.strptime(file_info['start_time'], '%H:%M:%f')\n",
    "    diff = (start_time - video_time).seconds\n",
    "\n",
    "    cap = cv2.VideoCapture(str(file_info['path']))\n",
    "    fps = int(cap.get(cv2.CAP_PROP_FPS))\n",
    "    idx = int(fps * diff)\n",
    "\n",
    "    width = int(cap.get(cv2.CAP_PROP_FRAME_WIDTH))\n",
    "    height = int(cap.get(cv2.CAP_PROP_FRAME_HEIGHT))\n",
    "    \n",
    "    cap.set(cv2.CAP_PROP_POS_FRAMES, idx)\n",
    "    \n",
    "    frames = []\n",
    "    while True:\n",
    "        ret, frame = cap.read()\n",
    "        if not ret:\n",
    "            break\n",
    "        frames.append(frame)\n",
    "\n",
    "    cap.release()\n",
    "\n",
    "    output_file = \"clipped.mp4\"\n",
    "    save_video_frames(frames, output_file, width, height)"
   ]
  },
  {
   "cell_type": "code",
   "execution_count": 334,
   "id": "e1df902a-9e93-45e9-b58f-283449cb0459",
   "metadata": {},
   "outputs": [],
   "source": [
    "def show_image(img):\n",
    "    plt.imshow(img, cmap='gray')\n",
    "    plt.show()\n",
    "\n",
    "def save_image(path, img):\n",
    "    cv2.imwrite(path, img)\n"
   ]
  },
  {
   "cell_type": "code",
   "execution_count": 394,
   "id": "9519bfc4-ff45-44e6-845d-ae23d4501d41",
   "metadata": {},
   "outputs": [],
   "source": [
    "def extract_frames(files_dict, times_dict):\n",
    "    for file, file_info in tqdm(files_dict.items()):\n",
    "        # video init\n",
    "        cap = cv2.VideoCapture(str(file_info['path']))        \n",
    "        fps, num_frames = int(cap.get(cv2.CAP_PROP_FPS)), int(cap.get(cv2.CAP_PROP_FRAME_COUNT))\n",
    "    \n",
    "        # time stamp computations\n",
    "        start_time = datetime.strptime(file_info['start_time'], '%H:%M:%f').time()\n",
    "        video_time = datetime.strptime(times_dict[file], '%H:%M:%S').time()\n",
    "        \n",
    "        if not video_time == datetime.strptime('00:00:00', '%H:%M:%S').time():\n",
    "            start_datetime = datetime.combine(datetime.today(), start_time)\n",
    "            video_datetime = datetime.combine(datetime.today(), video_time)\n",
    "            diff = (start_datetime - video_datetime).seconds\n",
    "        else: \n",
    "            diff = 0\n",
    "        start_idx = int(fps*diff)\n",
    "    \n",
    "        # init vcv2 parameters\n",
    "        cap = cv2.VideoCapture(str(file_info['path']))        \n",
    "        fps, num_frames = int(cap.get(cv2.CAP_PROP_FPS)), int(cap.get(cv2.CAP_PROP_FRAME_COUNT))\n",
    "    \n",
    "        # set output directories for saving\n",
    "        output_dir = Path(f'/home/jovyan/work/output/frames/{file}')\n",
    "        if not output_dir.exists():\n",
    "            output_dir.mkdir(parents=True, exist_ok=True)\n",
    "    \n",
    "        # get analysis file\n",
    "        df = pd.read_csv(file_info['analysis_file'])\n",
    "        df = df['timestamp_start_short']    \n",
    "    \n",
    "        # extract frames for timestamps from analysis file\n",
    "        for index, value in df.items():\n",
    "            frame_idx = start_idx + int(value * fps)\n",
    "            if frame_idx >= num_frames:\n",
    "                break\n",
    "            cap.set(cv2.CAP_PROP_POS_FRAMES, frame_idx)\n",
    "            _, frame = cap.read()\n",
    "            res_path = str(output_dir / f'{file}_frame_{index}.jpg')\n",
    "            save_image(res_path, frame)"
   ]
  },
  {
   "cell_type": "code",
   "execution_count": 395,
   "id": "da4e3bb2-a11e-4ede-b546-9fbe264a10ce",
   "metadata": {},
   "outputs": [
    {
     "name": "stderr",
     "output_type": "stream",
     "text": [
      " 11%|████████▊                                                                           | 2/19 [00:20<02:53, 10.19s/it]\n"
     ]
    },
    {
     "ename": "ValueError",
     "evalue": "Invalid file path or buffer object type: <class 'NoneType'>",
     "output_type": "error",
     "traceback": [
      "\u001b[0;31m---------------------------------------------------------------------------\u001b[0m",
      "\u001b[0;31mValueError\u001b[0m                                Traceback (most recent call last)",
      "Cell \u001b[0;32mIn[395], line 1\u001b[0m\n\u001b[0;32m----> 1\u001b[0m \u001b[43mextract_frames\u001b[49m\u001b[43m(\u001b[49m\u001b[43mf_dict\u001b[49m\u001b[43m,\u001b[49m\u001b[43m \u001b[49m\u001b[43mtimes_dict\u001b[49m\u001b[43m)\u001b[49m\n",
      "Cell \u001b[0;32mIn[394], line 29\u001b[0m, in \u001b[0;36mextract_frames\u001b[0;34m(files_dict, times_dict)\u001b[0m\n\u001b[1;32m     26\u001b[0m     output_dir\u001b[38;5;241m.\u001b[39mmkdir(parents\u001b[38;5;241m=\u001b[39m\u001b[38;5;28;01mTrue\u001b[39;00m, exist_ok\u001b[38;5;241m=\u001b[39m\u001b[38;5;28;01mTrue\u001b[39;00m)\n\u001b[1;32m     28\u001b[0m \u001b[38;5;66;03m# get analysis file\u001b[39;00m\n\u001b[0;32m---> 29\u001b[0m df \u001b[38;5;241m=\u001b[39m \u001b[43mpd\u001b[49m\u001b[38;5;241;43m.\u001b[39;49m\u001b[43mread_csv\u001b[49m\u001b[43m(\u001b[49m\u001b[43mfile_info\u001b[49m\u001b[43m[\u001b[49m\u001b[38;5;124;43m'\u001b[39;49m\u001b[38;5;124;43manalysis_file\u001b[39;49m\u001b[38;5;124;43m'\u001b[39;49m\u001b[43m]\u001b[49m\u001b[43m)\u001b[49m\n\u001b[1;32m     30\u001b[0m df \u001b[38;5;241m=\u001b[39m df[\u001b[38;5;124m'\u001b[39m\u001b[38;5;124mtimestamp_start_short\u001b[39m\u001b[38;5;124m'\u001b[39m]    \n\u001b[1;32m     32\u001b[0m \u001b[38;5;66;03m# extract frames for timestamps from analysis file\u001b[39;00m\n",
      "File \u001b[0;32m/opt/conda/lib/python3.11/site-packages/pandas/io/parsers/readers.py:1026\u001b[0m, in \u001b[0;36mread_csv\u001b[0;34m(filepath_or_buffer, sep, delimiter, header, names, index_col, usecols, dtype, engine, converters, true_values, false_values, skipinitialspace, skiprows, skipfooter, nrows, na_values, keep_default_na, na_filter, verbose, skip_blank_lines, parse_dates, infer_datetime_format, keep_date_col, date_parser, date_format, dayfirst, cache_dates, iterator, chunksize, compression, thousands, decimal, lineterminator, quotechar, quoting, doublequote, escapechar, comment, encoding, encoding_errors, dialect, on_bad_lines, delim_whitespace, low_memory, memory_map, float_precision, storage_options, dtype_backend)\u001b[0m\n\u001b[1;32m   1013\u001b[0m kwds_defaults \u001b[38;5;241m=\u001b[39m _refine_defaults_read(\n\u001b[1;32m   1014\u001b[0m     dialect,\n\u001b[1;32m   1015\u001b[0m     delimiter,\n\u001b[0;32m   (...)\u001b[0m\n\u001b[1;32m   1022\u001b[0m     dtype_backend\u001b[38;5;241m=\u001b[39mdtype_backend,\n\u001b[1;32m   1023\u001b[0m )\n\u001b[1;32m   1024\u001b[0m kwds\u001b[38;5;241m.\u001b[39mupdate(kwds_defaults)\n\u001b[0;32m-> 1026\u001b[0m \u001b[38;5;28;01mreturn\u001b[39;00m \u001b[43m_read\u001b[49m\u001b[43m(\u001b[49m\u001b[43mfilepath_or_buffer\u001b[49m\u001b[43m,\u001b[49m\u001b[43m \u001b[49m\u001b[43mkwds\u001b[49m\u001b[43m)\u001b[49m\n",
      "File \u001b[0;32m/opt/conda/lib/python3.11/site-packages/pandas/io/parsers/readers.py:620\u001b[0m, in \u001b[0;36m_read\u001b[0;34m(filepath_or_buffer, kwds)\u001b[0m\n\u001b[1;32m    617\u001b[0m _validate_names(kwds\u001b[38;5;241m.\u001b[39mget(\u001b[38;5;124m\"\u001b[39m\u001b[38;5;124mnames\u001b[39m\u001b[38;5;124m\"\u001b[39m, \u001b[38;5;28;01mNone\u001b[39;00m))\n\u001b[1;32m    619\u001b[0m \u001b[38;5;66;03m# Create the parser.\u001b[39;00m\n\u001b[0;32m--> 620\u001b[0m parser \u001b[38;5;241m=\u001b[39m \u001b[43mTextFileReader\u001b[49m\u001b[43m(\u001b[49m\u001b[43mfilepath_or_buffer\u001b[49m\u001b[43m,\u001b[49m\u001b[43m \u001b[49m\u001b[38;5;241;43m*\u001b[39;49m\u001b[38;5;241;43m*\u001b[39;49m\u001b[43mkwds\u001b[49m\u001b[43m)\u001b[49m\n\u001b[1;32m    622\u001b[0m \u001b[38;5;28;01mif\u001b[39;00m chunksize \u001b[38;5;129;01mor\u001b[39;00m iterator:\n\u001b[1;32m    623\u001b[0m     \u001b[38;5;28;01mreturn\u001b[39;00m parser\n",
      "File \u001b[0;32m/opt/conda/lib/python3.11/site-packages/pandas/io/parsers/readers.py:1620\u001b[0m, in \u001b[0;36mTextFileReader.__init__\u001b[0;34m(self, f, engine, **kwds)\u001b[0m\n\u001b[1;32m   1617\u001b[0m     \u001b[38;5;28mself\u001b[39m\u001b[38;5;241m.\u001b[39moptions[\u001b[38;5;124m\"\u001b[39m\u001b[38;5;124mhas_index_names\u001b[39m\u001b[38;5;124m\"\u001b[39m] \u001b[38;5;241m=\u001b[39m kwds[\u001b[38;5;124m\"\u001b[39m\u001b[38;5;124mhas_index_names\u001b[39m\u001b[38;5;124m\"\u001b[39m]\n\u001b[1;32m   1619\u001b[0m \u001b[38;5;28mself\u001b[39m\u001b[38;5;241m.\u001b[39mhandles: IOHandles \u001b[38;5;241m|\u001b[39m \u001b[38;5;28;01mNone\u001b[39;00m \u001b[38;5;241m=\u001b[39m \u001b[38;5;28;01mNone\u001b[39;00m\n\u001b[0;32m-> 1620\u001b[0m \u001b[38;5;28mself\u001b[39m\u001b[38;5;241m.\u001b[39m_engine \u001b[38;5;241m=\u001b[39m \u001b[38;5;28;43mself\u001b[39;49m\u001b[38;5;241;43m.\u001b[39;49m\u001b[43m_make_engine\u001b[49m\u001b[43m(\u001b[49m\u001b[43mf\u001b[49m\u001b[43m,\u001b[49m\u001b[43m \u001b[49m\u001b[38;5;28;43mself\u001b[39;49m\u001b[38;5;241;43m.\u001b[39;49m\u001b[43mengine\u001b[49m\u001b[43m)\u001b[49m\n",
      "File \u001b[0;32m/opt/conda/lib/python3.11/site-packages/pandas/io/parsers/readers.py:1880\u001b[0m, in \u001b[0;36mTextFileReader._make_engine\u001b[0;34m(self, f, engine)\u001b[0m\n\u001b[1;32m   1878\u001b[0m     \u001b[38;5;28;01mif\u001b[39;00m \u001b[38;5;124m\"\u001b[39m\u001b[38;5;124mb\u001b[39m\u001b[38;5;124m\"\u001b[39m \u001b[38;5;129;01mnot\u001b[39;00m \u001b[38;5;129;01min\u001b[39;00m mode:\n\u001b[1;32m   1879\u001b[0m         mode \u001b[38;5;241m+\u001b[39m\u001b[38;5;241m=\u001b[39m \u001b[38;5;124m\"\u001b[39m\u001b[38;5;124mb\u001b[39m\u001b[38;5;124m\"\u001b[39m\n\u001b[0;32m-> 1880\u001b[0m \u001b[38;5;28mself\u001b[39m\u001b[38;5;241m.\u001b[39mhandles \u001b[38;5;241m=\u001b[39m \u001b[43mget_handle\u001b[49m\u001b[43m(\u001b[49m\n\u001b[1;32m   1881\u001b[0m \u001b[43m    \u001b[49m\u001b[43mf\u001b[49m\u001b[43m,\u001b[49m\n\u001b[1;32m   1882\u001b[0m \u001b[43m    \u001b[49m\u001b[43mmode\u001b[49m\u001b[43m,\u001b[49m\n\u001b[1;32m   1883\u001b[0m \u001b[43m    \u001b[49m\u001b[43mencoding\u001b[49m\u001b[38;5;241;43m=\u001b[39;49m\u001b[38;5;28;43mself\u001b[39;49m\u001b[38;5;241;43m.\u001b[39;49m\u001b[43moptions\u001b[49m\u001b[38;5;241;43m.\u001b[39;49m\u001b[43mget\u001b[49m\u001b[43m(\u001b[49m\u001b[38;5;124;43m\"\u001b[39;49m\u001b[38;5;124;43mencoding\u001b[39;49m\u001b[38;5;124;43m\"\u001b[39;49m\u001b[43m,\u001b[49m\u001b[43m \u001b[49m\u001b[38;5;28;43;01mNone\u001b[39;49;00m\u001b[43m)\u001b[49m\u001b[43m,\u001b[49m\n\u001b[1;32m   1884\u001b[0m \u001b[43m    \u001b[49m\u001b[43mcompression\u001b[49m\u001b[38;5;241;43m=\u001b[39;49m\u001b[38;5;28;43mself\u001b[39;49m\u001b[38;5;241;43m.\u001b[39;49m\u001b[43moptions\u001b[49m\u001b[38;5;241;43m.\u001b[39;49m\u001b[43mget\u001b[49m\u001b[43m(\u001b[49m\u001b[38;5;124;43m\"\u001b[39;49m\u001b[38;5;124;43mcompression\u001b[39;49m\u001b[38;5;124;43m\"\u001b[39;49m\u001b[43m,\u001b[49m\u001b[43m \u001b[49m\u001b[38;5;28;43;01mNone\u001b[39;49;00m\u001b[43m)\u001b[49m\u001b[43m,\u001b[49m\n\u001b[1;32m   1885\u001b[0m \u001b[43m    \u001b[49m\u001b[43mmemory_map\u001b[49m\u001b[38;5;241;43m=\u001b[39;49m\u001b[38;5;28;43mself\u001b[39;49m\u001b[38;5;241;43m.\u001b[39;49m\u001b[43moptions\u001b[49m\u001b[38;5;241;43m.\u001b[39;49m\u001b[43mget\u001b[49m\u001b[43m(\u001b[49m\u001b[38;5;124;43m\"\u001b[39;49m\u001b[38;5;124;43mmemory_map\u001b[39;49m\u001b[38;5;124;43m\"\u001b[39;49m\u001b[43m,\u001b[49m\u001b[43m \u001b[49m\u001b[38;5;28;43;01mFalse\u001b[39;49;00m\u001b[43m)\u001b[49m\u001b[43m,\u001b[49m\n\u001b[1;32m   1886\u001b[0m \u001b[43m    \u001b[49m\u001b[43mis_text\u001b[49m\u001b[38;5;241;43m=\u001b[39;49m\u001b[43mis_text\u001b[49m\u001b[43m,\u001b[49m\n\u001b[1;32m   1887\u001b[0m \u001b[43m    \u001b[49m\u001b[43merrors\u001b[49m\u001b[38;5;241;43m=\u001b[39;49m\u001b[38;5;28;43mself\u001b[39;49m\u001b[38;5;241;43m.\u001b[39;49m\u001b[43moptions\u001b[49m\u001b[38;5;241;43m.\u001b[39;49m\u001b[43mget\u001b[49m\u001b[43m(\u001b[49m\u001b[38;5;124;43m\"\u001b[39;49m\u001b[38;5;124;43mencoding_errors\u001b[39;49m\u001b[38;5;124;43m\"\u001b[39;49m\u001b[43m,\u001b[49m\u001b[43m \u001b[49m\u001b[38;5;124;43m\"\u001b[39;49m\u001b[38;5;124;43mstrict\u001b[39;49m\u001b[38;5;124;43m\"\u001b[39;49m\u001b[43m)\u001b[49m\u001b[43m,\u001b[49m\n\u001b[1;32m   1888\u001b[0m \u001b[43m    \u001b[49m\u001b[43mstorage_options\u001b[49m\u001b[38;5;241;43m=\u001b[39;49m\u001b[38;5;28;43mself\u001b[39;49m\u001b[38;5;241;43m.\u001b[39;49m\u001b[43moptions\u001b[49m\u001b[38;5;241;43m.\u001b[39;49m\u001b[43mget\u001b[49m\u001b[43m(\u001b[49m\u001b[38;5;124;43m\"\u001b[39;49m\u001b[38;5;124;43mstorage_options\u001b[39;49m\u001b[38;5;124;43m\"\u001b[39;49m\u001b[43m,\u001b[49m\u001b[43m \u001b[49m\u001b[38;5;28;43;01mNone\u001b[39;49;00m\u001b[43m)\u001b[49m\u001b[43m,\u001b[49m\n\u001b[1;32m   1889\u001b[0m \u001b[43m\u001b[49m\u001b[43m)\u001b[49m\n\u001b[1;32m   1890\u001b[0m \u001b[38;5;28;01massert\u001b[39;00m \u001b[38;5;28mself\u001b[39m\u001b[38;5;241m.\u001b[39mhandles \u001b[38;5;129;01mis\u001b[39;00m \u001b[38;5;129;01mnot\u001b[39;00m \u001b[38;5;28;01mNone\u001b[39;00m\n\u001b[1;32m   1891\u001b[0m f \u001b[38;5;241m=\u001b[39m \u001b[38;5;28mself\u001b[39m\u001b[38;5;241m.\u001b[39mhandles\u001b[38;5;241m.\u001b[39mhandle\n",
      "File \u001b[0;32m/opt/conda/lib/python3.11/site-packages/pandas/io/common.py:728\u001b[0m, in \u001b[0;36mget_handle\u001b[0;34m(path_or_buf, mode, encoding, compression, memory_map, is_text, errors, storage_options)\u001b[0m\n\u001b[1;32m    725\u001b[0m     codecs\u001b[38;5;241m.\u001b[39mlookup_error(errors)\n\u001b[1;32m    727\u001b[0m \u001b[38;5;66;03m# open URLs\u001b[39;00m\n\u001b[0;32m--> 728\u001b[0m ioargs \u001b[38;5;241m=\u001b[39m \u001b[43m_get_filepath_or_buffer\u001b[49m\u001b[43m(\u001b[49m\n\u001b[1;32m    729\u001b[0m \u001b[43m    \u001b[49m\u001b[43mpath_or_buf\u001b[49m\u001b[43m,\u001b[49m\n\u001b[1;32m    730\u001b[0m \u001b[43m    \u001b[49m\u001b[43mencoding\u001b[49m\u001b[38;5;241;43m=\u001b[39;49m\u001b[43mencoding\u001b[49m\u001b[43m,\u001b[49m\n\u001b[1;32m    731\u001b[0m \u001b[43m    \u001b[49m\u001b[43mcompression\u001b[49m\u001b[38;5;241;43m=\u001b[39;49m\u001b[43mcompression\u001b[49m\u001b[43m,\u001b[49m\n\u001b[1;32m    732\u001b[0m \u001b[43m    \u001b[49m\u001b[43mmode\u001b[49m\u001b[38;5;241;43m=\u001b[39;49m\u001b[43mmode\u001b[49m\u001b[43m,\u001b[49m\n\u001b[1;32m    733\u001b[0m \u001b[43m    \u001b[49m\u001b[43mstorage_options\u001b[49m\u001b[38;5;241;43m=\u001b[39;49m\u001b[43mstorage_options\u001b[49m\u001b[43m,\u001b[49m\n\u001b[1;32m    734\u001b[0m \u001b[43m\u001b[49m\u001b[43m)\u001b[49m\n\u001b[1;32m    736\u001b[0m handle \u001b[38;5;241m=\u001b[39m ioargs\u001b[38;5;241m.\u001b[39mfilepath_or_buffer\n\u001b[1;32m    737\u001b[0m handles: \u001b[38;5;28mlist\u001b[39m[BaseBuffer]\n",
      "File \u001b[0;32m/opt/conda/lib/python3.11/site-packages/pandas/io/common.py:472\u001b[0m, in \u001b[0;36m_get_filepath_or_buffer\u001b[0;34m(filepath_or_buffer, encoding, compression, mode, storage_options)\u001b[0m\n\u001b[1;32m    468\u001b[0m \u001b[38;5;28;01mif\u001b[39;00m \u001b[38;5;129;01mnot\u001b[39;00m (\n\u001b[1;32m    469\u001b[0m     \u001b[38;5;28mhasattr\u001b[39m(filepath_or_buffer, \u001b[38;5;124m\"\u001b[39m\u001b[38;5;124mread\u001b[39m\u001b[38;5;124m\"\u001b[39m) \u001b[38;5;129;01mor\u001b[39;00m \u001b[38;5;28mhasattr\u001b[39m(filepath_or_buffer, \u001b[38;5;124m\"\u001b[39m\u001b[38;5;124mwrite\u001b[39m\u001b[38;5;124m\"\u001b[39m)\n\u001b[1;32m    470\u001b[0m ):\n\u001b[1;32m    471\u001b[0m     msg \u001b[38;5;241m=\u001b[39m \u001b[38;5;124mf\u001b[39m\u001b[38;5;124m\"\u001b[39m\u001b[38;5;124mInvalid file path or buffer object type: \u001b[39m\u001b[38;5;132;01m{\u001b[39;00m\u001b[38;5;28mtype\u001b[39m(filepath_or_buffer)\u001b[38;5;132;01m}\u001b[39;00m\u001b[38;5;124m\"\u001b[39m\n\u001b[0;32m--> 472\u001b[0m     \u001b[38;5;28;01mraise\u001b[39;00m \u001b[38;5;167;01mValueError\u001b[39;00m(msg)\n\u001b[1;32m    474\u001b[0m \u001b[38;5;28;01mreturn\u001b[39;00m IOArgs(\n\u001b[1;32m    475\u001b[0m     filepath_or_buffer\u001b[38;5;241m=\u001b[39mfilepath_or_buffer,\n\u001b[1;32m    476\u001b[0m     encoding\u001b[38;5;241m=\u001b[39mencoding,\n\u001b[0;32m   (...)\u001b[0m\n\u001b[1;32m    479\u001b[0m     mode\u001b[38;5;241m=\u001b[39mmode,\n\u001b[1;32m    480\u001b[0m )\n",
      "\u001b[0;31mValueError\u001b[0m: Invalid file path or buffer object type: <class 'NoneType'>"
     ]
    }
   ],
   "source": [
    "extract_frames(f_dict, times_dict)"
   ]
  },
  {
   "cell_type": "raw",
   "id": "185ae376-2a2b-4213-8c56-4c944f69c3b9",
   "metadata": {},
   "source": [
    "cap.set(cv2.CAP_PROP_POS_FRAMES, frame_idx)\n",
    "_, frame = cap.read()\n",
    "res_path = str(output_dir / f'{file}_frame_{index}.jpg')\n",
    "show_image(frame)\n",
    "\n",
    "\n",
    "for file, file_info in f_dict.items():\n",
    "    stamp = datetime.strptime(file_info['start_time'], '%H:%M:%f').time()\n",
    "    milli = stamp.microsecond  \n",
    "    #print(milli)\n",
    "\n",
    "    minutes = int(milli / 1000 / 60)\n",
    "    seconds = int(((milli / 1000 / 60) - int(milli / 1000 / 60)) * 60)\n",
    "    milli = int((((milli / 1000) -  int(milli / 1000)) * 1000))\n",
    "\n",
    "    hours = stamp.hour\n",
    "    #print(milli)\n",
    "    start_time = datetime(year=1900, month=1, day=1, hour=hours, minute=minutes, second=seconds).time()\n",
    "    print(start_time)\n",
    "    \n",
    "    video_time = datetime.strptime(times_dict[file], '%H:%M:%S').time()\n",
    "    print(video_time)\n",
    "\n",
    "    start_datetime = datetime.combine(time_obj.date(), time_obj.time())\n",
    "    video_datetime = datetime.combine(time_obj.date(), video_time)\n",
    "\n",
    "    #print(start_datetime)\n",
    "    #print(video_datetime)\n",
    "\n",
    "    diff = start_datetime - video_datetime\n",
    "\n",
    "    print(diff)\n",
    "    \n",
    "\n",
    "    \n",
    "\n",
    "    #print(time_obj)"
   ]
  },
  {
   "cell_type": "code",
   "execution_count": 238,
   "id": "796c3c61-e74b-4d0c-8fd0-20e38a9b682e",
   "metadata": {},
   "outputs": [
    {
     "name": "stdout",
     "output_type": "stream",
     "text": [
      "3 59 199\n"
     ]
    }
   ],
   "source": [
    "milli = 239200\n",
    "seconds = milli / 1000\n",
    "\n",
    "minutes = int(milli / 1000 / 60)\n",
    "seconds = int(((milli / 1000 / 60 ) - int(milli / 1000 / 60) ) * 60)\n",
    "milli = int((((milli / 1000) -  int(milli / 1000) )*1000))\n",
    "\n",
    "print(minutes, seconds, milli)"
   ]
  },
  {
   "cell_type": "code",
   "execution_count": 168,
   "id": "8a417361-a47f-440d-a946-a7d70c916432",
   "metadata": {},
   "outputs": [
    {
     "data": {
      "text/plain": [
       "{'START_S001_T1_La1': '16:30:56',\n",
       " 'START_S001_T1_La2': '16:55:21',\n",
       " 'START_S001_T1_LaCon_Ki': '17:12:57',\n",
       " 'START_S001_T1_LaCon_Mu': '17:22:38',\n",
       " 'START_S004_T1_La1': '18:20:38485',\n",
       " 'START_S004_T1_La2': '18:56:55536',\n",
       " 'START_S004_T1_LaCon_Ki': '19:4:40247',\n",
       " 'START_S004_T1_LaCon_Mu': '19:13:22591',\n",
       " 'START_S005_T1_La1': '17:12:00',\n",
       " 'START_S005_T1_La2': '17:52:16440',\n",
       " 'START_S005_T1_LaCon_Ki': '18:13:27580',\n",
       " 'START_S005_T1_LaCon_Mu_cut': '00:00:00',\n",
       " 'START_S006_T1_La1': '15:06:05',\n",
       " 'START_S006_T1_La2': '15:28:55',\n",
       " 'START_S006_T1_LaCon_Ki': '15:48:04',\n",
       " 'START_S006_T1_LaCon_Mu': '15:55:54',\n",
       " 'START_S002_T1': '16:59:00',\n",
       " 'START_S002_T1_La1': '17:18:26784',\n",
       " 'START_S002_T1_La2': '17:38:26537'}"
      ]
     },
     "execution_count": 168,
     "metadata": {},
     "output_type": "execute_result"
    }
   ],
   "source": [
    "times_dict"
   ]
  },
  {
   "cell_type": "code",
   "execution_count": 117,
   "id": "2fc2a008-fbf1-4a70-ab6d-d614b88b457f",
   "metadata": {},
   "outputs": [
    {
     "name": "stderr",
     "output_type": "stream",
     "text": [
      "  0%|                                                                                            | 0/19 [00:00<?, ?it/s]"
     ]
    },
    {
     "name": "stdout",
     "output_type": "stream",
     "text": [
      "START_S001_T1_La1\n"
     ]
    },
    {
     "name": "stderr",
     "output_type": "stream",
     "text": [
      "  0%|                                                                                            | 0/19 [00:12<?, ?it/s]"
     ]
    },
    {
     "name": "stdout",
     "output_type": "stream",
     "text": [
      "finished\n"
     ]
    },
    {
     "name": "stderr",
     "output_type": "stream",
     "text": [
      "\n"
     ]
    }
   ],
   "source": [
    "for file, file_info in tqdm(f_dict.items()):\n",
    "    print(file)\n",
    "    clip_and_save_video(file_info, times_dict)\n",
    "    break\n",
    "print('finished')"
   ]
  },
  {
   "cell_type": "code",
   "execution_count": 439,
   "id": "fb16f56f-92c5-476a-86b7-adffb13068a9",
   "metadata": {},
   "outputs": [
    {
     "name": "stderr",
     "output_type": "stream",
     "text": [
      "  0%|                                                                                            | 0/19 [00:00<?, ?it/s]"
     ]
    },
    {
     "name": "stdout",
     "output_type": "stream",
     "text": [
      "START_S001_T1_La1\n"
     ]
    },
    {
     "name": "stderr",
     "output_type": "stream",
     "text": [
      "  0%|                                                                                            | 0/19 [00:02<?, ?it/s]\n"
     ]
    },
    {
     "ename": "AttributeError",
     "evalue": "'NoneType' object has no attribute 'shape'",
     "output_type": "error",
     "traceback": [
      "\u001b[0;31m---------------------------------------------------------------------------\u001b[0m",
      "\u001b[0;31mAttributeError\u001b[0m                            Traceback (most recent call last)",
      "Cell \u001b[0;32mIn[439], line 23\u001b[0m\n\u001b[1;32m     20\u001b[0m cap\u001b[38;5;241m.\u001b[39mrelease()\n\u001b[1;32m     22\u001b[0m output_file \u001b[38;5;241m=\u001b[39m \u001b[38;5;124m'\u001b[39m\u001b[38;5;124mclipped_video.mp4\u001b[39m\u001b[38;5;124m'\u001b[39m  \u001b[38;5;66;03m# Change the filename and extension as needed\u001b[39;00m\n\u001b[0;32m---> 23\u001b[0m save_video_frames(frames, output_file, fps, \u001b[43mframe\u001b[49m\u001b[38;5;241;43m.\u001b[39;49m\u001b[43mshape\u001b[49m[\u001b[38;5;241m1\u001b[39m], frame\u001b[38;5;241m.\u001b[39mshape[\u001b[38;5;241m0\u001b[39m])\n\u001b[1;32m     26\u001b[0m \u001b[38;5;28;01mbreak\u001b[39;00m\n\u001b[1;32m     31\u001b[0m \u001b[38;5;250m\u001b[39m\u001b[38;5;124;03m\"\"\"\u001b[39;00m\n\u001b[1;32m     32\u001b[0m \u001b[38;5;124;03m#print(v)\u001b[39;00m\n\u001b[1;32m     33\u001b[0m \u001b[38;5;124;03mc\u001b[39;00m\n\u001b[0;32m   (...)\u001b[0m\n\u001b[1;32m     54\u001b[0m \u001b[38;5;124;03m    save_image(res_path, frame)\u001b[39;00m\n\u001b[1;32m     55\u001b[0m \u001b[38;5;124;03m\"\"\"\u001b[39;00m\n",
      "\u001b[0;31mAttributeError\u001b[0m: 'NoneType' object has no attribute 'shape'"
     ]
    }
   ],
   "source": [
    "for file, file_info in tqdm(f_dict.items()):\n",
    "    print(file)\n",
    "    video_time = datetime.strptime(times_dict[file], '%H:%M:%S.%f')\n",
    "    start_time = datetime.strptime(file_info['start_time'], '%H:%M:%S.%f')\n",
    "    diff = (start_time - video_time).seconds\n",
    "\n",
    "    cap = cv2.VideoCapture(str(file_info['path']))\n",
    "    fps, num_frames = int(cap.get(cv2.CAP_PROP_FPS)), int(cap.get(cv2.CAP_PROP_FRAME_COUNT))\n",
    "    idx = (fps*diff)\n",
    "        \n",
    "    for f in (range(num_frames)):\n",
    "        cap.set(cv2.CAP_PROP_POS_FRAMES, idx)\n",
    "        _, frame = cap.read()\n",
    "        show_image(frame)\n",
    "        break\n",
    "    \n",
    "    break\n",
    "        \n",
    "    \n",
    "    \n",
    "    \n",
    "    \"\"\"\n",
    "    #print(v)\n",
    "    c\n",
    "    \n",
    "    print('fps: ',fps)\n",
    "    print('num_frames: ', num_frames)\n",
    "\n",
    "    sec = 3.5\n",
    "\n",
    "    for f in (range(num_frames)):\n",
    "        cap.set(cv2.CAP_PROP_POS_FRAMES, fps*sec)\n",
    "        _, frame = cap.read()\n",
    "        show_image(frame)\n",
    "        break\n",
    "    break\n",
    "    #show_image()\n",
    "    \n",
    "    \n",
    "  \n",
    "    for f in tqdm(rangenum_frames)):\n",
    "        cap.set(cv2.CAP_PROP_POS_FRAMES, f)\n",
    "        ret, frame = cap.read()\n",
    "        res_path = './' + str(path) + f'/frame_{f}.jpg'\n",
    "        save_image(res_path, frame)\n",
    "    \"\"\""
   ]
  },
  {
   "cell_type": "code",
   "execution_count": null,
   "id": "6d11d477-3b71-4d90-8eaa-1f29ddd3ec4c",
   "metadata": {},
   "outputs": [],
   "source": []
  },
  {
   "cell_type": "code",
   "execution_count": null,
   "id": "66c84b82-c730-4209-8c19-69cc9fac8bc8",
   "metadata": {},
   "outputs": [],
   "source": []
  },
  {
   "cell_type": "code",
   "execution_count": null,
   "id": "8b1faa16-d146-4d94-a37d-736f12b2a5e0",
   "metadata": {},
   "outputs": [],
   "source": []
  },
  {
   "cell_type": "code",
   "execution_count": null,
   "id": "7f444aec-44ae-4c6c-835f-02ae935a351d",
   "metadata": {},
   "outputs": [],
   "source": [
    "\n",
    "# Dataset-specific paths\n",
    "CURRENT_PATH = BASE_PATH / DATA\n",
    "LABELS = [f.name for f in CURRENT_PATH.iterdir() if f.is_dir()]\n",
    "IMAGE_PATHS = list(CURRENT_PATH.rglob('*.jpg'))\n"
   ]
  },
  {
   "cell_type": "markdown",
   "id": "1a3440d6-30a9-48c3-820f-8618ca51ec62",
   "metadata": {},
   "source": [
    "### Define paths"
   ]
  },
  {
   "cell_type": "code",
   "execution_count": 3,
   "id": "d1af98ff-4d75-488a-9f65-870e934b4bb6",
   "metadata": {},
   "outputs": [],
   "source": [
    "in_path = Path('./data/in/videos')\n",
    "out_path = Path('./data/out/videos')"
   ]
  },
  {
   "cell_type": "markdown",
   "id": "469395b0-12f5-42ed-ab33-d283b7e988eb",
   "metadata": {},
   "source": [
    "### Utilities"
   ]
  },
  {
   "cell_type": "code",
   "execution_count": 4,
   "id": "d76c9b53-a3e8-4155-bb17-62c560d05e37",
   "metadata": {},
   "outputs": [],
   "source": []
  },
  {
   "cell_type": "code",
   "execution_count": 5,
   "id": "562ee465-6acb-4195-86a0-bcba81aa707c",
   "metadata": {},
   "outputs": [],
   "source": [
    "def manage_and_create_paths(image_path, out_path):\n",
    "    res = out_path / image_path.stem\n",
    "    if not res.parent.exists():\n",
    "        res.mkdir(parents=True, exist_ok=True)\n",
    "    return res\n",
    "\n",
    "def create_output_path(path, out_path):\n",
    "    return str(manage_and_create_paths(path, out_path)) + '/' + path.name"
   ]
  },
  {
   "cell_type": "markdown",
   "id": "68cd49d1-d1fe-45d1-a8e4-5b49dfcffc95",
   "metadata": {},
   "source": [
    "### Extract frames"
   ]
  },
  {
   "cell_type": "code",
   "execution_count": 19,
   "id": "624ef513-f70d-4e9c-8bd2-7e2409dc9053",
   "metadata": {},
   "outputs": [
    {
     "name": "stdout",
     "output_type": "stream",
     "text": [
      "frames per second:  29.97002997002997\n",
      "total number of frames:  2196\n"
     ]
    },
    {
     "name": "stderr",
     "output_type": "stream",
     "text": [
      "100%|██████████| 2196/2196 [00:44<00:00, 49.80it/s]\n"
     ]
    }
   ],
   "source": [
    "for p in (in_path.rglob('*.mp4')):\n",
    "    print(p)\n",
    "    path = manage_and_create_paths(p, out_path)\n",
    "    cap = cv2.VideoCapture(str(p))\n",
    "    fps = cap.get(cv2.CAP_PROP_FPS)\n",
    "    print('frames per second: ',fps)\n",
    "    l = int(cap.get(cv2.CAP_PROP_FRAME_COUNT))\n",
    "    print('total number of frames: ', l)\n",
    "    \n",
    "    for f in tqdm(range(l)):\n",
    "        cap.set(cv2.CAP_PROP_POS_FRAMES, f)\n",
    "        ret, frame = cap.read()\n",
    "        res_path = './' + str(path) + f'/frame_{f}.jpg'\n",
    "        save_image(res_path, frame)"
   ]
  },
  {
   "cell_type": "markdown",
   "id": "feb71460-3f3b-4a9d-bd87-3b609f787c6c",
   "metadata": {},
   "source": [
    "## In case multiprocessing works:"
   ]
  },
  {
   "cell_type": "code",
   "execution_count": null,
   "id": "f495351d-481f-4c04-b2cb-1aedc3bba1fe",
   "metadata": {},
   "outputs": [],
   "source": [
    "import cv2\n",
    "from pathlib import Path\n",
    "from tqdm import tqdm\n",
    "from multiprocessing import Pool, cpu_count\n",
    "\n",
    "def process_video(video_path, out_path):\n",
    "    cap = cv2.VideoCapture(str(video_path))\n",
    "    fps = cap.get(cv2.CAP_PROP_FPS)\n",
    "    l = int(cap.get(cv2.CAP_PROP_FRAME_COUNT))\n",
    "    frames = []\n",
    "    for f in range(l):\n",
    "        cap.set(cv2.CAP_PROP_POS_FRAMES, f)\n",
    "        ret, frame = cap.read()\n",
    "        frames.append((f, frame))\n",
    "    cap.release()\n",
    "\n",
    "    path = manage_and_create_paths(video_path, out_path)\n",
    "    for frame_info in frames:\n",
    "        f, frame = frame_info\n",
    "        res_path = str(path) + f'/frame_{f}.jpg'\n",
    "        save_image(res_path, frame)\n",
    "\n",
    "def process_videos(video_paths, out_path):\n",
    "    with Pool(cpu_count()) as pool:\n",
    "        pool.starmap(process_video, [(video_path, out_path) for video_path in video_paths])\n",
    "\n",
    "# Assuming manage_and_create_paths and save_image are defined elsewhere\n",
    "\n",
    "# Main code\n",
    "video_paths = list(in_path.rglob('*.mp4'))\n",
    "process_videos(video_paths, out_path)\n"
   ]
  },
  {
   "cell_type": "code",
   "execution_count": null,
   "id": "34a9fda5-baa8-4999-b5b2-2431730e6aa5",
   "metadata": {},
   "outputs": [],
   "source": []
  }
 ],
 "metadata": {
  "kernelspec": {
   "display_name": "Python 3 (ipykernel)",
   "language": "python",
   "name": "python3"
  },
  "language_info": {
   "codemirror_mode": {
    "name": "ipython",
    "version": 3
   },
   "file_extension": ".py",
   "mimetype": "text/x-python",
   "name": "python",
   "nbconvert_exporter": "python",
   "pygments_lexer": "ipython3",
   "version": "3.11.9"
  }
 },
 "nbformat": 4,
 "nbformat_minor": 5
}
