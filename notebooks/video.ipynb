{
 "cells": [
  {
   "cell_type": "code",
   "execution_count": 153,
   "id": "a492c6b3-1386-4aed-87e0-a999d9e13118",
   "metadata": {},
   "outputs": [
    {
     "name": "stdout",
     "output_type": "stream",
     "text": [
      "Requirement already satisfied: opencv-python-headless==4.9.0.80 in /opt/conda/lib/python3.11/site-packages (4.9.0.80)\n",
      "Requirement already satisfied: numpy>=1.21.2 in /opt/conda/lib/python3.11/site-packages (from opencv-python-headless==4.9.0.80) (1.26.4)\n",
      "Note: you may need to restart the kernel to use updated packages.\n",
      "install successfull\n"
     ]
    }
   ],
   "source": [
    "%pip install opencv-python-headless==4.9.0.80\n",
    "import cv2\n",
    "import matplotlib.pyplot as plt\n",
    "from pathlib import Path\n",
    "from tqdm import tqdm\n",
    "import re\n",
    "import json\n",
    "import pandas as pd\n",
    "from datetime import datetime\n",
    "print('install successfull')"
   ]
  },
  {
   "cell_type": "code",
   "execution_count": 291,
   "id": "53083bc1-71e6-4175-9995-719fc84667f3",
   "metadata": {},
   "outputs": [],
   "source": [
    "BASE_PATH = Path('/home/jovyan/work/videos/')\n",
    "VIDEO_PATHS = list(BASE_PATH.rglob('*.MP4')) + list(BASE_PATH.rglob('*.mp4'))\n",
    "CSV_PATHS = list(BASE_PATH.rglob('*.csv'))\n",
    "\n",
    "ELAN = '_ELAN'\n",
    "SYNC = '_sync'"
   ]
  },
  {
   "cell_type": "code",
   "execution_count": 293,
   "id": "4fdf5df3-06cf-40c4-9066-5731496ca7c1",
   "metadata": {},
   "outputs": [
    {
     "data": {
      "text/plain": [
       "37"
      ]
     },
     "execution_count": 293,
     "metadata": {},
     "output_type": "execute_result"
    }
   ],
   "source": [
    "len(VIDEO_PATHS)"
   ]
  },
  {
   "cell_type": "code",
   "execution_count": 363,
   "id": "9b411ef9-e350-4ecf-9c71-79fb4c603f14",
   "metadata": {},
   "outputs": [],
   "source": [
    "def find_files(video_paths=VIDEO_PATHS):\n",
    "    files_dict = {}\n",
    "\n",
    "    for v in tqdm(video_paths):\n",
    "        name = v.stem\n",
    "        folder = v.parent.parent\n",
    "        \n",
    "        csvs = [str(x) for x in folder.iterdir() if x.is_file() and x.suffix == '.csv']\n",
    "        match_csv = [file for file in csvs if re.search(name, file)]\n",
    "        if match_csv:\n",
    "            match_csv = match_csv[0]\n",
    "        else:\n",
    "            match_csv = None\n",
    "\n",
    "        videoanalyse_folder = Path(folder / 'Videoanalyse')\n",
    "        if videoanalyse_folder.exists() and videoanalyse_folder.is_dir():\n",
    "            txt_name = name[:13] + ELAN + name[13:] + SYNC\n",
    "            txts = [str(x) for x in videoanalyse_folder.iterdir() if x.is_file() and x.suffix == '.txt']\n",
    "            match_txt = [file for file in txts if re.search(txt_name, file)]\n",
    "            if match_txt:\n",
    "                match_txt = match_txt[0]\n",
    "            else:\n",
    "                match_txt = None\n",
    "        \n",
    "            files_dict[str(name)] = {\n",
    "                'start_end_file': match_csv,\n",
    "                'analysis_file': match_txt,\n",
    "                'path': str(v),\n",
    "                'start_time': 0,\n",
    "                'end_time': 0    \n",
    "            }\n",
    "    output_dir = Path('/home/jovyan/work/output')\n",
    "    if not output_dir.exists():\n",
    "        output_dir.mkdir(parents=True, exist_ok=True)\n",
    "\n",
    "    with open(str(output_dir / 'files.json'), 'w') as json_file:\n",
    "        json.dump(files_dict, json_file, indent=4)\n",
    "        \n",
    "    return files_dict\n",
    "\n",
    "\n",
    "\n",
    "def get_times(files_dict):\n",
    "    files_dict = files_dict\n",
    "    \n",
    "    for file, file_info in tqdm(files_dict.items()):\n",
    "        se_file = file_info.get('start_end_file')\n",
    "        if se_file is None:\n",
    "            print(f\"Warning: start_end_file not found for {file}. Skipping.\")\n",
    "            continue\n",
    "\n",
    "        df = pd.read_csv(se_file)\n",
    "        \n",
    "        start = str(df.iloc[0]['hour']) + ':' + str(df.iloc[0]['minute']) + ':' + str(df.iloc[0]['milisecond'])[0:2] + '.' + str(df.iloc[0]['milisecond'])[2:-1]\n",
    "        end = str(df.iloc[1]['hour']) + ':' + str(df.iloc[1]['minute']) + ':' + str(df.iloc[1]['milisecond'])[0:2] + '.' + str(df.iloc[1]['milisecond'])[2:-1]\n",
    "\n",
    "        files_dict[str(file)]['start_time'] = start\n",
    "        files_dict[str(file)]['end_time'] = end\n",
    "        \n",
    "    output_dir = Path('/home/jovyan/work/output')\n",
    "    if not output_dir.exists():\n",
    "        output_dir.mkdir(parents=True, exist_ok=True)\n",
    "\n",
    "    with open(str(output_dir / 'files.json'), 'w') as json_file:\n",
    "        json.dump(files_dict, json_file, indent=4)\n",
    "\n",
    "    return files_dict\n",
    "\n",
    "\n",
    "\n",
    "def get_analysis(files_dict):\n",
    "\n",
    "    for file, file_info in tqdm(files_dict.items()):\n",
    "        sync_file = file_info['analysis_file']\n",
    "\n",
    "        if sync_file is not None:\n",
    "            try:\n",
    "                columns = ['category', 'file', 'timestamp_start_long', 'timestamp_start_short', \n",
    "                   'timestamp_end_long', 'timestamp_end_short', 'length_long', 'length_short', \n",
    "                   'label', 'label_str']\n",
    "                df = pd.read_csv(sync_file, sep=\"\t\", header=None)\n",
    "                df.columns = columns\n",
    "                filtered_df = df[df['category'].str.contains('SE')]\n",
    "            \n",
    "                output_dir = Path('/home/jovyan/work/output/' + file)\n",
    "                if not output_dir.exists():\n",
    "                    output_dir.mkdir(parents=True, exist_ok=True)\n",
    "                res_path = str(output_dir / 'analysis.csv')\n",
    "                filtered_df.to_csv(res_path, index=False)\n",
    "        \n",
    "                file_info['analysis_file'] = res_path\n",
    "            except pd.errors.ParserError as e:\n",
    "                print(f\"Error parsing CSV file: {e} with file {sync_file}\")\n",
    "                continue\n",
    "\n",
    "        else: \n",
    "            pass\n",
    "\n",
    "    output_dir = Path('/home/jovyan/work/output')\n",
    "    if not output_dir.exists():\n",
    "        output_dir.mkdir(parents=True, exist_ok=True)\n",
    "\n",
    "    with open(str(output_dir / 'files.json'), 'w') as json_file:\n",
    "        json.dump(files_dict, json_file, indent=4)\n",
    "    return files_dict"
   ]
  },
  {
   "cell_type": "code",
   "execution_count": 409,
   "id": "82161a88-d375-490a-b9c5-e940a2ab10b5",
   "metadata": {},
   "outputs": [
    {
     "name": "stderr",
     "output_type": "stream",
     "text": [
      "100%|███████████████████████████████████████████████████████████████████████████████████| 37/37 [00:01<00:00, 24.24it/s]\n",
      "100%|██████████████████████████████████████████████████████████████████████████████████| 19/19 [00:00<00:00, 251.14it/s]\n"
     ]
    },
    {
     "name": "stdout",
     "output_type": "stream",
     "text": [
      "Warning: start_end_file not found for START_S005_T1_LaCon_Mu_cut. Skipping.\n"
     ]
    },
    {
     "name": "stderr",
     "output_type": "stream",
     "text": [
      "100%|██████████████████████████████████████████████████████████████████████████████████| 19/19 [00:00<00:00, 105.88it/s]\n"
     ]
    }
   ],
   "source": [
    "d = find_files()\n",
    "e = get_times(d)\n",
    "f_dict = get_analysis(e)"
   ]
  },
  {
   "cell_type": "code",
   "execution_count": 410,
   "id": "59dd6388-9095-425f-8794-a03d5d260121",
   "metadata": {},
   "outputs": [],
   "source": [
    "times_dict = {\n",
    "    'START_S001_T1_La1': \"16:30:56.00\",\n",
    "    'START_S001_T1_La2': \"16:55:21.00\",\n",
    "    'START_S001_T1_LaCon_Ki': \"17:12:57.00\",\n",
    "    'START_S001_T1_LaCon_Mu': \"17:22:38.00\",\n",
    "    \n",
    "    'START_S004_T1_La1': \"00:00:00.00\",\n",
    "    'START_S004_T1_La2':  \"00:00:00.00\",\n",
    "    'START_S004_T1_LaCon_Ki':  \"00:00:00.00\",\n",
    "    'START_S004_T1_LaCon_Mu':  \"00:00:00.00\",\n",
    "    \n",
    "    'START_S005_T1_La1':  \"17:12:00.00\",\n",
    "    'START_S005_T1_La2':  \"00:00:00.00\",\n",
    "    'START_S005_T1_LaCon_Ki':  \"00:00:00.00\",\n",
    "    'START_S005_T1_LaCon_Mu_cut':  \"00:00:00.00\",\n",
    "    \n",
    "    'START_S006_T1_La1': \"15:06:05.00\",\n",
    "    'START_S006_T1_La2': \"15:28:55.00\",\n",
    "    'START_S006_T1_LaCon_Ki': \"15:48:04.00\",\n",
    "    'START_S006_T1_LaCon_Mu': \"15:55:54.00\",\n",
    "    \n",
    "    'START_S002_T1': \"16:59:00.00\",\n",
    "    'START_S002_T1_La1': \"00:00:00.00\",\n",
    "    'START_S002_T1_La2': \"00:00:00.00\"\n",
    "}\n"
   ]
  },
  {
   "cell_type": "code",
   "execution_count": 411,
   "id": "059df9d8-ff8e-4df8-a3e0-e6bc6a4f6126",
   "metadata": {},
   "outputs": [
    {
     "data": {
      "text/plain": [
       "{'START_S001_T1_La1': {'start_end_file': '/home/jovyan/work/videos/S001/T1/START_S001_T1_La1.csv',\n",
       "  'analysis_file': '/home/jovyan/work/output/START_S001_T1_La1/analysis.csv',\n",
       "  'path': '/home/jovyan/work/videos/S001/T1/Videos/START_S001_T1_La1.MP4',\n",
       "  'start_time': '16:31:23.92',\n",
       "  'end_time': '16:36:23.94'},\n",
       " 'START_S001_T1_La2': {'start_end_file': '/home/jovyan/work/videos/S001/T1/START_S001_T1_La2.csv',\n",
       "  'analysis_file': '/home/jovyan/work/output/START_S001_T1_La2/analysis.csv',\n",
       "  'path': '/home/jovyan/work/videos/S001/T1/Videos/START_S001_T1_La2.MP4',\n",
       "  'start_time': '16:56:15.9',\n",
       "  'end_time': '17:1:16.0'},\n",
       " 'START_S001_T1_LaCon_Ki': {'start_end_file': '/home/jovyan/work/videos/S001/T1/START_S001_T1_LaCon_Ki.csv',\n",
       "  'analysis_file': None,\n",
       "  'path': '/home/jovyan/work/videos/S001/T1/Videos/START_S001_T1_LaCon_Ki.MP4',\n",
       "  'start_time': '17:13:41.69',\n",
       "  'end_time': '17:18:41.69'},\n",
       " 'START_S001_T1_LaCon_Mu': {'start_end_file': '/home/jovyan/work/videos/S001/T1/START_S001_T1_LaCon_Mu.csv',\n",
       "  'analysis_file': None,\n",
       "  'path': '/home/jovyan/work/videos/S001/T1/Videos/START_S001_T1_LaCon_Mu.MP4',\n",
       "  'start_time': '17:23:78.3',\n",
       "  'end_time': '17:28:78.6'},\n",
       " 'START_S004_T1_La1': {'start_end_file': '/home/jovyan/work/videos/S004/T1/START_S004_T1_La1.csv',\n",
       "  'analysis_file': '/home/jovyan/work/output/START_S004_T1_La1/analysis.csv',\n",
       "  'path': '/home/jovyan/work/videos/S004/T1/Videos/START_S004_T1_La1.MP4',\n",
       "  'start_time': '18:20:38.48',\n",
       "  'end_time': '18:25:38.49'},\n",
       " 'START_S004_T1_La2': {'start_end_file': '/home/jovyan/work/videos/S004/T1/START_S004_T1_La2.csv',\n",
       "  'analysis_file': '/home/jovyan/work/output/START_S004_T1_La2/analysis.csv',\n",
       "  'path': '/home/jovyan/work/videos/S004/T1/Videos/START_S004_T1_La2.MP4',\n",
       "  'start_time': '18:56:55.53',\n",
       "  'end_time': '19:1:55.54'},\n",
       " 'START_S004_T1_LaCon_Ki': {'start_end_file': '/home/jovyan/work/videos/S004/T1/START_S004_T1_LaCon_Ki.csv',\n",
       "  'analysis_file': None,\n",
       "  'path': '/home/jovyan/work/videos/S004/T1/Videos/START_S004_T1_LaCon_Ki.MP4',\n",
       "  'start_time': '19:4:40.24',\n",
       "  'end_time': '19:9:40.26'},\n",
       " 'START_S004_T1_LaCon_Mu': {'start_end_file': '/home/jovyan/work/videos/S004/T1/START_S004_T1_LaCon_Mu.csv',\n",
       "  'analysis_file': None,\n",
       "  'path': '/home/jovyan/work/videos/S004/T1/Videos/START_S004_T1_LaCon_Mu.MP4',\n",
       "  'start_time': '19:13:22.59',\n",
       "  'end_time': '19:18:22.59'},\n",
       " 'START_S005_T1_La1': {'start_end_file': '/home/jovyan/work/videos/S005/T1/START_S005_T1_La1.csv',\n",
       "  'analysis_file': '/home/jovyan/work/output/START_S005_T1_La1/analysis.csv',\n",
       "  'path': '/home/jovyan/work/videos/S005/T1/Videos/START_S005_T1_La1.MP4',\n",
       "  'start_time': '17:13:51.8',\n",
       "  'end_time': '17:18:52.0'},\n",
       " 'START_S005_T1_La2': {'start_end_file': '/home/jovyan/work/videos/S005/T1/START_S005_T1_La2.csv',\n",
       "  'analysis_file': '/home/jovyan/work/output/START_S005_T1_La2/analysis.csv',\n",
       "  'path': '/home/jovyan/work/videos/S005/T1/Videos/START_S005_T1_La2.MP4',\n",
       "  'start_time': '17:52:16.44',\n",
       "  'end_time': '17:57:16.44'},\n",
       " 'START_S005_T1_LaCon_Ki': {'start_end_file': '/home/jovyan/work/videos/S005/T1/START_S005_T1_LaCon_Ki.csv',\n",
       "  'analysis_file': None,\n",
       "  'path': '/home/jovyan/work/videos/S005/T1/Videos/START_S005_T1_LaCon_Ki.MP4',\n",
       "  'start_time': '18:13:27.58',\n",
       "  'end_time': '18:18:27.58'},\n",
       " 'START_S006_T1_La1': {'start_end_file': '/home/jovyan/work/videos/S006/T1/START_S006_T1_La1.csv',\n",
       "  'analysis_file': '/home/jovyan/work/output/START_S006_T1_La1/analysis.csv',\n",
       "  'path': '/home/jovyan/work/videos/S006/T1/Videos/START_S006_T1_La1.MP4',\n",
       "  'start_time': '15:6:26.90',\n",
       "  'end_time': '15:11:26.90'},\n",
       " 'START_S006_T1_La2': {'start_end_file': '/home/jovyan/work/videos/S006/T1/START_S006_T1_La2.csv',\n",
       "  'analysis_file': '/home/jovyan/work/output/START_S006_T1_La2/analysis.csv',\n",
       "  'path': '/home/jovyan/work/videos/S006/T1/Videos/START_S006_T1_La2.MP4',\n",
       "  'start_time': '15:29:16.28',\n",
       "  'end_time': '15:34:16.30'},\n",
       " 'START_S006_T1_LaCon_Ki': {'start_end_file': '/home/jovyan/work/videos/S006/T1/START_S006_T1_LaCon_Ki.csv',\n",
       "  'analysis_file': None,\n",
       "  'path': '/home/jovyan/work/videos/S006/T1/Videos/START_S006_T1_LaCon_Ki.MP4',\n",
       "  'start_time': '15:48:24.80',\n",
       "  'end_time': '15:53:24.82'},\n",
       " 'START_S006_T1_LaCon_Mu': {'start_end_file': '/home/jovyan/work/videos/S006/T1/START_S006_T1_LaCon_Mu.csv',\n",
       "  'analysis_file': None,\n",
       "  'path': '/home/jovyan/work/videos/S006/T1/Videos/START_S006_T1_LaCon_Mu.MP4',\n",
       "  'start_time': '15:56:14.88',\n",
       "  'end_time': '16:1:14.90'},\n",
       " 'START_S002_T1': {'start_end_file': '/home/jovyan/work/videos/S002/T1/START_S002_T1_La1.csv',\n",
       "  'analysis_file': None,\n",
       "  'path': '/home/jovyan/work/videos/S002/T1/Videos/START_S002_T1.mp4',\n",
       "  'start_time': '17:18:26.78',\n",
       "  'end_time': '17:23:26.78'},\n",
       " 'START_S002_T1_La1': {'start_end_file': '/home/jovyan/work/videos/S002/T1/START_S002_T1_La1.csv',\n",
       "  'analysis_file': '/home/jovyan/work/output/START_S002_T1_La1/analysis.csv',\n",
       "  'path': '/home/jovyan/work/videos/S002/T1/Videos/START_S002_T1_La1.mp4',\n",
       "  'start_time': '17:18:26.78',\n",
       "  'end_time': '17:23:26.78'},\n",
       " 'START_S002_T1_La2': {'start_end_file': '/home/jovyan/work/videos/S002/T1/START_S002_T1_La2.csv',\n",
       "  'analysis_file': '/home/jovyan/work/output/START_S002_T1_La2/analysis.csv',\n",
       "  'path': '/home/jovyan/work/videos/S002/T1/Videos/START_S002_T1_La2.mp4',\n",
       "  'start_time': '17:38:26.53',\n",
       "  'end_time': '17:43:26.55'},\n",
       " 'START_S005_T1_LaCon_Mu_cut': {'start_end_file': None,\n",
       "  'analysis_file': None,\n",
       "  'path': '/home/jovyan/work/videos/S005/T1/Videos/START_S005_T1_LaCon_Mu_cut.mp4',\n",
       "  'start_time': 0,\n",
       "  'end_time': 0}}"
      ]
     },
     "execution_count": 411,
     "metadata": {},
     "output_type": "execute_result"
    }
   ],
   "source": [
    "f_dict"
   ]
  },
  {
   "cell_type": "code",
   "execution_count": 458,
   "id": "fa7751a9-4f37-46a0-8ae1-79aba24ca46a",
   "metadata": {},
   "outputs": [],
   "source": [
    "def save_video_frames(frames, output_file, width, height):\n",
    "    fourcc = cv2.VideoWriter_fourcc(*'mp4v')\n",
    "    out = cv2.VideoWriter('/home/jovyan/work/clipped.mp4', fourcc, 25, (width, height))\n",
    "    for frame in frames:\n",
    "        out.write(frame)\n",
    "    out.release()\n",
    "\n",
    "def clip_and_save_video(file_info, times_dict):\n",
    "    video_time = datetime.strptime(times_dict[file], '%H:%M:%S.%f')\n",
    "    start_time = datetime.strptime(file_info['start_time'], '%H:%M:%S.%f')\n",
    "    diff = (start_time - video_time).seconds\n",
    "\n",
    "    \n",
    "\n",
    "    cap = cv2.VideoCapture(str(file_info['path']))\n",
    "    fps = int(cap.get(cv2.CAP_PROP_FPS))\n",
    "    idx = int(fps * diff)\n",
    "\n",
    "    width = int(cap.get(cv2.CAP_PROP_FRAME_WIDTH))\n",
    "    height = int(cap.get(cv2.CAP_PROP_FRAME_HEIGHT))\n",
    "    \n",
    "    cap.set(cv2.CAP_PROP_POS_FRAMES, idx)\n",
    "    \n",
    "    frames = []\n",
    "    while True:\n",
    "        ret, frame = cap.read()\n",
    "        if not ret:\n",
    "            break\n",
    "        frames.append(frame)\n",
    "\n",
    "    cap.release()\n",
    "\n",
    "    output_file = \"clipped.mp4\"\n",
    "    save_video_frames(frames, output_file, width, height)"
   ]
  },
  {
   "cell_type": "code",
   "execution_count": 459,
   "id": "2fc2a008-fbf1-4a70-ab6d-d614b88b457f",
   "metadata": {},
   "outputs": [
    {
     "name": "stderr",
     "output_type": "stream",
     "text": [
      "  0%|                                                                                            | 0/19 [00:00<?, ?it/s]"
     ]
    },
    {
     "name": "stdout",
     "output_type": "stream",
     "text": [
      "START_S001_T1_La1\n"
     ]
    },
    {
     "name": "stderr",
     "output_type": "stream",
     "text": [
      "  0%|                                                                                            | 0/19 [00:11<?, ?it/s]\n"
     ]
    }
   ],
   "source": [
    "for file, file_info in tqdm(f_dict.items()):\n",
    "    print(file)\n",
    "    clip_and_save_video(file_info, times_dict)\n",
    "    break\n",
    "print('finished')"
   ]
  },
  {
   "cell_type": "code",
   "execution_count": 439,
   "id": "fb16f56f-92c5-476a-86b7-adffb13068a9",
   "metadata": {},
   "outputs": [
    {
     "name": "stderr",
     "output_type": "stream",
     "text": [
      "  0%|                                                                                            | 0/19 [00:00<?, ?it/s]"
     ]
    },
    {
     "name": "stdout",
     "output_type": "stream",
     "text": [
      "START_S001_T1_La1\n"
     ]
    },
    {
     "name": "stderr",
     "output_type": "stream",
     "text": [
      "  0%|                                                                                            | 0/19 [00:02<?, ?it/s]\n"
     ]
    },
    {
     "ename": "AttributeError",
     "evalue": "'NoneType' object has no attribute 'shape'",
     "output_type": "error",
     "traceback": [
      "\u001b[0;31m---------------------------------------------------------------------------\u001b[0m",
      "\u001b[0;31mAttributeError\u001b[0m                            Traceback (most recent call last)",
      "Cell \u001b[0;32mIn[439], line 23\u001b[0m\n\u001b[1;32m     20\u001b[0m cap\u001b[38;5;241m.\u001b[39mrelease()\n\u001b[1;32m     22\u001b[0m output_file \u001b[38;5;241m=\u001b[39m \u001b[38;5;124m'\u001b[39m\u001b[38;5;124mclipped_video.mp4\u001b[39m\u001b[38;5;124m'\u001b[39m  \u001b[38;5;66;03m# Change the filename and extension as needed\u001b[39;00m\n\u001b[0;32m---> 23\u001b[0m save_video_frames(frames, output_file, fps, \u001b[43mframe\u001b[49m\u001b[38;5;241;43m.\u001b[39;49m\u001b[43mshape\u001b[49m[\u001b[38;5;241m1\u001b[39m], frame\u001b[38;5;241m.\u001b[39mshape[\u001b[38;5;241m0\u001b[39m])\n\u001b[1;32m     26\u001b[0m \u001b[38;5;28;01mbreak\u001b[39;00m\n\u001b[1;32m     31\u001b[0m \u001b[38;5;250m\u001b[39m\u001b[38;5;124;03m\"\"\"\u001b[39;00m\n\u001b[1;32m     32\u001b[0m \u001b[38;5;124;03m#print(v)\u001b[39;00m\n\u001b[1;32m     33\u001b[0m \u001b[38;5;124;03mc\u001b[39;00m\n\u001b[0;32m   (...)\u001b[0m\n\u001b[1;32m     54\u001b[0m \u001b[38;5;124;03m    save_image(res_path, frame)\u001b[39;00m\n\u001b[1;32m     55\u001b[0m \u001b[38;5;124;03m\"\"\"\u001b[39;00m\n",
      "\u001b[0;31mAttributeError\u001b[0m: 'NoneType' object has no attribute 'shape'"
     ]
    }
   ],
   "source": [
    "for file, file_info in tqdm(f_dict.items()):\n",
    "    print(file)\n",
    "    video_time = datetime.strptime(times_dict[file], '%H:%M:%S.%f')\n",
    "    start_time = datetime.strptime(file_info['start_time'], '%H:%M:%S.%f')\n",
    "    diff = (start_time - video_time).seconds\n",
    "\n",
    "    cap = cv2.VideoCapture(str(file_info['path']))\n",
    "    fps, num_frames = int(cap.get(cv2.CAP_PROP_FPS)), int(cap.get(cv2.CAP_PROP_FRAME_COUNT))\n",
    "    idx = (fps*diff)\n",
    "        \n",
    "    for f in (range(num_frames)):\n",
    "        cap.set(cv2.CAP_PROP_POS_FRAMES, idx)\n",
    "        _, frame = cap.read()\n",
    "        show_image(frame)\n",
    "        break\n",
    "    \n",
    "    break\n",
    "        \n",
    "    \n",
    "    \n",
    "    \n",
    "    \"\"\"\n",
    "    #print(v)\n",
    "    c\n",
    "    \n",
    "    print('fps: ',fps)\n",
    "    print('num_frames: ', num_frames)\n",
    "\n",
    "    sec = 3.5\n",
    "\n",
    "    for f in (range(num_frames)):\n",
    "        cap.set(cv2.CAP_PROP_POS_FRAMES, fps*sec)\n",
    "        _, frame = cap.read()\n",
    "        show_image(frame)\n",
    "        break\n",
    "    break\n",
    "    #show_image()\n",
    "    \n",
    "    \n",
    "  \n",
    "    for f in tqdm(rangenum_frames)):\n",
    "        cap.set(cv2.CAP_PROP_POS_FRAMES, f)\n",
    "        ret, frame = cap.read()\n",
    "        res_path = './' + str(path) + f'/frame_{f}.jpg'\n",
    "        save_image(res_path, frame)\n",
    "    \"\"\""
   ]
  },
  {
   "cell_type": "code",
   "execution_count": null,
   "id": "6d11d477-3b71-4d90-8eaa-1f29ddd3ec4c",
   "metadata": {},
   "outputs": [],
   "source": []
  },
  {
   "cell_type": "code",
   "execution_count": null,
   "id": "66c84b82-c730-4209-8c19-69cc9fac8bc8",
   "metadata": {},
   "outputs": [],
   "source": []
  },
  {
   "cell_type": "code",
   "execution_count": null,
   "id": "8b1faa16-d146-4d94-a37d-736f12b2a5e0",
   "metadata": {},
   "outputs": [],
   "source": []
  },
  {
   "cell_type": "code",
   "execution_count": null,
   "id": "7f444aec-44ae-4c6c-835f-02ae935a351d",
   "metadata": {},
   "outputs": [],
   "source": [
    "\n",
    "# Dataset-specific paths\n",
    "CURRENT_PATH = BASE_PATH / DATA\n",
    "LABELS = [f.name for f in CURRENT_PATH.iterdir() if f.is_dir()]\n",
    "IMAGE_PATHS = list(CURRENT_PATH.rglob('*.jpg'))\n"
   ]
  },
  {
   "cell_type": "markdown",
   "id": "1a3440d6-30a9-48c3-820f-8618ca51ec62",
   "metadata": {},
   "source": [
    "### Define paths"
   ]
  },
  {
   "cell_type": "code",
   "execution_count": 3,
   "id": "d1af98ff-4d75-488a-9f65-870e934b4bb6",
   "metadata": {},
   "outputs": [],
   "source": [
    "in_path = Path('./data/in/videos')\n",
    "out_path = Path('./data/out/videos')"
   ]
  },
  {
   "cell_type": "markdown",
   "id": "469395b0-12f5-42ed-ab33-d283b7e988eb",
   "metadata": {},
   "source": [
    "### Utilities"
   ]
  },
  {
   "cell_type": "code",
   "execution_count": 4,
   "id": "d76c9b53-a3e8-4155-bb17-62c560d05e37",
   "metadata": {},
   "outputs": [],
   "source": []
  },
  {
   "cell_type": "code",
   "execution_count": 5,
   "id": "562ee465-6acb-4195-86a0-bcba81aa707c",
   "metadata": {},
   "outputs": [],
   "source": [
    "def manage_and_create_paths(image_path, out_path):\n",
    "    res = out_path / image_path.stem\n",
    "    if not res.parent.exists():\n",
    "        res.mkdir(parents=True, exist_ok=True)\n",
    "    return res\n",
    "\n",
    "def create_output_path(path, out_path):\n",
    "    return str(manage_and_create_paths(path, out_path)) + '/' + path.name"
   ]
  },
  {
   "cell_type": "markdown",
   "id": "68cd49d1-d1fe-45d1-a8e4-5b49dfcffc95",
   "metadata": {},
   "source": [
    "### Extract frames"
   ]
  },
  {
   "cell_type": "code",
   "execution_count": 19,
   "id": "624ef513-f70d-4e9c-8bd2-7e2409dc9053",
   "metadata": {},
   "outputs": [
    {
     "name": "stdout",
     "output_type": "stream",
     "text": [
      "frames per second:  29.97002997002997\n",
      "total number of frames:  2196\n"
     ]
    },
    {
     "name": "stderr",
     "output_type": "stream",
     "text": [
      "100%|██████████| 2196/2196 [00:44<00:00, 49.80it/s]\n"
     ]
    }
   ],
   "source": [
    "for p in (in_path.rglob('*.mp4')):\n",
    "    print(p)\n",
    "    path = manage_and_create_paths(p, out_path)\n",
    "    cap = cv2.VideoCapture(str(p))\n",
    "    fps = cap.get(cv2.CAP_PROP_FPS)\n",
    "    print('frames per second: ',fps)\n",
    "    l = int(cap.get(cv2.CAP_PROP_FRAME_COUNT))\n",
    "    print('total number of frames: ', l)\n",
    "    \n",
    "    for f in tqdm(range(l)):\n",
    "        cap.set(cv2.CAP_PROP_POS_FRAMES, f)\n",
    "        ret, frame = cap.read()\n",
    "        res_path = './' + str(path) + f'/frame_{f}.jpg'\n",
    "        save_image(res_path, frame)"
   ]
  },
  {
   "cell_type": "markdown",
   "id": "feb71460-3f3b-4a9d-bd87-3b609f787c6c",
   "metadata": {},
   "source": [
    "## In case multiprocessing works:"
   ]
  },
  {
   "cell_type": "code",
   "execution_count": null,
   "id": "f495351d-481f-4c04-b2cb-1aedc3bba1fe",
   "metadata": {},
   "outputs": [],
   "source": [
    "import cv2\n",
    "from pathlib import Path\n",
    "from tqdm import tqdm\n",
    "from multiprocessing import Pool, cpu_count\n",
    "\n",
    "def process_video(video_path, out_path):\n",
    "    cap = cv2.VideoCapture(str(video_path))\n",
    "    fps = cap.get(cv2.CAP_PROP_FPS)\n",
    "    l = int(cap.get(cv2.CAP_PROP_FRAME_COUNT))\n",
    "    frames = []\n",
    "    for f in range(l):\n",
    "        cap.set(cv2.CAP_PROP_POS_FRAMES, f)\n",
    "        ret, frame = cap.read()\n",
    "        frames.append((f, frame))\n",
    "    cap.release()\n",
    "\n",
    "    path = manage_and_create_paths(video_path, out_path)\n",
    "    for frame_info in frames:\n",
    "        f, frame = frame_info\n",
    "        res_path = str(path) + f'/frame_{f}.jpg'\n",
    "        save_image(res_path, frame)\n",
    "\n",
    "def process_videos(video_paths, out_path):\n",
    "    with Pool(cpu_count()) as pool:\n",
    "        pool.starmap(process_video, [(video_path, out_path) for video_path in video_paths])\n",
    "\n",
    "# Assuming manage_and_create_paths and save_image are defined elsewhere\n",
    "\n",
    "# Main code\n",
    "video_paths = list(in_path.rglob('*.mp4'))\n",
    "process_videos(video_paths, out_path)\n"
   ]
  }
 ],
 "metadata": {
  "kernelspec": {
   "display_name": "Python 3 (ipykernel)",
   "language": "python",
   "name": "python3"
  },
  "language_info": {
   "codemirror_mode": {
    "name": "ipython",
    "version": 3
   },
   "file_extension": ".py",
   "mimetype": "text/x-python",
   "name": "python",
   "nbconvert_exporter": "python",
   "pygments_lexer": "ipython3",
   "version": "3.11.9"
  }
 },
 "nbformat": 4,
 "nbformat_minor": 5
}
