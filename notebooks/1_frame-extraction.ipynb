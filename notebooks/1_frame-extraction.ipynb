{
 "cells": [
  {
   "cell_type": "code",
   "execution_count": null,
   "id": "a492c6b3-1386-4aed-87e0-a999d9e13118",
   "metadata": {},
   "outputs": [],
   "source": [
    "try:\n",
    "    import cv2\n",
    "except:\n",
    "    %pip install opencv-python-headless==4.9.0.80\n",
    "\n",
    "import matplotlib.pyplot as plt\n",
    "from pathlib import Path\n",
    "from tqdm import tqdm\n",
    "import re\n",
    "import json\n",
    "import pandas as pd\n",
    "import datetime\n",
    "from multiprocessing import Pool, cpu_count\n",
    "import shutil\n",
    "import cv2\n",
    "import shutil\n",
    "from pathlib import Path\n",
    "\n",
    "print('import successfull')"
   ]
  },
  {
   "cell_type": "markdown",
   "id": "592003e7-ec55-447b-b2a9-e3823dd82796",
   "metadata": {},
   "source": [
    "### Constants"
   ]
  },
  {
   "cell_type": "code",
   "execution_count": null,
   "id": "30e1e988-2a6e-4c5d-9103-047dfc2fd818",
   "metadata": {},
   "outputs": [],
   "source": [
    "BASE_PATH = Path('/home/jovyan/work/videos/cross-label/second_coder')"
   ]
  },
  {
   "cell_type": "code",
   "execution_count": null,
   "id": "fae2919e-2327-4a75-98ec-908fb869b739",
   "metadata": {},
   "outputs": [],
   "source": [
    "video_paths = [\n",
    "\"/home/jovyan/work/output/START_S005_T1_La1/START_S005_T1_La1.MP4\",\n",
    "\"/home/jovyan/work/output/START_S005_T1_La2/START_S005_T1_La2.MP4\",\n",
    "\"/home/jovyan/work/output/START_S009_T1_La1/START_S009_T1_La1.MP4\",\n",
    "\"/home/jovyan/work/output/START_S009_T1_La2/START_S009_T1_La2.MP4\",\n",
    "\"/home/jovyan/work/output/START_S012_T1_La1/START_S012_T1_La1.MP4\",\n",
    "\"/home/jovyan/work/output/START_S012_T1_La2/START_S012_T1_La2.MP4\",\n",
    "\"/home/jovyan/work/output/START_S017_T1_La1/START_S017_T1_La1.MP4\",\n",
    "\"/home/jovyan/work/output/START_S017_T1_La2/START_S017_T1_La2.MP4\",\n",
    "\"/home/jovyan/work/output/START_S021_T1_La1/START_S021_T1_La1.MP4\",\n",
    "\"/home/jovyan/work/output/START_S021_T1_La2/START_S021_T1_La2.MP4\",\n",
    "\"/home/jovyan/work/output/START_S026_T1_La1/START_S026_T1_La1.MP4\",\n",
    "\"/home/jovyan/work/output/START_S026_T1_La2/START_S026_T1_La2.MP4\",\n",
    "\"/home/jovyan/work/output/START_S029_T1_La1/START_S029_T1_La1.MP4\",\n",
    "\"/home/jovyan/work/output/START_S029_T1_La2/START_S029_T1_La2.MP4\",\n",
    "\"/home/jovyan/work/output/START_S033_T1_La1/START_S033_T1_La1.MP4\",\n",
    "\"/home/jovyan/work/output/START_S033_T1_La2/START_S033_T1_La2.MP4\",\n",
    "\"/home/jovyan/work/output/START_S035_T1_La1/START_S035_T1_La1.MP4\",\n",
    "\"/home/jovyan/work/output/START_S035_T1_La2/START_S035_T1_La2.MP4\",\n",
    "\"/home/jovyan/work/output/START_S037_T1_La1/START_S037_T1_La1.MP4\",\n",
    "\"/home/jovyan/work/output/START_S037_T1_La2/START_S037_T1_La2.MP4\",\n",
    "\"/home/jovyan/work/output/START_S041_T1_La1/START_S041_T1_La1.MP4\",\n",
    "\"/home/jovyan/work/output/START_S041_T1_La2/START_S041_T1_La2.MP4\",\n",
    "\"/home/jovyan/work/output/START_S042_T1_La1/START_S042_T1_La1.MP4\",\n",
    "\"/home/jovyan/work/output/START_S042_T1_La2/START_S042_T1_La2.MP4\",\n",
    "\"/home/jovyan/work/output/START_S045_T1_La1/START_S045_T1_La1.MP4\",\n",
    "\"/home/jovyan/work/output/START_S045_T1_La2/START_S045_T1_La2.MP4\",\n",
    "\"/home/jovyan/work/output/START_S049_T1_La1/START_S049_T1_La1.MP4\",\n",
    "\"/home/jovyan/work/output/START_S049_T1_La2/START_S049_T1_La2.MP4\",\n",
    "]"
   ]
  },
  {
   "cell_type": "code",
   "execution_count": null,
   "id": "78b6ce8f-73a6-431f-a7f1-795101282071",
   "metadata": {},
   "outputs": [],
   "source": [
    "destination_folders = [d for d in BASE_PATH.iterdir() if d.is_dir()]\n",
    "destination_folders "
   ]
  },
  {
   "cell_type": "code",
   "execution_count": null,
   "id": "fe7c3bff-a35d-48d2-9a83-f42512c5b97f",
   "metadata": {},
   "outputs": [],
   "source": [
    "def find_destination_folder(video_path):\n",
    "    session_id = Path(video_path).parts[-2].split('_')[1]\n",
    "    for folder in destination_folders:\n",
    "        if folder.name.endswith(session_id):\n",
    "            return folder\n",
    "    return None\n",
    "\n",
    "for video_path in video_paths:\n",
    "    dest_folder = find_destination_folder(video_path)\n",
    "    if dest_folder:\n",
    "        shutil.copy(video_path, dest_folder)\n",
    "        print(f\"Copied {video_path} to {dest_folder}\")\n",
    "    else:\n",
    "        print(f\"No matching folder found for {video_path}\")\n"
   ]
  },
  {
   "cell_type": "code",
   "execution_count": null,
   "id": "b707b848-cc3f-4e7f-94f1-dfdc46a16b1f",
   "metadata": {},
   "outputs": [],
   "source": [
    "BASE_PATH = Path('/home/jovyan/work/videos/cross-label')\n",
    "VIDEO_PATHS = list(BASE_PATH.rglob('*.MP4')) + list(BASE_PATH.rglob('*.mp4'))\n",
    "\n",
    "CSV_PATHS = list(BASE_PATH.rglob('*.csv'))\n",
    "TXT_PATHS = list(BASE_PATH.rglob('*.txt'))\n",
    "\n",
    "\n",
    "print(len(VIDEO_PATHS))\n",
    "print(len(TXT_PATHS))"
   ]
  },
  {
   "cell_type": "code",
   "execution_count": null,
   "id": "82bbfebf-0927-49cc-a614-5b39a3007d5b",
   "metadata": {},
   "outputs": [],
   "source": [
    "CSV_PATHS = list(BASE_PATH.rglob('*.csv'))\n",
    "CSV_PATHS"
   ]
  },
  {
   "cell_type": "code",
   "execution_count": null,
   "id": "53083bc1-71e6-4175-9995-719fc84667f3",
   "metadata": {},
   "outputs": [],
   "source": [
    "ELAN = '_ELAN'\n",
    "SYNC = '_sync'\n",
    "\n",
    "idx_category = {\n",
    "    0.0: 'neutral',\n",
    "    1.1: 'negative',\n",
    "    1.2: 'positive'\n",
    "}\n",
    "category_idx = {\n",
    "    'neutral': 0.0,\n",
    "    'negative': 1.1, \n",
    "    'positive': 1.2\n",
    "}\n",
    "\n",
    "PATH = 'path'\n",
    "TIME_FILE = 'start_end_file'\n",
    "SYNC_FILE = 'sync_file'\n",
    "START = 'start_time'\n",
    "END = 'end_time'\n",
    "MU = 'Mu_df'\n",
    "KI = 'Ki_df'"
   ]
  },
  {
   "cell_type": "code",
   "execution_count": null,
   "id": "c9ffbcbc-6459-448b-901e-73c89279a414",
   "metadata": {},
   "outputs": [],
   "source": [
    "meta_dict = {}\n",
    "\n",
    "for video_path in tqdm(VIDEO_PATHS):\n",
    "    name = video_path.stem[:13]\n",
    "    version = video_path.stem[14:]\n",
    "    folder = Path(video_path.parent.parent)\n",
    "\n",
    "    meta_dict[str(name)] = {\n",
    "        'path': str(video_path),\n",
    "        'start_end_file': \"\",\n",
    "        'sync_file': \"\",\n",
    "        'start_time': '00:00:00',\n",
    "        'end_time': '00:00:00',\n",
    "        'Mu_df': '',\n",
    "        'Ki_df': ''\n",
    "    } \n",
    "\n",
    "    destination_folder = Path('/home/jovyan/work/cross-label') / name\n",
    "    \n",
    "    # get the time file\n",
    "    csvs = [str(path) for path in BASE_PATH.rglob('*.csv')]\n",
    "    match_csv = [file for file in csvs if re.search(name, file) and re.search(version, file)]\n",
    "    match_csv = match_csv[0] if match_csv else None\n",
    "\n",
    "    # get the sync file\n",
    "    txts = [str(path) for path in BASE_PATH.rglob('*.txt')]\n",
    "    match_txt = [file for file in txts if re.search(name, file) and re.search('sync', file) and re.search(version, file)]\n",
    "    match_txt = match_txt[0] if match_txt else None\n",
    "\n",
    "    if match_csv and match_txt: \n",
    "        destination_folder.mkdir(parents=True, exist_ok=True)\n",
    "\n",
    "        shutil.copy(match_csv, str(destination_folder))\n",
    "        meta_dict[str(name)]['start_end_file'] = str(destination_folder) + '/' + str(Path(match_csv).name)\n",
    "        shutil.copy(match_txt, str(destination_folder))\n",
    "        meta_dict[str(name)]['sync_file'] = str(destination_folder) + '/' + str(Path(match_txt).name)\n",
    "        \n",
    "    if str(name) in meta_dict and meta_dict[str(name)]['sync_file'] == \"\":\n",
    "        del meta_dict[str(name)]\n",
    "\n",
    "json_file = '/home/jovyan/work/cross-label/meta_file.json'\n",
    "with open(json_file, 'w') as f:\n",
    "    json.dump(meta_dict, f, indent=4)\n",
    "    "
   ]
  },
  {
   "cell_type": "code",
   "execution_count": null,
   "id": "f8c74dba-f6ac-43e6-be6a-51c7ea74b712",
   "metadata": {},
   "outputs": [],
   "source": [
    "match_txt = [file for file in txts if re.search('START_S005', file) and re.search('La1', file)]\n",
    "match_txt\n"
   ]
  },
  {
   "cell_type": "code",
   "execution_count": null,
   "id": "1d6e259e-d52a-4dc7-92b5-ba46c440f1c2",
   "metadata": {},
   "outputs": [],
   "source": [
    "PATH = Path('/home/jovyan/work/cross-label')\n",
    "mp4s = [str(path) for path in PATH.rglob('*.MP4')]\n",
    "csvs = [str(path) for path in PATH.rglob('*.csv')]\n",
    "txts = [str(path) for path in PATH.rglob('*.txt')]\n",
    "\n",
    "file_dict = {}\n",
    "\n",
    "for file in tqdm(mp4s):\n",
    "    name = Path(file).stem\n",
    "    version = Path(file).stem[14:]\n",
    "    file_dict[str(name)] = {\n",
    "        'path': str(file),\n",
    "        'start_end_file': \"\",\n",
    "        'sync_file': \"\",\n",
    "        'start_time': '00:00:00',\n",
    "        'end_time': '00:00:00',\n",
    "        'Mu_df': '',\n",
    "        'Ki_df': ''\n",
    "    }\n",
    "\n",
    "    # get time file\n",
    "    match_csv = [file for file in csvs if re.search(name, file)]\n",
    "    time_file = match_csv[0] if match_csv else None\n",
    "    file_dict[str(name)]['start_end_file'] = time_file\n",
    "\n",
    "    # get sync file\n",
    "    match_txt = [file for file in txts if re.search(name[:13], file) and re.search(version, file)]\n",
    "    sync_file = match_txt[0] if match_txt else None\n",
    "    file_dict[str(name)]['sync_file'] = sync_file\n",
    "\n",
    "json_file = '/home/jovyan/work/cross-label/meta_file.json'\n",
    "with open(json_file, 'w') as f:\n",
    "    json.dump(file_dict, f, indent=4)"
   ]
  },
  {
   "cell_type": "code",
   "execution_count": null,
   "id": "95fe9533-8ae7-48fd-b787-fd4e751dbdce",
   "metadata": {},
   "outputs": [],
   "source": [
    "for (file, file_info) in tqdm(file_dict.items()):\n",
    "    time_file = file_dict[str(file)]['start_end_file']\n",
    "    if time_file:\n",
    "        df = pd.read_csv(time_file)\n",
    "        file_dict[str(file)]['start_time'] = f\"{df.iloc[0]['hour']}:{df.iloc[0]['minute']}:{df.iloc[0]['milisecond']}\"\n",
    "        file_dict[str(file)]['end_time'] = f\"{df.iloc[1]['hour']}:{df.iloc[1]['minute']}:{df.iloc[1]['milisecond']}\"\n",
    "        \n",
    "json_file = '/home/jovyan/work/cross-label/meta_file.json'\n",
    "with open(json_file, 'w') as f:\n",
    "    json.dump(file_dict, f, indent=4)"
   ]
  },
  {
   "cell_type": "code",
   "execution_count": null,
   "id": "63c955a9-3b35-4a3a-aa65-ed3ef3971e8c",
   "metadata": {},
   "outputs": [],
   "source": [
    "for (file, file_info) in tqdm(file_dict.items()):\n",
    "    sync_file = file_dict[str(file)]['sync_file']\n",
    "    if sync_file:\n",
    "        df = pd.read_csv(sync_file, sep=\"\t\", header=None)\n",
    "        \n",
    "        if(len(df.columns) >= 10):\n",
    "             df = df.drop(df.columns[-1], axis=1)\n",
    "        columns = ['category', 'file', 'timestamp_start_long', 'timestamp_start_short', 'timestamp_end_long', 'timestamp_end_short', 'length_long', 'length_short', 'label']\n",
    "        df.columns = columns  \n",
    "        \n",
    "        # create df for both mother and child and save to output\n",
    "        filtered_df = df[df['category'].str.contains('SE')].reset_index(drop=True)\n",
    "        mu_df = filtered_df[filtered_df['category'].str.contains('Mu')].reset_index(drop=True)\n",
    "        ki_df = filtered_df[filtered_df['category'].str.contains('Ki')].reset_index(drop=True)\n",
    "\n",
    "        output_dir = Path('/home/jovyan/work/cross-label/' + file[:13])\n",
    "        output_dir.mkdir(parents=True, exist_ok=True)\n",
    "\n",
    "        mu_path = str(output_dir) + f'/{file}_MU_DF.csv'\n",
    "        ki_path = str(output_dir) + f'/{file}_KI_DF.csv'\n",
    "\n",
    "        mu_df.to_csv(mu_path, index=False)\n",
    "        ki_df.to_csv(ki_path, index=False)\n",
    "\n",
    "        file_dict[str(file)][MU] = mu_path\n",
    "        file_dict[str(file)][KI] = ki_path\n",
    "        \n",
    "# save json\n",
    "json_file = '/home/jovyan/work/cross-label/meta_file.json'\n",
    "with open(json_file, 'w') as f:\n",
    "    json.dump(file_dict, f, indent=4)"
   ]
  },
  {
   "cell_type": "code",
   "execution_count": null,
   "id": "38e28643-0c21-4e2c-b8e5-8b6fb7e01149",
   "metadata": {},
   "outputs": [],
   "source": [
    "time_path = '/home/jovyan/work/cross-label/time_dict.json'\n",
    "\n",
    "for file, file_info in tqdm(file_dict.items()): \n",
    "    #print(file)\n",
    "    with open(time_path) as f:\n",
    "        time_dict = json.load(f)\n",
    "\n",
    "    output_dir = Path(f'/home/jovyan/work/cross-label/frames/{file}')\n",
    "    output_dir.mkdir(parents=True, exist_ok=True)\n",
    "\n",
    "    start_time = datetime.datetime.strptime(file_dict[file][START], '%H:%M:%f').replace(microsecond=0)\n",
    "    start_time = datetime.time(start_time.hour, start_time.minute, int(start_time.strftime('%H:%M:%S:%f')[-6:-4]))\n",
    "    start_time = datetime.datetime.combine(datetime.date(1900, 1, 1), start_time)\n",
    "    video_time = datetime.datetime.strptime(time_dict[file], '%H:%M:%S')\n",
    "\n",
    "    if start_time <= video_time:\n",
    "            diff = 0\n",
    "    elif not video_time.time() == datetime.datetime.strptime('00:00:00', '%H:%M:%S').time():\n",
    "        diff = (start_time - video_time).seconds\n",
    "    else:\n",
    "        diff = 0\n",
    "\n",
    "    # set up cv2 things\n",
    "    cap = cv2.VideoCapture(str(file_dict[file]['path'])) \n",
    "    fps, num_frames = int(cap.get(cv2.CAP_PROP_FPS)), int(cap.get(cv2.CAP_PROP_FRAME_COUNT))\n",
    "    \n",
    "    # beginnning of experiment frame index\n",
    "    start_idx = int(fps*diff)\n",
    "\n",
    "    ki_df_path = file_dict[file]['Ki_df']\n",
    "    mu_df_path = file_dict[file]['Mu_df']\n",
    "\n",
    "    if not mu_df_path == '' and not mu_df_path == '':\n",
    "        # get the event dfs\n",
    "        ki_df = pd.read_csv(ki_df_path)\n",
    "        mu_df = pd.read_csv(mu_df_path)\n",
    "    \n",
    "        ki_df_short = ki_df[['timestamp_start_short', 'label']]\n",
    "        mu_df_short = mu_df[['timestamp_start_short', 'label']]\n",
    "        \n",
    "        for index, (ki_row, mu_row) in enumerate(zip(ki_df_short.iterrows(), mu_df_short.iterrows())):\n",
    "            # access df data\n",
    "            _, ki_data = ki_row\n",
    "            _, mu_data = mu_row\n",
    "            ki_timestamp, ki_label = ki_data['timestamp_start_short'], ki_data['label']\n",
    "            mu_timestamp, mu_label = mu_data['timestamp_start_short'], mu_data['label']\n",
    "        \n",
    "            # getframe of start of experiment\n",
    "            frame_idx = int(start_idx + int(ki_timestamp * fps))\n",
    "            if frame_idx >= num_frames:\n",
    "                break\n",
    "                \n",
    "            # set up cv2 stuff\n",
    "            cap.set(cv2.CAP_PROP_POS_FRAMES, frame_idx)\n",
    "            _, frame = cap.read()\n",
    "            res_path = str(output_dir / f'{file}_frame_{index}_timestamp_{ki_timestamp}_MU_{mu_label}_KI_{ki_label}.jpg')\n",
    "            cv2.imwrite(res_path, frame)\n"
   ]
  },
  {
   "cell_type": "code",
   "execution_count": null,
   "id": "2524469d-a7ca-4303-98be-da40e4352700",
   "metadata": {},
   "outputs": [],
   "source": [
    "extract_frames(time_path, meta_path, file_dict)"
   ]
  },
  {
   "cell_type": "markdown",
   "id": "c7197113-87f8-4a51-9ad5-5b6705246347",
   "metadata": {
    "jp-MarkdownHeadingCollapsed": true
   },
   "source": [
    "#### Other computations"
   ]
  },
  {
   "cell_type": "code",
   "execution_count": null,
   "id": "e6f8e17d-97cf-4169-86b2-62e1e1c43ee1",
   "metadata": {},
   "outputs": [],
   "source": [
    "p = Path('/home/jovyan/work/output/')\n",
    "\n",
    "path_list = list(p.rglob('*.MP4')) + list(p.rglob('*.mp4'))\n",
    "\n",
    "print(len(path_list))"
   ]
  },
  {
   "cell_type": "code",
   "execution_count": null,
   "id": "13cb03b0-df9a-450e-8945-688d18bb3ac0",
   "metadata": {},
   "outputs": [],
   "source": [
    "durations = []\n",
    "\n",
    "for vid in path_list:\n",
    "    cap = cv2.VideoCapture(str(vid))\n",
    "    fps, num_frames = int(cap.get(cv2.CAP_PROP_FPS)), int(cap.get(cv2.CAP_PROP_FRAME_COUNT))\n",
    "    width, height = int(cap.get(cv2.CAP_PROP_FRAME_WIDTH)), int(cap.get(cv2.CAP_PROP_FRAME_HEIGHT))\n",
    "    duration = num_frames / fps\n",
    "    durations.append(duration)"
   ]
  },
  {
   "cell_type": "code",
   "execution_count": null,
   "id": "3160e928-6af5-4d63-9b8d-4dda428bd977",
   "metadata": {},
   "outputs": [],
   "source": [
    "import numpy as np\n",
    "avg_duration = np.mean(durations)\n",
    "std_duration = np.std(durations)\n",
    "print(avg_duration, std_duration)    \n",
    "print(avg_duration / 60, std_duration / 60)    \n",
    "\n",
    "        "
   ]
  },
  {
   "cell_type": "markdown",
   "id": "200c0194-6e59-4f69-a331-094484b4b8f8",
   "metadata": {},
   "source": [
    "#### Label Analysis"
   ]
  },
  {
   "cell_type": "code",
   "execution_count": null,
   "id": "5982de52-b013-4404-82e8-2ef16aca14ae",
   "metadata": {},
   "outputs": [],
   "source": [
    "# remove checkpoints\n",
    "checkpoints = list(Path('/home/jovyan/work').rglob('.ipynb_checkpoints'))\n",
    "\n",
    "for file in checkpoints:\n",
    "    if file.is_dir():        \n",
    "        for sub_file in file.iterdir():\n",
    "            if sub_file.is_file():\n",
    "                sub_file.unlink()\n",
    "            elif sub_file.is_dir():\n",
    "                sub_file.rmdir()\n",
    "    file.rmdir()\n",
    "\n",
    "print('done')"
   ]
  },
  {
   "cell_type": "code",
   "execution_count": null,
   "id": "e0b2270e-b671-4b46-9445-2f4a0f8195ea",
   "metadata": {},
   "outputs": [],
   "source": [
    "p = Path('/home/jovyan/work/output/')\n",
    "\n",
    "csvs = list(p.rglob('*.csv'))\n",
    "print(len(csvs))"
   ]
  },
  {
   "cell_type": "code",
   "execution_count": null,
   "id": "8cf908db-8f9c-453d-9456-a7236e7a44a3",
   "metadata": {},
   "outputs": [],
   "source": [
    "mu_ki_csvs = [str(file) for file in csvs if re.search('KI|MU', str(file)) and not re.search('checkpoint', str(file))]\n",
    "len(mu_ki_csvs)"
   ]
  },
  {
   "cell_type": "code",
   "execution_count": null,
   "id": "e4890a60-0954-4e47-a32c-807a40615ed1",
   "metadata": {},
   "outputs": [],
   "source": [
    "\n",
    "df = pd.read_csv('/home/jovyan/work/output/START_S048_T1_La1/START_S048_T1_La1.csv', sep=\",\")\n",
    "df"
   ]
  },
  {
   "cell_type": "code",
   "execution_count": null,
   "id": "5e4e75f2-6c72-481a-8c92-5c06a9f411b1",
   "metadata": {},
   "outputs": [],
   "source": [
    "label_dict = {\n",
    "    'file': [],\n",
    "    'labels': []\n",
    "}\n",
    "\n",
    "for file in tqdm(mu_ki_csvs):\n",
    "    file_name = Path(file).parent.name\n",
    "    df = pd.read_csv(file, sep=\",\")\n",
    "    labels = list(df['label'].unique())\n",
    "\n",
    "    label_dict['file'].append(file_name)\n",
    "    label_dict['labels'].append(labels)\n",
    "    \n",
    "label_df = pd.DataFrame(label_df)"
   ]
  },
  {
   "cell_type": "code",
   "execution_count": null,
   "id": "2bee3ae7-a374-40e3-89e9-2d1709ab5745",
   "metadata": {},
   "outputs": [],
   "source": [
    "label_dict['labels']"
   ]
  },
  {
   "cell_type": "code",
   "execution_count": null,
   "id": "a29cd68e-9373-45d5-9952-1d77252b2308",
   "metadata": {},
   "outputs": [],
   "source": [
    "\n",
    "df = pd.read_csv(mu_ki_csvs[0], sep=\",\")\n",
    "df"
   ]
  },
  {
   "cell_type": "code",
   "execution_count": null,
   "id": "c2220ddd-7315-43b6-8935-9c31578d69af",
   "metadata": {},
   "outputs": [],
   "source": [
    "list(df['label'].unique())"
   ]
  },
  {
   "cell_type": "code",
   "execution_count": null,
   "id": "3bc3d4f0-fa49-4411-978d-7c5ff4a9d431",
   "metadata": {},
   "outputs": [],
   "source": []
  }
 ],
 "metadata": {
  "kernelspec": {
   "display_name": "Python 3 (ipykernel)",
   "language": "python",
   "name": "python3"
  },
  "language_info": {
   "codemirror_mode": {
    "name": "ipython",
    "version": 3
   },
   "file_extension": ".py",
   "mimetype": "text/x-python",
   "name": "python",
   "nbconvert_exporter": "python",
   "pygments_lexer": "ipython3",
   "version": "3.11.9"
  }
 },
 "nbformat": 4,
 "nbformat_minor": 5
}
