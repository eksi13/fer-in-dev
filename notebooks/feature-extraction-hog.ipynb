{
 "cells": [
  {
   "cell_type": "code",
   "execution_count": 23,
   "id": "9ccc0cc6-a1ea-4bed-a2b3-daadd9a1dd96",
   "metadata": {},
   "outputs": [],
   "source": [
    "import cv2, sys, os, math\n",
    "import matplotlib.pyplot as plt\n",
    "import numpy as np\n",
    "from pathlib import Path\n",
    "from tqdm import tqdm\n",
    "\n",
    "import pandas as pd\n",
    "\n",
    "from skimage.feature import hog\n",
    "from sklearn.svm import SVC\n",
    "\n",
    "import random \n",
    "from sklearn.model_selection import train_test_split\n",
    "\n"
   ]
  },
  {
   "cell_type": "code",
   "execution_count": 36,
   "id": "ca48ffeb-f8a6-46ee-a883-17cb2dea71c5",
   "metadata": {},
   "outputs": [
    {
     "data": {
      "text/plain": [
       "[PosixPath('/project/data/out/NIMH-CHEFS/Afraid_direct/F32FS_8041.jpg'),\n",
       " PosixPath('/project/data/out/NIMH-CHEFS/Afraid_direct/F30FS_8546.jpg'),\n",
       " PosixPath('/project/data/out/NIMH-CHEFS/Afraid_direct/F23FS_7205.jpg'),\n",
       " PosixPath('/project/data/out/NIMH-CHEFS/Afraid_direct/M19FS_9117.jpg'),\n",
       " PosixPath('/project/data/out/NIMH-CHEFS/Afraid_direct/F37FS_9007.jpg'),\n",
       " PosixPath('/project/data/out/NIMH-CHEFS/Afraid_direct/F6FS_3906.jpg'),\n",
       " PosixPath('/project/data/out/NIMH-CHEFS/Afraid_direct/F18FS_6229.jpg'),\n",
       " PosixPath('/project/data/out/NIMH-CHEFS/Afraid_direct/F12FS_5036.jpg'),\n",
       " PosixPath('/project/data/out/NIMH-CHEFS/Afraid_direct/M7FS_5530.jpg'),\n",
       " PosixPath('/project/data/out/NIMH-CHEFS/Afraid_direct/F21FS_6587.jpg'),\n",
       " PosixPath('/project/data/out/NIMH-CHEFS/Afraid_direct/F19FS_6344.jpg'),\n",
       " PosixPath('/project/data/out/NIMH-CHEFS/Afraid_direct/F31FS_7861.jpg'),\n",
       " PosixPath('/project/data/out/NIMH-CHEFS/Afraid_direct/F8FS_4155.jpg'),\n",
       " PosixPath('/project/data/out/NIMH-CHEFS/Afraid_direct/M15FS_8364.jpg'),\n",
       " PosixPath('/project/data/out/NIMH-CHEFS/Afraid_direct/F40FS_9581.jpg'),\n",
       " PosixPath('/project/data/out/NIMH-CHEFS/Afraid_direct/F3FS_3596.jpg'),\n",
       " PosixPath('/project/data/out/NIMH-CHEFS/Afraid_direct/F15FS_5750.jpg'),\n",
       " PosixPath('/project/data/out/NIMH-CHEFS/Afraid_direct/M20FS_9236.jpg'),\n",
       " PosixPath('/project/data/out/NIMH-CHEFS/Afraid_direct/F22FS_6701.jpg'),\n",
       " PosixPath('/project/data/out/NIMH-CHEFS/Afraid_direct/M10_4FS_6817.jpg'),\n",
       " PosixPath('/project/data/out/NIMH-CHEFS/Afraid_direct/F2FS_3470.jpg'),\n",
       " PosixPath('/project/data/out/NIMH-CHEFS/Afraid_direct/F16FS_5978.jpg'),\n",
       " PosixPath('/project/data/out/NIMH-CHEFS/Afraid_direct/F38FS_9375.jpg'),\n",
       " PosixPath('/project/data/out/NIMH-CHEFS/Afraid_direct/M1FS_4325.jpg'),\n",
       " PosixPath('/project/data/out/NIMH-CHEFS/Afraid_direct/F35FS_8451.jpg'),\n",
       " PosixPath('/project/data/out/NIMH-CHEFS/Afraid_direct/M8FS_5869.jpg'),\n",
       " PosixPath('/project/data/out/NIMH-CHEFS/Afraid_direct/M14FS_7958.jpg'),\n",
       " PosixPath('/project/data/out/NIMH-CHEFS/Afraid_direct/F5FS_3793.jpg'),\n",
       " PosixPath('/project/data/out/NIMH-CHEFS/Afraid_direct/M4FS_4935.jpg'),\n",
       " PosixPath('/project/data/out/NIMH-CHEFS/Afraid_direct/M3FS_4775.jpg'),\n",
       " PosixPath('/project/data/out/NIMH-CHEFS/Afraid_direct/F39FS_9475.jpg'),\n",
       " PosixPath('/project/data/out/NIMH-CHEFS/Afraid_direct/F4FS_3704.jpg'),\n",
       " PosixPath('/project/data/out/NIMH-CHEFS/Afraid_direct/F11FS_4571.jpg'),\n",
       " PosixPath('/project/data/out/NIMH-CHEFS/Afraid_direct/M9FS_6104.jpg'),\n",
       " PosixPath('/project/data/out/NIMH-CHEFS/Afraid_direct/M12FS_7070.jpg'),\n",
       " PosixPath('/project/data/out/NIMH-CHEFS/Afraid_direct/F10FS_4426.jpg'),\n",
       " PosixPath('/project/data/out/NIMH-CHEFS/Afraid_direct/M6FS_5422.jpg'),\n",
       " PosixPath('/project/data/out/NIMH-CHEFS/Afraid_direct/F7FS_4016.jpg'),\n",
       " PosixPath('/project/data/out/NIMH-CHEFS/Afraid_direct/F9FS_4219.jpg'),\n",
       " PosixPath('/project/data/out/NIMH-CHEFS/Afraid_direct/M17FS_8783.jpg'),\n",
       " PosixPath('/project/data/out/NIMH-CHEFS/Afraid_direct/F13FS_5292.jpg'),\n",
       " PosixPath('/project/data/out/NIMH-CHEFS/Afraid_direct/M2FS_4636.jpg'),\n",
       " PosixPath('/project/data/out/NIMH-CHEFS/Afraid_direct/F14FS_5632.jpg'),\n",
       " PosixPath('/project/data/out/NIMH-CHEFS/Afraid_direct/F34FS_8257.jpg'),\n",
       " PosixPath('/project/data/out/NIMH-CHEFS/Afraid_direct/M5FS_5188.jpg'),\n",
       " PosixPath('/project/data/out/NIMH-CHEFS/Afraid_direct/F1FS_3388.jpg'),\n",
       " PosixPath('/project/data/out/NIMH-CHEFS/Afraid_direct/F33FS_8156.jpg'),\n",
       " PosixPath('/project/data/out/NIMH-CHEFS/Afraid_direct/F36FS_8556.jpg'),\n",
       " PosixPath('/project/data/out/NIMH-CHEFS/Afraid_direct/M18FS_8888.jpg'),\n",
       " PosixPath('/project/data/out/NIMH-CHEFS/Afraid_direct/F20FS_6456.jpg'),\n",
       " PosixPath('/project/data/out/NIMH-CHEFS/Afraid_direct/M16FS_8676.jpg'),\n",
       " PosixPath('/project/data/out/NIMH-CHEFS/Afraid_direct/M11FS_6953.jpg'),\n",
       " PosixPath('/project/data/out/NIMH-CHEFS/Neutral_averted/F22NA_6656.jpg'),\n",
       " PosixPath('/project/data/out/NIMH-CHEFS/Neutral_averted/F31NA_8578.jpg'),\n",
       " PosixPath('/project/data/out/NIMH-CHEFS/Neutral_averted/M12NA_7016.jpg'),\n",
       " PosixPath('/project/data/out/NIMH-CHEFS/Neutral_averted/F36NA_8496.jpg'),\n",
       " PosixPath('/project/data/out/NIMH-CHEFS/Neutral_averted/M17NA_8727.jpg'),\n",
       " PosixPath('/project/data/out/NIMH-CHEFS/Neutral_averted/F5NA_3751.jpg'),\n",
       " PosixPath('/project/data/out/NIMH-CHEFS/Neutral_averted/F34NA_8208.jpg'),\n",
       " PosixPath('/project/data/out/NIMH-CHEFS/Neutral_averted/F37NA_8951.jpg'),\n",
       " PosixPath('/project/data/out/NIMH-CHEFS/Neutral_averted/M5NA_5129.jpg'),\n",
       " PosixPath('/project/data/out/NIMH-CHEFS/Neutral_averted/F2NA_3441.jpg'),\n",
       " PosixPath('/project/data/out/NIMH-CHEFS/Neutral_averted/M11NA_6880.jpg'),\n",
       " PosixPath('/project/data/out/NIMH-CHEFS/Neutral_averted/F23NA_7143.jpg'),\n",
       " PosixPath('/project/data/out/NIMH-CHEFS/Neutral_averted/F18NA_6178.jpg'),\n",
       " PosixPath('/project/data/out/NIMH-CHEFS/Neutral_averted/F9NA_4182.jpg'),\n",
       " PosixPath('/project/data/out/NIMH-CHEFS/Neutral_averted/F13NA_5254.jpg'),\n",
       " PosixPath('/project/data/out/NIMH-CHEFS/Neutral_averted/F38NA_9321.jpg'),\n",
       " PosixPath('/project/data/out/NIMH-CHEFS/Neutral_averted/M19NA_9057.jpg'),\n",
       " PosixPath('/project/data/out/NIMH-CHEFS/Neutral_averted/F14NA_5587.jpg'),\n",
       " PosixPath('/project/data/out/NIMH-CHEFS/Neutral_averted/M6NA_5346.jpg'),\n",
       " PosixPath('/project/data/out/NIMH-CHEFS/Neutral_averted/F10NA_4368.jpg'),\n",
       " PosixPath('/project/data/out/NIMH-CHEFS/Neutral_averted/F11NA_4516.jpg'),\n",
       " PosixPath('/project/data/out/NIMH-CHEFS/Neutral_averted/F35NA_8416.jpg'),\n",
       " PosixPath('/project/data/out/NIMH-CHEFS/Neutral_averted/M8NA_5812.jpg'),\n",
       " PosixPath('/project/data/out/NIMH-CHEFS/Neutral_averted/F3NA_3534.jpg'),\n",
       " PosixPath('/project/data/out/NIMH-CHEFS/Neutral_averted/F40NA_9530.jpg'),\n",
       " PosixPath('/project/data/out/NIMH-CHEFS/Neutral_averted/M14NA_7908.jpg'),\n",
       " PosixPath('/project/data/out/NIMH-CHEFS/Neutral_averted/F19NA_6296.jpg'),\n",
       " PosixPath('/project/data/out/NIMH-CHEFS/Neutral_averted/F6NA_3862.jpg'),\n",
       " PosixPath('/project/data/out/NIMH-CHEFS/Neutral_averted/F15NA_5690.jpg'),\n",
       " PosixPath('/project/data/out/NIMH-CHEFS/Neutral_averted/F39NA_9423.jpg'),\n",
       " PosixPath('/project/data/out/NIMH-CHEFS/Neutral_averted/F16NA_5922.jpg'),\n",
       " PosixPath('/project/data/out/NIMH-CHEFS/Neutral_averted/M18NA_8847.jpg'),\n",
       " PosixPath('/project/data/out/NIMH-CHEFS/Neutral_averted/F8NA_4080.jpg'),\n",
       " PosixPath('/project/data/out/NIMH-CHEFS/Neutral_averted/F32NA_7991.jpg'),\n",
       " PosixPath('/project/data/out/NIMH-CHEFS/Neutral_averted/M15NA_8312.jpg'),\n",
       " PosixPath('/project/data/out/NIMH-CHEFS/Neutral_averted/M7NA_5490.jpg'),\n",
       " PosixPath('/project/data/out/NIMH-CHEFS/Neutral_averted/F7NA_3982.jpg'),\n",
       " PosixPath('/project/data/out/NIMH-CHEFS/Neutral_averted/M3NA_4692.jpg'),\n",
       " PosixPath('/project/data/out/NIMH-CHEFS/Neutral_averted/M9NA_6045.jpg'),\n",
       " PosixPath('/project/data/out/NIMH-CHEFS/Neutral_averted/F1NA_3327.jpg'),\n",
       " PosixPath('/project/data/out/NIMH-CHEFS/Neutral_averted/M10NA_6765.jpg'),\n",
       " PosixPath('/project/data/out/NIMH-CHEFS/Neutral_averted/M4NA_4861.jpg'),\n",
       " PosixPath('/project/data/out/NIMH-CHEFS/Neutral_averted/M1NA_4291.jpg'),\n",
       " PosixPath('/project/data/out/NIMH-CHEFS/Neutral_averted/M2NA_4489.jpg'),\n",
       " PosixPath('/project/data/out/NIMH-CHEFS/Neutral_averted/F20NA_6410.jpg'),\n",
       " PosixPath('/project/data/out/NIMH-CHEFS/Neutral_averted/F4NA_3655.jpg'),\n",
       " PosixPath('/project/data/out/NIMH-CHEFS/Neutral_averted/F12NA_4994.jpg'),\n",
       " PosixPath('/project/data/out/NIMH-CHEFS/Neutral_averted/F21NA_6537.jpg'),\n",
       " PosixPath('/project/data/out/NIMH-CHEFS/Neutral_averted/F33NA_8099.jpg'),\n",
       " PosixPath('/project/data/out/NIMH-CHEFS/Neutral_averted/M16NA_8630.jpg'),\n",
       " PosixPath('/project/data/out/NIMH-CHEFS/Neutral_averted/M20NA_9185.jpg'),\n",
       " PosixPath('/project/data/out/NIMH-CHEFS/Neutral_averted/F30NA_8493.jpg'),\n",
       " PosixPath('/project/data/out/NIMH-CHEFS/Afraid_averted/F40FA_9596.jpg'),\n",
       " PosixPath('/project/data/out/NIMH-CHEFS/Afraid_averted/M9FA_6121.jpg'),\n",
       " PosixPath('/project/data/out/NIMH-CHEFS/Afraid_averted/M1FA_4336.jpg'),\n",
       " PosixPath('/project/data/out/NIMH-CHEFS/Afraid_averted/F19FA_6353.jpg'),\n",
       " PosixPath('/project/data/out/NIMH-CHEFS/Afraid_averted/DSC_4644.jpg'),\n",
       " PosixPath('/project/data/out/NIMH-CHEFS/Afraid_averted/F7FA_4040.jpg'),\n",
       " PosixPath('/project/data/out/NIMH-CHEFS/Afraid_averted/F22FA_6710.jpg'),\n",
       " PosixPath('/project/data/out/NIMH-CHEFS/Afraid_averted/F31FA_7873.jpg'),\n",
       " PosixPath('/project/data/out/NIMH-CHEFS/Afraid_averted/M15FA_8374.jpg'),\n",
       " PosixPath('/project/data/out/NIMH-CHEFS/Afraid_averted/F16FA_5992.jpg'),\n",
       " PosixPath('/project/data/out/NIMH-CHEFS/Afraid_averted/M6FA__5449.jpg'),\n",
       " PosixPath('/project/data/out/NIMH-CHEFS/Afraid_averted/F14FA_5638.jpg'),\n",
       " PosixPath('/project/data/out/NIMH-CHEFS/Afraid_averted/M19FA_9129.jpg'),\n",
       " PosixPath('/project/data/out/NIMH-CHEFS/Afraid_averted/F30FA_8552.jpg'),\n",
       " PosixPath('/project/data/out/NIMH-CHEFS/Afraid_averted/F21FA_6608.jpg'),\n",
       " PosixPath('/project/data/out/NIMH-CHEFS/Afraid_averted/F9FA_4239.jpg'),\n",
       " PosixPath('/project/data/out/NIMH-CHEFS/Afraid_averted/F36FA_8567.jpg'),\n",
       " PosixPath('/project/data/out/NIMH-CHEFS/Afraid_averted/F34FA_8267.jpg'),\n",
       " PosixPath('/project/data/out/NIMH-CHEFS/Afraid_averted/F20FA_6488.jpg'),\n",
       " PosixPath('/project/data/out/NIMH-CHEFS/Afraid_averted/F32FA_8053.jpg'),\n",
       " PosixPath('/project/data/out/NIMH-CHEFS/Afraid_averted/F13FA_5314.jpg'),\n",
       " PosixPath('/project/data/out/NIMH-CHEFS/Afraid_averted/F6_2FA_5449.jpg'),\n",
       " PosixPath('/project/data/out/NIMH-CHEFS/Afraid_averted/F23FA_7228.jpg'),\n",
       " PosixPath('/project/data/out/NIMH-CHEFS/Afraid_averted/M12FA_7082.jpg'),\n",
       " PosixPath('/project/data/out/NIMH-CHEFS/Afraid_averted/M17FA_8799.jpg'),\n",
       " PosixPath('/project/data/out/NIMH-CHEFS/Afraid_averted/M16FA_8681.jpg'),\n",
       " PosixPath('/project/data/out/NIMH-CHEFS/Afraid_averted/M10_FA_6823.jpg'),\n",
       " PosixPath('/project/data/out/NIMH-CHEFS/Afraid_averted/M11FA_6969.jpg'),\n",
       " PosixPath('/project/data/out/NIMH-CHEFS/Afraid_averted/M7FA_5539.jpg'),\n",
       " PosixPath('/project/data/out/NIMH-CHEFS/Afraid_averted/M18FA_8913.jpg'),\n",
       " PosixPath('/project/data/out/NIMH-CHEFS/Afraid_averted/F1FA_3399.jpg'),\n",
       " PosixPath('/project/data/out/NIMH-CHEFS/Afraid_averted/F6FA_3922.jpg'),\n",
       " PosixPath('/project/data/out/NIMH-CHEFS/Afraid_averted/F10FA_4434.jpg'),\n",
       " PosixPath('/project/data/out/NIMH-CHEFS/Afraid_averted/M5FA_5198.jpg'),\n",
       " PosixPath('/project/data/out/NIMH-CHEFS/Afraid_averted/F33FA_8169.jpg'),\n",
       " PosixPath('/project/data/out/NIMH-CHEFS/Afraid_averted/M4FA_4941.jpg'),\n",
       " PosixPath('/project/data/out/NIMH-CHEFS/Afraid_averted/F37FA_9020.jpg'),\n",
       " PosixPath('/project/data/out/NIMH-CHEFS/Afraid_averted/F3FA_3605.jpg'),\n",
       " PosixPath('/project/data/out/NIMH-CHEFS/Afraid_averted/F8FA_4162.jpg'),\n",
       " PosixPath('/project/data/out/NIMH-CHEFS/Afraid_averted/F11FA_4574.jpg'),\n",
       " PosixPath('/project/data/out/NIMH-CHEFS/Afraid_averted/F38FA_9386.jpg'),\n",
       " PosixPath('/project/data/out/NIMH-CHEFS/Afraid_averted/F12FA_5062.jpg'),\n",
       " PosixPath('/project/data/out/NIMH-CHEFS/Afraid_averted/F18FA_6243.jpg'),\n",
       " PosixPath('/project/data/out/NIMH-CHEFS/Afraid_averted/M2FA_4644.jpg'),\n",
       " PosixPath('/project/data/out/NIMH-CHEFS/Afraid_averted/M8FA_5885.jpg'),\n",
       " PosixPath('/project/data/out/NIMH-CHEFS/Afraid_averted/F2FA_3491.jpg'),\n",
       " PosixPath('/project/data/out/NIMH-CHEFS/Afraid_averted/F5FA_3810.jpg'),\n",
       " PosixPath('/project/data/out/NIMH-CHEFS/Afraid_averted/F15FA_5767.jpg'),\n",
       " PosixPath('/project/data/out/NIMH-CHEFS/Afraid_averted/M6_1FA_5445.jpg'),\n",
       " PosixPath('/project/data/out/NIMH-CHEFS/Afraid_averted/F39FA_9489.jpg'),\n",
       " PosixPath('/project/data/out/NIMH-CHEFS/Afraid_averted/M3FA_4789.jpg'),\n",
       " PosixPath('/project/data/out/NIMH-CHEFS/Afraid_averted/F4FA_3712.jpg'),\n",
       " PosixPath('/project/data/out/NIMH-CHEFS/Afraid_averted/F35FA_8465.jpg'),\n",
       " PosixPath('/project/data/out/NIMH-CHEFS/Afraid_averted/M14FA_7960.jpg'),\n",
       " PosixPath('/project/data/out/NIMH-CHEFS/Happy_direct/F12HS_5000.jpg'),\n",
       " PosixPath('/project/data/out/NIMH-CHEFS/Happy_direct/F14HS_5590.jpg'),\n",
       " PosixPath('/project/data/out/NIMH-CHEFS/Happy_direct/F9HS_4187.jpg'),\n",
       " PosixPath('/project/data/out/NIMH-CHEFS/Happy_direct/M14HS_7912.jpg'),\n",
       " PosixPath('/project/data/out/NIMH-CHEFS/Happy_direct/M18HS_8848.jpg'),\n",
       " PosixPath('/project/data/out/NIMH-CHEFS/Happy_direct/F18HS_6186.jpg'),\n",
       " PosixPath('/project/data/out/NIMH-CHEFS/Happy_direct/M6HS_5354.jpg'),\n",
       " PosixPath('/project/data/out/NIMH-CHEFS/Happy_direct/F13HS_5255.jpg'),\n",
       " PosixPath('/project/data/out/NIMH-CHEFS/Happy_direct/F31HS_8581.jpg'),\n",
       " PosixPath('/project/data/out/NIMH-CHEFS/Happy_direct/F34HS_8209.jpg'),\n",
       " PosixPath('/project/data/out/NIMH-CHEFS/Happy_direct/M1HS_4301.jpg'),\n",
       " PosixPath('/project/data/out/NIMH-CHEFS/Happy_direct/M2HS_4493.jpg'),\n",
       " PosixPath('/project/data/out/NIMH-CHEFS/Happy_direct/F37HS_8954.jpg'),\n",
       " PosixPath('/project/data/out/NIMH-CHEFS/Happy_direct/F4HS_3664.jpg'),\n",
       " PosixPath('/project/data/out/NIMH-CHEFS/Happy_direct/M17HS_8732.jpg'),\n",
       " PosixPath('/project/data/out/NIMH-CHEFS/Happy_direct/M11HS_6885.jpg'),\n",
       " PosixPath('/project/data/out/NIMH-CHEFS/Happy_direct/F22HS_6659.jpg'),\n",
       " PosixPath('/project/data/out/NIMH-CHEFS/Happy_direct/F33HS_8104.jpg'),\n",
       " PosixPath('/project/data/out/NIMH-CHEFS/Happy_direct/F5HS_3759.jpg'),\n",
       " PosixPath('/project/data/out/NIMH-CHEFS/Happy_direct/M16HS_8633.jpg'),\n",
       " PosixPath('/project/data/out/NIMH-CHEFS/Happy_direct/M5HS_5134.jpg'),\n",
       " PosixPath('/project/data/out/NIMH-CHEFS/Happy_direct/F2HS_3448.jpg'),\n",
       " PosixPath('/project/data/out/NIMH-CHEFS/Happy_direct/M9HS_6054.jpg'),\n",
       " PosixPath('/project/data/out/NIMH-CHEFS/Happy_direct/M20HS_9191.jpg'),\n",
       " PosixPath('/project/data/out/NIMH-CHEFS/Happy_direct/F20HS_6413.jpg'),\n",
       " PosixPath('/project/data/out/NIMH-CHEFS/Happy_direct/M4HS_4862.jpg'),\n",
       " PosixPath('/project/data/out/NIMH-CHEFS/Happy_direct/M12HS_7022.jpg'),\n",
       " PosixPath('/project/data/out/NIMH-CHEFS/Happy_direct/F36HS_8502.jpg'),\n",
       " PosixPath('/project/data/out/NIMH-CHEFS/Happy_direct/M10HS_6767.jpg'),\n",
       " PosixPath('/project/data/out/NIMH-CHEFS/Happy_direct/F3HS_3540.jpg'),\n",
       " PosixPath('/project/data/out/NIMH-CHEFS/Happy_direct/F30HS_8495.jpg'),\n",
       " PosixPath('/project/data/out/NIMH-CHEFS/Happy_direct/F11HS_4520.jpg'),\n",
       " PosixPath('/project/data/out/NIMH-CHEFS/Happy_direct/F15HS_5694.jpg'),\n",
       " PosixPath('/project/data/out/NIMH-CHEFS/Happy_direct/F39HS_9426.jpg'),\n",
       " PosixPath('/project/data/out/NIMH-CHEFS/Happy_direct/M8HS_5817.jpg'),\n",
       " PosixPath('/project/data/out/NIMH-CHEFS/Happy_direct/F16HS_5924.jpg'),\n",
       " PosixPath('/project/data/out/NIMH-CHEFS/Happy_direct/F32HS_7996.jpg'),\n",
       " PosixPath('/project/data/out/NIMH-CHEFS/Happy_direct/F8HS_4086.jpg'),\n",
       " PosixPath('/project/data/out/NIMH-CHEFS/Happy_direct/F21HS_6544.jpg'),\n",
       " PosixPath('/project/data/out/NIMH-CHEFS/Happy_direct/F40HS_9533.jpg'),\n",
       " PosixPath('/project/data/out/NIMH-CHEFS/Happy_direct/M19HS_9059.jpg'),\n",
       " PosixPath('/project/data/out/NIMH-CHEFS/Happy_direct/F1HS_3423.jpg'),\n",
       " PosixPath('/project/data/out/NIMH-CHEFS/Happy_direct/F6HS_3875.jpg'),\n",
       " PosixPath('/project/data/out/NIMH-CHEFS/Happy_direct/F7HS_3986.jpg'),\n",
       " PosixPath('/project/data/out/NIMH-CHEFS/Happy_direct/F38HS_9328.jpg'),\n",
       " PosixPath('/project/data/out/NIMH-CHEFS/Happy_direct/F19HS_6297.jpg'),\n",
       " PosixPath('/project/data/out/NIMH-CHEFS/Happy_direct/M3HS_4695.jpg'),\n",
       " PosixPath('/project/data/out/NIMH-CHEFS/Happy_direct/M15HS_8316.jpg'),\n",
       " PosixPath('/project/data/out/NIMH-CHEFS/Happy_direct/F10HS_4372.jpg'),\n",
       " PosixPath('/project/data/out/NIMH-CHEFS/Happy_direct/F23HS_7148.jpg'),\n",
       " PosixPath('/project/data/out/NIMH-CHEFS/Happy_direct/M7HS_5497.jpg'),\n",
       " PosixPath('/project/data/out/NIMH-CHEFS/Happy_direct/F35HS_8418.jpg'),\n",
       " PosixPath('/project/data/out/NIMH-CHEFS/Angry_direct/F23AS_7248.jpg'),\n",
       " PosixPath('/project/data/out/NIMH-CHEFS/Angry_direct/M19AS_9158.jpg'),\n",
       " PosixPath('/project/data/out/NIMH-CHEFS/Angry_direct/F38AS_9388.jpg'),\n",
       " PosixPath('/project/data/out/NIMH-CHEFS/Angry_direct/F7AS_4050.jpg'),\n",
       " PosixPath('/project/data/out/NIMH-CHEFS/Angry_direct/F5AS_3827.jpg'),\n",
       " PosixPath('/project/data/out/NIMH-CHEFS/Angry_direct/M3AS_4811.jpg'),\n",
       " PosixPath('/project/data/out/NIMH-CHEFS/Angry_direct/F11AS_4593.jpg'),\n",
       " PosixPath('/project/data/out/NIMH-CHEFS/Angry_direct/F2AS_3506.jpg'),\n",
       " PosixPath('/project/data/out/NIMH-CHEFS/Angry_direct/M7AS_5550.jpg'),\n",
       " PosixPath('/project/data/out/NIMH-CHEFS/Angry_direct/F6_1_AS_3929.jpg'),\n",
       " PosixPath('/project/data/out/NIMH-CHEFS/Angry_direct/F3AS_3625.jpg'),\n",
       " PosixPath('/project/data/out/NIMH-CHEFS/Angry_direct/M6AS_5461.jpg'),\n",
       " PosixPath('/project/data/out/NIMH-CHEFS/Angry_direct/F31AS_7888.jpg'),\n",
       " PosixPath('/project/data/out/NIMH-CHEFS/Angry_direct/F18AS_6263.jpg'),\n",
       " PosixPath('/project/data/out/NIMH-CHEFS/Angry_direct/F12AS_5068.jpg'),\n",
       " PosixPath('/project/data/out/NIMH-CHEFS/Angry_direct/M20AS_9297.jpg'),\n",
       " PosixPath('/project/data/out/NIMH-CHEFS/Angry_direct/F8AS_4126.jpg'),\n",
       " PosixPath('/project/data/out/NIMH-CHEFS/Angry_direct/M1AS_4345.jpg'),\n",
       " PosixPath('/project/data/out/NIMH-CHEFS/Angry_direct/M10AS_6840.jpg'),\n",
       " PosixPath('/project/data/out/NIMH-CHEFS/Angry_direct/F30AS_8557.jpg'),\n",
       " PosixPath('/project/data/out/NIMH-CHEFS/Angry_direct/F20AS_6500.jpg'),\n",
       " PosixPath('/project/data/out/NIMH-CHEFS/Angry_direct/M4AS_4958.jpg'),\n",
       " PosixPath('/project/data/out/NIMH-CHEFS/Angry_direct/M5AS_5223.jpg'),\n",
       " PosixPath('/project/data/out/NIMH-CHEFS/Angry_direct/F21AS_6623.jpg'),\n",
       " PosixPath('/project/data/out/NIMH-CHEFS/Angry_direct/M18AS_8919.jpg'),\n",
       " PosixPath('/project/data/out/NIMH-CHEFS/Angry_direct/M11AS_6974.jpg'),\n",
       " PosixPath('/project/data/out/NIMH-CHEFS/Angry_direct/F36AS_8598.jpg'),\n",
       " PosixPath('/project/data/out/NIMH-CHEFS/Angry_direct/F34AS_8277.jpg'),\n",
       " PosixPath('/project/data/out/NIMH-CHEFS/Angry_direct/M17AS_8816.jpg'),\n",
       " PosixPath('/project/data/out/NIMH-CHEFS/Angry_direct/M12AS_7102.jpg'),\n",
       " PosixPath('/project/data/out/NIMH-CHEFS/Angry_direct/F16AS_6001.jpg'),\n",
       " PosixPath('/project/data/out/NIMH-CHEFS/Angry_direct/F13AS_5323.jpg'),\n",
       " PosixPath('/project/data/out/NIMH-CHEFS/Angry_direct/F33AS_8182.jpg'),\n",
       " PosixPath('/project/data/out/NIMH-CHEFS/Angry_direct/M16AS_8698.jpg'),\n",
       " PosixPath('/project/data/out/NIMH-CHEFS/Angry_direct/F32AS_8075.jpg'),\n",
       " PosixPath('/project/data/out/NIMH-CHEFS/Angry_direct/F1AS_3411.jpg'),\n",
       " PosixPath('/project/data/out/NIMH-CHEFS/Angry_direct/F37AS_9032.jpg'),\n",
       " PosixPath('/project/data/out/NIMH-CHEFS/Angry_direct/F40AS_9611.jpg'),\n",
       " PosixPath('/project/data/out/NIMH-CHEFS/Angry_direct/F15AS_5771.jpg'),\n",
       " PosixPath('/project/data/out/NIMH-CHEFS/Angry_direct/F35AS_8470.jpg'),\n",
       " PosixPath('/project/data/out/NIMH-CHEFS/Angry_direct/F22AS_6722.jpg'),\n",
       " PosixPath('/project/data/out/NIMH-CHEFS/Angry_direct/M9AS_6138.jpg'),\n",
       " PosixPath('/project/data/out/NIMH-CHEFS/Angry_direct/M8AS_5893.jpg'),\n",
       " PosixPath('/project/data/out/NIMH-CHEFS/Angry_direct/F19AS_6358.jpg'),\n",
       " PosixPath('/project/data/out/NIMH-CHEFS/Angry_direct/F10AS_4451.jpg'),\n",
       " PosixPath('/project/data/out/NIMH-CHEFS/Angry_direct/M15AS_8385.jpg'),\n",
       " PosixPath('/project/data/out/NIMH-CHEFS/Angry_direct/F39AS_9498.jpg'),\n",
       " PosixPath('/project/data/out/NIMH-CHEFS/Angry_direct/F4AS_3715.jpg'),\n",
       " PosixPath('/project/data/out/NIMH-CHEFS/Angry_direct/M14AS_7973.jpg'),\n",
       " PosixPath('/project/data/out/NIMH-CHEFS/Angry_direct/F9AS_4247.jpg'),\n",
       " PosixPath('/project/data/out/NIMH-CHEFS/Angry_direct/M2AS_4654.jpg'),\n",
       " PosixPath('/project/data/out/NIMH-CHEFS/Angry_direct/F14AS_5650.jpg'),\n",
       " PosixPath('/project/data/out/NIMH-CHEFS/Sad_averted/M3SA_4746.jpg'),\n",
       " PosixPath('/project/data/out/NIMH-CHEFS/Sad_averted/F16SA_5956.jpg'),\n",
       " PosixPath('/project/data/out/NIMH-CHEFS/Sad_averted/M14SA_7945.jpg'),\n",
       " PosixPath('/project/data/out/NIMH-CHEFS/Sad_averted/F11SA_4554.jpg'),\n",
       " PosixPath('/project/data/out/NIMH-CHEFS/Sad_averted/F35SA_8443.jpg'),\n",
       " PosixPath('/project/data/out/NIMH-CHEFS/Sad_averted/M20SA_9222.jpg'),\n",
       " PosixPath('/project/data/out/NIMH-CHEFS/Sad_averted/F34SA_8238.jpg'),\n",
       " PosixPath('/project/data/out/NIMH-CHEFS/Sad_averted/M3-2SA_4764.jpg'),\n",
       " PosixPath('/project/data/out/NIMH-CHEFS/Sad_averted/F4SA_3692.jpg'),\n",
       " PosixPath('/project/data/out/NIMH-CHEFS/Sad_averted/F30SA_8535.jpg'),\n",
       " PosixPath('/project/data/out/NIMH-CHEFS/Sad_averted/F2SA_3466.jpg'),\n",
       " PosixPath('/project/data/out/NIMH-CHEFS/Sad_averted/F3SA_3581.jpg'),\n",
       " PosixPath('/project/data/out/NIMH-CHEFS/Sad_averted/M9SA_6092.jpg'),\n",
       " PosixPath('/project/data/out/NIMH-CHEFS/Sad_averted/M1SA_4318.jpg'),\n",
       " PosixPath('/project/data/out/NIMH-CHEFS/Sad_averted/F22SA_6688.jpg'),\n",
       " PosixPath('/project/data/out/NIMH-CHEFS/Sad_averted/F15SA_5721.jpg'),\n",
       " PosixPath('/project/data/out/NIMH-CHEFS/Sad_averted/M12SA_7046.jpg'),\n",
       " PosixPath('/project/data/out/NIMH-CHEFS/Sad_averted/F9SA_4210.jpg'),\n",
       " PosixPath('/project/data/out/NIMH-CHEFS/Sad_averted/F21SA_6580.jpg'),\n",
       " PosixPath('/project/data/out/NIMH-CHEFS/Sad_averted/M18SA_8885.jpg'),\n",
       " PosixPath('/project/data/out/NIMH-CHEFS/Sad_averted/F12SA_5023.jpg'),\n",
       " PosixPath('/project/data/out/NIMH-CHEFS/Sad_averted/M19SA_9102.jpg'),\n",
       " PosixPath('/project/data/out/NIMH-CHEFS/Sad_averted/F8SA_4123.jpg'),\n",
       " PosixPath('/project/data/out/NIMH-CHEFS/Sad_averted/M6SA_5389.jpg'),\n",
       " PosixPath('/project/data/out/NIMH-CHEFS/Sad_averted/M7SA_5520.jpg'),\n",
       " PosixPath('/project/data/out/NIMH-CHEFS/Sad_averted/F18SA_6210.jpg'),\n",
       " PosixPath('/project/data/out/NIMH-CHEFS/Sad_averted/F6SA_3901.jpg'),\n",
       " PosixPath('/project/data/out/NIMH-CHEFS/Sad_averted/M17SA_8772.jpg'),\n",
       " PosixPath('/project/data/out/NIMH-CHEFS/Sad_averted/F19SA_6337.jpg'),\n",
       " PosixPath('/project/data/out/NIMH-CHEFS/Sad_averted/F10SA_4416.jpg'),\n",
       " PosixPath('/project/data/out/NIMH-CHEFS/Sad_averted/F13SA_5284.jpg'),\n",
       " PosixPath('/project/data/out/NIMH-CHEFS/Sad_averted/F33SA_8144.jpg'),\n",
       " PosixPath('/project/data/out/NIMH-CHEFS/Sad_averted/F1SA_3375.jpg'),\n",
       " PosixPath('/project/data/out/NIMH-CHEFS/Sad_averted/M16SA_8665.jpg'),\n",
       " PosixPath('/project/data/out/NIMH-CHEFS/Sad_averted/F23SA_7193.jpg'),\n",
       " PosixPath('/project/data/out/NIMH-CHEFS/Sad_averted/F36SA_8543.jpg'),\n",
       " PosixPath('/project/data/out/NIMH-CHEFS/Sad_averted/F7SA_4013.jpg'),\n",
       " PosixPath('/project/data/out/NIMH-CHEFS/Sad_averted/F14SA_5622.jpg'),\n",
       " PosixPath('/project/data/out/NIMH-CHEFS/Sad_averted/M5SA_5172.jpg'),\n",
       " PosixPath('/project/data/out/NIMH-CHEFS/Sad_averted/F20SA_6441.jpg'),\n",
       " PosixPath('/project/data/out/NIMH-CHEFS/Sad_averted/M10SA_6795.jpg'),\n",
       " PosixPath('/project/data/out/NIMH-CHEFS/Sad_averted/M15SA_8352.jpg'),\n",
       " PosixPath('/project/data/out/NIMH-CHEFS/Sad_averted/M3SA_4764.jpg'),\n",
       " PosixPath('/project/data/out/NIMH-CHEFS/Sad_averted/F40SA_9562.jpg'),\n",
       " PosixPath('/project/data/out/NIMH-CHEFS/Sad_averted/F5SA_3787.jpg'),\n",
       " PosixPath('/project/data/out/NIMH-CHEFS/Sad_averted/M8SA_5856.jpg'),\n",
       " PosixPath('/project/data/out/NIMH-CHEFS/Sad_averted/F39SA_9459.jpg'),\n",
       " PosixPath('/project/data/out/NIMH-CHEFS/Sad_averted/F38SA_9357.jpg'),\n",
       " PosixPath('/project/data/out/NIMH-CHEFS/Sad_averted/F37SA_8997.jpg'),\n",
       " PosixPath('/project/data/out/NIMH-CHEFS/Sad_averted/M4SA_4908.jpg'),\n",
       " PosixPath('/project/data/out/NIMH-CHEFS/Sad_averted/F32SA_8012.jpg'),\n",
       " PosixPath('/project/data/out/NIMH-CHEFS/Sad_averted/F31SA_8593.jpg'),\n",
       " PosixPath('/project/data/out/NIMH-CHEFS/Sad_averted/M11SA_6924.jpg'),\n",
       " PosixPath('/project/data/out/NIMH-CHEFS/Happy_averted/M1HA_4302.jpg'),\n",
       " PosixPath('/project/data/out/NIMH-CHEFS/Happy_averted/F20HA_6424.jpg'),\n",
       " PosixPath('/project/data/out/NIMH-CHEFS/Happy_averted/F31HA_8583.jpg'),\n",
       " PosixPath('/project/data/out/NIMH-CHEFS/Happy_averted/M16HA_8638.jpg'),\n",
       " PosixPath('/project/data/out/NIMH-CHEFS/Happy_averted/F30HA_8500.jpg'),\n",
       " PosixPath('/project/data/out/NIMH-CHEFS/Happy_averted/F38HA_2_9329.jpg'),\n",
       " PosixPath('/project/data/out/NIMH-CHEFS/Happy_averted/M11HA_6890.jpg'),\n",
       " PosixPath('/project/data/out/NIMH-CHEFS/Happy_averted/F2HA_3451.jpg'),\n",
       " PosixPath('/project/data/out/NIMH-CHEFS/Happy_averted/F34HA_8219.jpg'),\n",
       " PosixPath('/project/data/out/NIMH-CHEFS/Happy_averted/F9HA_4190.jpg'),\n",
       " PosixPath('/project/data/out/NIMH-CHEFS/Happy_averted/F32HA_7998.jpg'),\n",
       " PosixPath('/project/data/out/NIMH-CHEFS/Happy_averted/F19HA_6311.jpg'),\n",
       " PosixPath('/project/data/out/NIMH-CHEFS/Happy_averted/M3HA_4707.jpg'),\n",
       " PosixPath('/project/data/out/NIMH-CHEFS/Happy_averted/M17HA_8742.jpg'),\n",
       " PosixPath('/project/data/out/NIMH-CHEFS/Happy_averted/M14HA_7913.jpg'),\n",
       " PosixPath('/project/data/out/NIMH-CHEFS/Happy_averted/F12HA_5004.jpg'),\n",
       " PosixPath('/project/data/out/NIMH-CHEFS/Happy_averted/F23HA_7156.jpg'),\n",
       " PosixPath('/project/data/out/NIMH-CHEFS/Happy_averted/M15HA_8321.jpg'),\n",
       " PosixPath('/project/data/out/NIMH-CHEFS/Happy_averted/F14HA_5595.jpg'),\n",
       " PosixPath('/project/data/out/NIMH-CHEFS/Happy_averted/F10HA_4379.jpg'),\n",
       " PosixPath('/project/data/out/NIMH-CHEFS/Happy_averted/F18HA_6193.jpg'),\n",
       " PosixPath('/project/data/out/NIMH-CHEFS/Happy_averted/F15HA_5704.jpg'),\n",
       " PosixPath('/project/data/out/NIMH-CHEFS/Happy_averted/F6HA_3882.jpg'),\n",
       " PosixPath('/project/data/out/NIMH-CHEFS/Happy_averted/F40HA_9539.jpg'),\n",
       " PosixPath('/project/data/out/NIMH-CHEFS/Happy_averted/F38HA_1_9330.jpg'),\n",
       " PosixPath('/project/data/out/NIMH-CHEFS/Happy_averted/M7HA_5500.jpg'),\n",
       " PosixPath('/project/data/out/NIMH-CHEFS/Happy_averted/F13HA_5265.jpg'),\n",
       " PosixPath('/project/data/out/NIMH-CHEFS/Happy_averted/F39HA_9433.jpg'),\n",
       " PosixPath('/project/data/out/NIMH-CHEFS/Happy_averted/M8HA_5828.jpg'),\n",
       " PosixPath('/project/data/out/NIMH-CHEFS/Happy_averted/F1HA_3424.jpg'),\n",
       " PosixPath('/project/data/out/NIMH-CHEFS/Happy_averted/F35HA_8422.jpg'),\n",
       " PosixPath('/project/data/out/NIMH-CHEFS/Happy_averted/M5HA_5140.jpg'),\n",
       " PosixPath('/project/data/out/NIMH-CHEFS/Happy_averted/F16HA_5934.jpg'),\n",
       " PosixPath('/project/data/out/NIMH-CHEFS/Happy_averted/M18HA_8854.jpg'),\n",
       " PosixPath('/project/data/out/NIMH-CHEFS/Happy_averted/F11HA_4526.jpg'),\n",
       " PosixPath('/project/data/out/NIMH-CHEFS/Happy_averted/M6HA_5360.jpg'),\n",
       " PosixPath('/project/data/out/NIMH-CHEFS/Happy_averted/F21HA_6550.jpg'),\n",
       " PosixPath('/project/data/out/NIMH-CHEFS/Happy_averted/F1H1A_3424.jpg'),\n",
       " PosixPath('/project/data/out/NIMH-CHEFS/Happy_averted/F7HA_3985.jpg'),\n",
       " PosixPath('/project/data/out/NIMH-CHEFS/Happy_averted/M19HA_9066.jpg'),\n",
       " PosixPath('/project/data/out/NIMH-CHEFS/Happy_averted/F8HA_4091.jpg'),\n",
       " PosixPath('/project/data/out/NIMH-CHEFS/Happy_averted/F1H2A_3338.jpg'),\n",
       " PosixPath('/project/data/out/NIMH-CHEFS/Happy_averted/F37HA_8965.jpg'),\n",
       " PosixPath('/project/data/out/NIMH-CHEFS/Happy_averted/F5HA_3765.jpg'),\n",
       " PosixPath('/project/data/out/NIMH-CHEFS/Happy_averted/M20HA_9192.jpg'),\n",
       " PosixPath('/project/data/out/NIMH-CHEFS/Happy_averted/F4HA_3668.jpg'),\n",
       " PosixPath('/project/data/out/NIMH-CHEFS/Happy_averted/M12HA_7030.jpg'),\n",
       " PosixPath('/project/data/out/NIMH-CHEFS/Happy_averted/F22HA_6665.jpg'),\n",
       " PosixPath('/project/data/out/NIMH-CHEFS/Happy_averted/M9HA_6057.jpg'),\n",
       " PosixPath('/project/data/out/NIMH-CHEFS/Happy_averted/F36HA_8505.jpg'),\n",
       " PosixPath('/project/data/out/NIMH-CHEFS/Happy_averted/F3HA_3545.jpg'),\n",
       " PosixPath('/project/data/out/NIMH-CHEFS/Happy_averted/F33HA_8106.jpg'),\n",
       " PosixPath('/project/data/out/NIMH-CHEFS/Happy_averted/M4HA_4877.jpg'),\n",
       " PosixPath('/project/data/out/NIMH-CHEFS/Happy_averted/M10HA_6772.jpg'),\n",
       " PosixPath('/project/data/out/NIMH-CHEFS/Happy_averted/M2HA_4506.jpg'),\n",
       " PosixPath('/project/data/out/NIMH-CHEFS/Happy_averted/F38HA_3_9335.jpg'),\n",
       " PosixPath('/project/data/out/NIMH-CHEFS/Angry_averted/F34AA_8299.jpg'),\n",
       " PosixPath('/project/data/out/NIMH-CHEFS/Angry_averted/F32AA_8085.jpg'),\n",
       " PosixPath('/project/data/out/NIMH-CHEFS/Angry_averted/F20AA_6517.jpg'),\n",
       " PosixPath('/project/data/out/NIMH-CHEFS/Angry_averted/F16AA_6023.jpg'),\n",
       " PosixPath('/project/data/out/NIMH-CHEFS/Angry_averted/M1AA_4353.jpg'),\n",
       " PosixPath('/project/data/out/NIMH-CHEFS/Angry_averted/F36AA_8616.jpg'),\n",
       " PosixPath('/project/data/out/NIMH-CHEFS/Angry_averted/M9AA_6152.jpg'),\n",
       " PosixPath('/project/data/out/NIMH-CHEFS/Angry_averted/M12AA_7119.jpg'),\n",
       " PosixPath('/project/data/out/NIMH-CHEFS/Angry_averted/M4AA_4971.jpg'),\n",
       " PosixPath('/project/data/out/NIMH-CHEFS/Angry_averted/F5AA_3841.jpg'),\n",
       " PosixPath('/project/data/out/NIMH-CHEFS/Angry_averted/M18AA_8933.jpg'),\n",
       " PosixPath('/project/data/out/NIMH-CHEFS/Angry_averted/M5AA_5234.jpg'),\n",
       " PosixPath('/project/data/out/NIMH-CHEFS/Angry_averted/F6AA_3961.jpg'),\n",
       " PosixPath('/project/data/out/NIMH-CHEFS/Angry_averted/M19AA_9164.jpg'),\n",
       " PosixPath('/project/data/out/NIMH-CHEFS/Angry_averted/F35AA_8479.jpg'),\n",
       " PosixPath('/project/data/out/NIMH-CHEFS/Angry_averted/M6AA_5475.jpg'),\n",
       " PosixPath('/project/data/out/NIMH-CHEFS/Angry_averted/F8AA_4142.jpg'),\n",
       " PosixPath('/project/data/out/NIMH-CHEFS/Angry_averted/F10AA_4464.jpg'),\n",
       " PosixPath('/project/data/out/NIMH-CHEFS/Angry_averted/M2AA_4663.jpg'),\n",
       " PosixPath('/project/data/out/NIMH-CHEFS/Angry_averted/M3AA_4828.jpg'),\n",
       " PosixPath('/project/data/out/NIMH-CHEFS/Angry_averted/F38AA_9403.jpg'),\n",
       " PosixPath('/project/data/out/NIMH-CHEFS/Angry_averted/F40AA_9623.jpg'),\n",
       " PosixPath('/project/data/out/NIMH-CHEFS/Angry_averted/M8AA_5902.jpg'),\n",
       " PosixPath('/project/data/out/NIMH-CHEFS/Angry_averted/F2AA_3515.jpg'),\n",
       " PosixPath('/project/data/out/NIMH-CHEFS/Angry_averted/M10_AA_6847.jpg'),\n",
       " PosixPath('/project/data/out/NIMH-CHEFS/Angry_averted/F14AA_5670.jpg'),\n",
       " PosixPath('/project/data/out/NIMH-CHEFS/Angry_averted/M14AA_7977.jpg'),\n",
       " PosixPath('/project/data/out/NIMH-CHEFS/Angry_averted/F12AA_5104.jpg'),\n",
       " PosixPath('/project/data/out/NIMH-CHEFS/Angry_averted/F11AA_4607.jpg'),\n",
       " PosixPath('/project/data/out/NIMH-CHEFS/Angry_averted/F18AA_6287.jpg'),\n",
       " PosixPath('/project/data/out/NIMH-CHEFS/Angry_averted/F9AA_4268.jpg'),\n",
       " PosixPath('/project/data/out/NIMH-CHEFS/Angry_averted/F19AA_6374.jpg'),\n",
       " PosixPath('/project/data/out/NIMH-CHEFS/Angry_averted/F31AA_7892.jpg'),\n",
       " PosixPath('/project/data/out/NIMH-CHEFS/Angry_averted/F23AA_7256.jpg'),\n",
       " PosixPath('/project/data/out/NIMH-CHEFS/Angry_averted/F3AA_3638.jpg'),\n",
       " PosixPath('/project/data/out/NIMH-CHEFS/Angry_averted/M15AA_8391.jpg'),\n",
       " PosixPath('/project/data/out/NIMH-CHEFS/Angry_averted/F39AA_9512.jpg'),\n",
       " PosixPath('/project/data/out/NIMH-CHEFS/Angry_averted/F15AA_5789.jpg'),\n",
       " PosixPath('/project/data/out/NIMH-CHEFS/Angry_averted/F7AA_4061.jpg'),\n",
       " PosixPath('/project/data/out/NIMH-CHEFS/Angry_averted/F4AA_3728.jpg'),\n",
       " PosixPath('/project/data/out/NIMH-CHEFS/Angry_averted/M7AA_5567.jpg'),\n",
       " PosixPath('/project/data/out/NIMH-CHEFS/Angry_averted/F22AA_6730.jpg'),\n",
       " PosixPath('/project/data/out/NIMH-CHEFS/Angry_averted/F37AA_9037.jpg'),\n",
       " PosixPath('/project/data/out/NIMH-CHEFS/Angry_averted/F1AA_3414.jpg'),\n",
       " PosixPath('/project/data/out/NIMH-CHEFS/Angry_averted/M17AA_8829.jpg'),\n",
       " PosixPath('/project/data/out/NIMH-CHEFS/Angry_averted/M11AA_6984.jpg'),\n",
       " PosixPath('/project/data/out/NIMH-CHEFS/Angry_averted/F30AA_8566.jpg'),\n",
       " PosixPath('/project/data/out/NIMH-CHEFS/Angry_averted/M16AA_8705.jpg'),\n",
       " PosixPath('/project/data/out/NIMH-CHEFS/Angry_averted/F21AA_6628.jpg'),\n",
       " PosixPath('/project/data/out/NIMH-CHEFS/Angry_averted/M20AA_9305.jpg'),\n",
       " PosixPath('/project/data/out/NIMH-CHEFS/Angry_averted/F33AA_8190.jpg'),\n",
       " PosixPath('/project/data/out/NIMH-CHEFS/Angry_averted/F13AA_5331.jpg'),\n",
       " PosixPath('/project/data/out/NIMH-CHEFS/Neutral_direct/M15NS_8309.jpg'),\n",
       " PosixPath('/project/data/out/NIMH-CHEFS/Neutral_direct/F35NS_8413.jpg'),\n",
       " PosixPath('/project/data/out/NIMH-CHEFS/Neutral_direct/F19NS_6289.jpg'),\n",
       " PosixPath('/project/data/out/NIMH-CHEFS/Neutral_direct/F14NS_5583.jpg'),\n",
       " PosixPath('/project/data/out/NIMH-CHEFS/Neutral_direct/M6NS_5343.jpg'),\n",
       " PosixPath('/project/data/out/NIMH-CHEFS/Neutral_direct/F6NS_3857.jpg'),\n",
       " PosixPath('/project/data/out/NIMH-CHEFS/Neutral_direct/M3NS_4688.jpg'),\n",
       " PosixPath('/project/data/out/NIMH-CHEFS/Neutral_direct/F23NS_7140.jpg'),\n",
       " PosixPath('/project/data/out/NIMH-CHEFS/Neutral_direct/M14NS_7905.jpg'),\n",
       " PosixPath('/project/data/out/NIMH-CHEFS/Neutral_direct/F38NS_9318.jpg'),\n",
       " PosixPath('/project/data/out/NIMH-CHEFS/Neutral_direct/F11NS_4515.jpg'),\n",
       " PosixPath('/project/data/out/NIMH-CHEFS/Neutral_direct/M19NS_9055.jpg'),\n",
       " PosixPath('/project/data/out/NIMH-CHEFS/Neutral_direct/F7NS_3975.jpg'),\n",
       " PosixPath('/project/data/out/NIMH-CHEFS/Neutral_direct/F16NS_5915.jpg'),\n",
       " PosixPath('/project/data/out/NIMH-CHEFS/Neutral_direct/F8NS_4075.jpg'),\n",
       " PosixPath('/project/data/out/NIMH-CHEFS/Neutral_direct/F33NS_8095.jpg'),\n",
       " PosixPath('/project/data/out/NIMH-CHEFS/Neutral_direct/F36NS_8495.jpg'),\n",
       " PosixPath('/project/data/out/NIMH-CHEFS/Neutral_direct/M17NS_8725.jpg'),\n",
       " PosixPath('/project/data/out/NIMH-CHEFS/Neutral_direct/F30NS_8489.jpg'),\n",
       " PosixPath('/project/data/out/NIMH-CHEFS/Neutral_direct/F37NS_8945.jpg'),\n",
       " PosixPath('/project/data/out/NIMH-CHEFS/Neutral_direct/M12NS_7011.jpg'),\n",
       " PosixPath('/project/data/out/NIMH-CHEFS/Neutral_direct/F26NS_5642.jpg'),\n",
       " PosixPath('/project/data/out/NIMH-CHEFS/Neutral_direct/M4NS_4853.jpg'),\n",
       " PosixPath('/project/data/out/NIMH-CHEFS/Neutral_direct/F1NS_3316.jpg'),\n",
       " PosixPath('/project/data/out/NIMH-CHEFS/Neutral_direct/F24NS_5392.jpg'),\n",
       " PosixPath('/project/data/out/NIMH-CHEFS/Neutral_direct/F28NS_5864.jpg'),\n",
       " PosixPath('/project/data/out/NIMH-CHEFS/Neutral_direct/M5NS_5126.jpg'),\n",
       " PosixPath('/project/data/out/NIMH-CHEFS/Neutral_direct/M1NS_4286.jpg'),\n",
       " PosixPath('/project/data/out/NIMH-CHEFS/Neutral_direct/M10NS_6758.jpg'),\n",
       " PosixPath('/project/data/out/NIMH-CHEFS/Neutral_direct/F4NS_3650.jpg'),\n",
       " PosixPath('/project/data/out/NIMH-CHEFS/Neutral_direct/M11NS_6873.jpg'),\n",
       " PosixPath('/project/data/out/NIMH-CHEFS/Neutral_direct/F22NS_6649.jpg'),\n",
       " PosixPath('/project/data/out/NIMH-CHEFS/Neutral_direct/F34NS_8204.jpg'),\n",
       " PosixPath('/project/data/out/NIMH-CHEFS/Neutral_direct/F5NS_3749.jpg'),\n",
       " PosixPath('/project/data/out/NIMH-CHEFS/Neutral_direct/M20NS_9182.jpg'),\n",
       " PosixPath('/project/data/out/NIMH-CHEFS/Neutral_direct/F12NS_4986.jpg'),\n",
       " PosixPath('/project/data/out/NIMH-CHEFS/Neutral_direct/M2NS_4477.jpg'),\n",
       " PosixPath('/project/data/out/NIMH-CHEFS/Neutral_direct/F29NS_5990.jpg'),\n",
       " PosixPath('/project/data/out/NIMH-CHEFS/Neutral_direct/F25NS_5531.jpg'),\n",
       " PosixPath('/project/data/out/NIMH-CHEFS/Neutral_direct/F21NS_6535.jpg'),\n",
       " PosixPath('/project/data/out/NIMH-CHEFS/Neutral_direct/F27NS_5745.jpg'),\n",
       " PosixPath('/project/data/out/NIMH-CHEFS/Neutral_direct/F31NS_8574.jpg'),\n",
       " PosixPath('/project/data/out/NIMH-CHEFS/Neutral_direct/M9NS_6041.jpg'),\n",
       " PosixPath('/project/data/out/NIMH-CHEFS/Neutral_direct/F20NS_6407.jpg'),\n",
       " PosixPath('/project/data/out/NIMH-CHEFS/Neutral_direct/M16NS_8625.jpg'),\n",
       " PosixPath('/project/data/out/NIMH-CHEFS/Neutral_direct/F15NS_5687.jpg'),\n",
       " PosixPath('/project/data/out/NIMH-CHEFS/Neutral_direct/M8NS_5807.jpg'),\n",
       " PosixPath('/project/data/out/NIMH-CHEFS/Neutral_direct/M13NS_6118.jpg'),\n",
       " PosixPath('/project/data/out/NIMH-CHEFS/Neutral_direct/F2NS_3439.jpg'),\n",
       " PosixPath('/project/data/out/NIMH-CHEFS/Neutral_direct/F9NS_4175.jpg'),\n",
       " PosixPath('/project/data/out/NIMH-CHEFS/Neutral_direct/F40NS_9527.jpg'),\n",
       " PosixPath('/project/data/out/NIMH-CHEFS/Neutral_direct/F13NS_5249.jpg'),\n",
       " PosixPath('/project/data/out/NIMH-CHEFS/Neutral_direct/F10NS_4367.jpg'),\n",
       " PosixPath('/project/data/out/NIMH-CHEFS/Neutral_direct/F39NS_9422.jpg'),\n",
       " PosixPath('/project/data/out/NIMH-CHEFS/Neutral_direct/F18NS_6177.jpg'),\n",
       " PosixPath('/project/data/out/NIMH-CHEFS/Neutral_direct/F32NS_7990.jpg'),\n",
       " PosixPath('/project/data/out/NIMH-CHEFS/Neutral_direct/M7NS_5485.jpg'),\n",
       " PosixPath('/project/data/out/NIMH-CHEFS/Neutral_direct/F3NS_3531.jpg'),\n",
       " PosixPath('/project/data/out/NIMH-CHEFS/Neutral_direct/M18NS_8844.jpg'),\n",
       " PosixPath('/project/data/out/NIMH-CHEFS/Sad_direct/F23SS_7167.jpg'),\n",
       " PosixPath('/project/data/out/NIMH-CHEFS/Sad_direct/M18SS_8879.jpg'),\n",
       " PosixPath('/project/data/out/NIMH-CHEFS/Sad_direct/F35SS_8434.jpg'),\n",
       " PosixPath('/project/data/out/NIMH-CHEFS/Sad_direct/M14SS_7930.jpg'),\n",
       " PosixPath('/project/data/out/NIMH-CHEFS/Sad_direct/F9SS_4204.jpg'),\n",
       " PosixPath('/project/data/out/NIMH-CHEFS/Sad_direct/F10SS_4401.jpg'),\n",
       " PosixPath('/project/data/out/NIMH-CHEFS/Sad_direct/M16SS_8654.jpg'),\n",
       " PosixPath('/project/data/out/NIMH-CHEFS/Sad_direct/F18SS_6199.jpg'),\n",
       " PosixPath('/project/data/out/NIMH-CHEFS/Sad_direct/F6SS_3889.jpg'),\n",
       " PosixPath('/project/data/out/NIMH-CHEFS/Sad_direct/M7SS_5508.jpg'),\n",
       " PosixPath('/project/data/out/NIMH-CHEFS/Sad_direct/F13SS_5276.jpg'),\n",
       " PosixPath('/project/data/out/NIMH-CHEFS/Sad_direct/F14SS_5614.jpg'),\n",
       " PosixPath('/project/data/out/NIMH-CHEFS/Sad_direct/F16SS_5942.jpg'),\n",
       " PosixPath('/project/data/out/NIMH-CHEFS/Sad_direct/M9SS_6069.jpg'),\n",
       " PosixPath('/project/data/out/NIMH-CHEFS/Sad_direct/F4SS_3683.jpg'),\n",
       " PosixPath('/project/data/out/NIMH-CHEFS/Sad_direct/F30SS_8526.jpg'),\n",
       " PosixPath('/project/data/out/NIMH-CHEFS/Sad_direct/F2SS_3460.jpg'),\n",
       " PosixPath('/project/data/out/NIMH-CHEFS/Sad_direct/F39SS_9445.jpg'),\n",
       " PosixPath('/project/data/out/NIMH-CHEFS/Sad_direct/F22SS_6677.jpg'),\n",
       " PosixPath('/project/data/out/NIMH-CHEFS/Sad_direct/M3SS_4742.jpg'),\n",
       " PosixPath('/project/data/out/NIMH-CHEFS/Sad_direct/M4SS_4889.jpg'),\n",
       " PosixPath('/project/data/out/NIMH-CHEFS/Sad_direct/F37SS_8989.jpg'),\n",
       " PosixPath('/project/data/out/NIMH-CHEFS/Sad_direct/F11SS_4544.jpg'),\n",
       " PosixPath('/project/data/out/NIMH-CHEFS/Sad_direct/M10SS_6781.jpg'),\n",
       " PosixPath('/project/data/out/NIMH-CHEFS/Sad_direct/F20SS_6433.jpg'),\n",
       " PosixPath('/project/data/out/NIMH-CHEFS/Sad_direct/F36SS_8532.jpg'),\n",
       " PosixPath('/project/data/out/NIMH-CHEFS/Sad_direct/F33SS_8127.jpg'),\n",
       " PosixPath('/project/data/out/NIMH-CHEFS/Sad_direct/F3SS_3565.jpg'),\n",
       " PosixPath('/project/data/out/NIMH-CHEFS/Sad_direct/M8SS_5843.jpg'),\n",
       " PosixPath('/project/data/out/NIMH-CHEFS/Sad_direct/M12SS_7038.jpg'),\n",
       " PosixPath('/project/data/out/NIMH-CHEFS/Sad_direct/M1SS_4312.jpg'),\n",
       " PosixPath('/project/data/out/NIMH-CHEFS/Sad_direct/F5SS_3783.jpg'),\n",
       " PosixPath('/project/data/out/NIMH-CHEFS/Sad_direct/F32SS_8010.jpg'),\n",
       " PosixPath('/project/data/out/NIMH-CHEFS/Sad_direct/F34SS_8225.jpg'),\n",
       " PosixPath('/project/data/out/NIMH-CHEFS/Sad_direct/M20SS_9216.jpg'),\n",
       " PosixPath('/project/data/out/NIMH-CHEFS/Sad_direct/F31SS_8590.jpg'),\n",
       " PosixPath('/project/data/out/NIMH-CHEFS/Sad_direct/F40SS_9559.jpg'),\n",
       " PosixPath('/project/data/out/NIMH-CHEFS/Sad_direct/M11SS_6918.jpg'),\n",
       " PosixPath('/project/data/out/NIMH-CHEFS/Sad_direct/F38SS_9355.jpg'),\n",
       " PosixPath('/project/data/out/NIMH-CHEFS/Sad_direct/M19SS_9083.jpg'),\n",
       " PosixPath('/project/data/out/NIMH-CHEFS/Sad_direct/F12SS_5014.jpg'),\n",
       " PosixPath('/project/data/out/NIMH-CHEFS/Sad_direct/F7SS_4001.jpg'),\n",
       " PosixPath('/project/data/out/NIMH-CHEFS/Sad_direct/M5SS_5161.jpg'),\n",
       " PosixPath('/project/data/out/NIMH-CHEFS/Sad_direct/M6SS_5386.jpg'),\n",
       " PosixPath('/project/data/out/NIMH-CHEFS/Sad_direct/M15SS_8330.jpg'),\n",
       " PosixPath('/project/data/out/NIMH-CHEFS/Sad_direct/F21SS_6566.jpg'),\n",
       " PosixPath('/project/data/out/NIMH-CHEFS/Sad_direct/F15SS_5712.jpg'),\n",
       " PosixPath('/project/data/out/NIMH-CHEFS/Sad_direct/F8SS_4112.jpg'),\n",
       " PosixPath('/project/data/out/NIMH-CHEFS/Sad_direct/F19SS_6316.jpg'),\n",
       " PosixPath('/project/data/out/NIMH-CHEFS/Sad_direct/M17SS_8752.jpg'),\n",
       " PosixPath('/project/data/out/NIMH-CHEFS/Sad_direct/F1SS_3365.jpg')]"
      ]
     },
     "execution_count": 36,
     "metadata": {},
     "output_type": "execute_result"
    }
   ],
   "source": [
    "path = Path('/project/data/out/NIMH-CHEFS')\n",
    "\n",
    "imagePaths = list(path.rglob('*.jpg'))\n",
    "imagePaths_str = [str(path) for path in imagePaths]\n",
    "\n",
    "imagePaths\n",
    "#imagePaths_str"
   ]
  },
  {
   "cell_type": "code",
   "execution_count": 26,
   "id": "ad850ab3-bda2-4141-816c-b5c3adb45ce9",
   "metadata": {},
   "outputs": [
    {
     "data": {
      "image/png": "[encoded data removed]",
      "text/plain": [
       "<Figure size 2000x2000 with 10 Axes>"
      ]
     },
     "metadata": {},
     "output_type": "display_data"
    }
   ],
   "source": [
    "\n",
    "fig = plt.figure(figsize=(20,20))\n",
    "\n",
    "for i in range(10):\n",
    "\n",
    "    fig.add_subplot(1, 10, i + 1)\n",
    "    plt.imshow(np.array(cv2.imread(str(imagePaths[i]))), cmap='gray')\n",
    "    label = Path(imagePaths[i]).parent.name\n",
    "    plt.title(label)\n",
    "\n",
    "plt.show()"
   ]
  },
  {
   "cell_type": "code",
   "execution_count": 27,
   "id": "a3b51d83-8fa3-4c4f-a952-945dd613d6db",
   "metadata": {},
   "outputs": [],
   "source": [
    "def colortogray(im):\n",
    "    img = cv2.imread(im)\n",
    "    imgray = cv2.cvtColor(img, cv2.COLOR_BGR2GRAY)\n",
    "    return imgray\n",
    "\n",
    "def resizeImage(img, size):\n",
    "    return cv2.resize(img, (size,size))                 "
   ]
  },
  {
   "cell_type": "code",
   "execution_count": 34,
   "id": "7e8e4016",
   "metadata": {},
   "outputs": [],
   "source": [
    "def featuresHog(imagePaths):\n",
    "\n",
    "    features = []\n",
    "    labels = []\n",
    "\n",
    "    for imagePath in tqdm(imagePaths):\n",
    "        im = colortogray(imagePath)\n",
    "        im = resizeImage(im, 256)\n",
    "        \n",
    "        fd1 = hog(im, orientations=7, pixels_per_cell=(8, 8),\n",
    "                  cells_per_block=(4, 4),\n",
    "                  block_norm= 'L2-Hys' ,\n",
    "                  transform_sqrt = False)\n",
    "\n",
    "        label = Path(imagePaths[i]).parent.name\n",
    "        print(label)\n",
    "        labels.append(label)\n",
    "        features.append(fd1)\n",
    "\n",
    "    features = np.array(features)\n",
    "    labels = np.array(labels)\n",
    "    return features,labels\n",
    "  "
   ]
  },
  {
   "cell_type": "code",
   "execution_count": 35,
   "id": "263f7165",
   "metadata": {},
   "outputs": [
    {
     "name": "stderr",
     "output_type": "stream",
     "text": [
      "  1%| | 7/533 [00:00<00:17, 30.3"
     ]
    },
    {
     "name": "stdout",
     "output_type": "stream",
     "text": [
      "Afraid_direct\n",
      "Afraid_direct\n",
      "Afraid_direct\n",
      "Afraid_direct\n",
      "Afraid_direct\n",
      "Afraid_direct\n",
      "Afraid_direct\n"
     ]
    },
    {
     "name": "stderr",
     "output_type": "stream",
     "text": [
      "  2%| | 11/533 [00:00<00:17, 30."
     ]
    },
    {
     "name": "stdout",
     "output_type": "stream",
     "text": [
      "Afraid_direct\n",
      "Afraid_direct\n",
      "Afraid_direct\n",
      "Afraid_direct\n",
      "Afraid_direct\n",
      "Afraid_direct\n"
     ]
    },
    {
     "name": "stderr",
     "output_type": "stream",
     "text": [
      "  3%| | 18/533 [00:00<00:17, 28."
     ]
    },
    {
     "name": "stdout",
     "output_type": "stream",
     "text": [
      "Afraid_direct\n",
      "Afraid_direct\n",
      "Afraid_direct\n",
      "Afraid_direct\n",
      "Afraid_direct\n",
      "Afraid_direct\n",
      "Afraid_direct\n"
     ]
    },
    {
     "name": "stderr",
     "output_type": "stream",
     "text": [
      "  5%| | 26/533 [00:00<00:16, 31."
     ]
    },
    {
     "name": "stdout",
     "output_type": "stream",
     "text": [
      "Afraid_direct\n",
      "Afraid_direct\n",
      "Afraid_direct\n",
      "Afraid_direct\n",
      "Afraid_direct\n",
      "Afraid_direct\n",
      "Afraid_direct\n",
      "Afraid_direct\n"
     ]
    },
    {
     "name": "stderr",
     "output_type": "stream",
     "text": [
      "  6%| | 34/533 [00:01<00:15, 32."
     ]
    },
    {
     "name": "stdout",
     "output_type": "stream",
     "text": [
      "Afraid_direct\n",
      "Afraid_direct\n",
      "Afraid_direct\n",
      "Afraid_direct\n",
      "Afraid_direct\n",
      "Afraid_direct\n",
      "Afraid_direct\n",
      "Afraid_direct\n"
     ]
    },
    {
     "name": "stderr",
     "output_type": "stream",
     "text": [
      "  8%| | 42/533 [00:01<00:14, 32."
     ]
    },
    {
     "name": "stdout",
     "output_type": "stream",
     "text": [
      "Afraid_direct\n",
      "Afraid_direct\n",
      "Afraid_direct\n",
      "Afraid_direct\n",
      "Afraid_direct\n",
      "Afraid_direct\n",
      "Afraid_direct\n"
     ]
    },
    {
     "name": "stderr",
     "output_type": "stream",
     "text": [
      "  9%| | 50/533 [00:01<00:14, 34."
     ]
    },
    {
     "name": "stdout",
     "output_type": "stream",
     "text": [
      "Afraid_direct\n",
      "Afraid_direct\n",
      "Afraid_direct\n",
      "Afraid_direct\n",
      "Afraid_direct\n",
      "Afraid_direct\n",
      "Afraid_direct\n",
      "Afraid_direct\n"
     ]
    },
    {
     "name": "stderr",
     "output_type": "stream",
     "text": [
      " 11%| | 58/533 [00:01<00:13, 34."
     ]
    },
    {
     "name": "stdout",
     "output_type": "stream",
     "text": [
      "Afraid_direct\n",
      "Afraid_direct\n",
      "Afraid_direct\n",
      "Afraid_direct\n",
      "Afraid_direct\n",
      "Afraid_direct\n",
      "Afraid_direct\n",
      "Afraid_direct\n"
     ]
    },
    {
     "name": "stderr",
     "output_type": "stream",
     "text": [
      " 12%| | 66/533 [00:02<00:12, 36."
     ]
    },
    {
     "name": "stdout",
     "output_type": "stream",
     "text": [
      "Afraid_direct\n",
      "Afraid_direct\n",
      "Afraid_direct\n",
      "Afraid_direct\n",
      "Afraid_direct\n",
      "Afraid_direct\n",
      "Afraid_direct\n",
      "Afraid_direct\n"
     ]
    },
    {
     "name": "stderr",
     "output_type": "stream",
     "text": [
      " 14%|▏| 74/533 [00:02<00:12, 35."
     ]
    },
    {
     "name": "stdout",
     "output_type": "stream",
     "text": [
      "Afraid_direct\n",
      "Afraid_direct\n",
      "Afraid_direct\n",
      "Afraid_direct\n",
      "Afraid_direct\n",
      "Afraid_direct\n",
      "Afraid_direct\n",
      "Afraid_direct\n"
     ]
    },
    {
     "name": "stderr",
     "output_type": "stream",
     "text": [
      " 15%|▏| 82/533 [00:02<00:12, 35."
     ]
    },
    {
     "name": "stdout",
     "output_type": "stream",
     "text": [
      "Afraid_direct\n",
      "Afraid_direct\n",
      "Afraid_direct\n",
      "Afraid_direct\n",
      "Afraid_direct\n",
      "Afraid_direct\n",
      "Afraid_direct\n",
      "Afraid_direct\n"
     ]
    },
    {
     "name": "stderr",
     "output_type": "stream",
     "text": [
      " 17%|▏| 90/533 [00:02<00:12, 35."
     ]
    },
    {
     "name": "stdout",
     "output_type": "stream",
     "text": [
      "Afraid_direct\n",
      "Afraid_direct\n",
      "Afraid_direct\n",
      "Afraid_direct\n",
      "Afraid_direct\n",
      "Afraid_direct\n",
      "Afraid_direct\n",
      "Afraid_direct\n"
     ]
    },
    {
     "name": "stderr",
     "output_type": "stream",
     "text": [
      " 18%|▏| 98/533 [00:02<00:11, 36."
     ]
    },
    {
     "name": "stdout",
     "output_type": "stream",
     "text": [
      "Afraid_direct\n",
      "Afraid_direct\n",
      "Afraid_direct\n",
      "Afraid_direct\n",
      "Afraid_direct\n",
      "Afraid_direct\n",
      "Afraid_direct\n",
      "Afraid_direct\n"
     ]
    },
    {
     "name": "stderr",
     "output_type": "stream",
     "text": [
      " 20%|▏| 106/533 [00:03<00:11, 37"
     ]
    },
    {
     "name": "stdout",
     "output_type": "stream",
     "text": [
      "Afraid_direct\n",
      "Afraid_direct\n",
      "Afraid_direct\n",
      "Afraid_direct\n",
      "Afraid_direct\n",
      "Afraid_direct\n",
      "Afraid_direct\n",
      "Afraid_direct\n"
     ]
    },
    {
     "name": "stderr",
     "output_type": "stream",
     "text": [
      " 21%|▏| 114/533 [00:03<00:11, 36"
     ]
    },
    {
     "name": "stdout",
     "output_type": "stream",
     "text": [
      "Afraid_direct\n",
      "Afraid_direct\n",
      "Afraid_direct\n",
      "Afraid_direct\n",
      "Afraid_direct\n",
      "Afraid_direct\n",
      "Afraid_direct\n",
      "Afraid_direct\n"
     ]
    },
    {
     "name": "stderr",
     "output_type": "stream",
     "text": [
      " 23%|▏| 122/533 [00:03<00:11, 35"
     ]
    },
    {
     "name": "stdout",
     "output_type": "stream",
     "text": [
      "Afraid_direct\n",
      "Afraid_direct\n",
      "Afraid_direct\n",
      "Afraid_direct\n",
      "Afraid_direct\n",
      "Afraid_direct\n",
      "Afraid_direct\n",
      "Afraid_direct\n"
     ]
    },
    {
     "name": "stderr",
     "output_type": "stream",
     "text": [
      " 24%|▏| 130/533 [00:03<00:11, 33"
     ]
    },
    {
     "name": "stdout",
     "output_type": "stream",
     "text": [
      "Afraid_direct\n",
      "Afraid_direct\n",
      "Afraid_direct\n",
      "Afraid_direct\n",
      "Afraid_direct\n",
      "Afraid_direct\n",
      "Afraid_direct\n"
     ]
    },
    {
     "name": "stderr",
     "output_type": "stream",
     "text": [
      " 25%|▎| 134/533 [00:03<00:11, 33"
     ]
    },
    {
     "name": "stdout",
     "output_type": "stream",
     "text": [
      "Afraid_direct\n",
      "Afraid_direct\n",
      "Afraid_direct\n",
      "Afraid_direct\n",
      "Afraid_direct\n",
      "Afraid_direct\n",
      "Afraid_direct\n"
     ]
    },
    {
     "name": "stderr",
     "output_type": "stream",
     "text": [
      " 27%|▎| 142/533 [00:04<00:11, 34"
     ]
    },
    {
     "name": "stdout",
     "output_type": "stream",
     "text": [
      "Afraid_direct\n",
      "Afraid_direct\n",
      "Afraid_direct\n",
      "Afraid_direct\n",
      "Afraid_direct\n",
      "Afraid_direct\n",
      "Afraid_direct\n",
      "Afraid_direct\n"
     ]
    },
    {
     "name": "stderr",
     "output_type": "stream",
     "text": [
      " 28%|▎| 150/533 [00:04<00:10, 35"
     ]
    },
    {
     "name": "stdout",
     "output_type": "stream",
     "text": [
      "Afraid_direct\n",
      "Afraid_direct\n",
      "Afraid_direct\n",
      "Afraid_direct\n",
      "Afraid_direct\n",
      "Afraid_direct\n",
      "Afraid_direct\n",
      "Afraid_direct\n"
     ]
    },
    {
     "name": "stderr",
     "output_type": "stream",
     "text": [
      " 30%|▎| 158/533 [00:04<00:10, 36"
     ]
    },
    {
     "name": "stdout",
     "output_type": "stream",
     "text": [
      "Afraid_direct\n",
      "Afraid_direct\n",
      "Afraid_direct\n",
      "Afraid_direct\n",
      "Afraid_direct\n",
      "Afraid_direct\n",
      "Afraid_direct\n",
      "Afraid_direct\n"
     ]
    },
    {
     "name": "stderr",
     "output_type": "stream",
     "text": [
      " 31%|▎| 166/533 [00:04<00:10, 36"
     ]
    },
    {
     "name": "stdout",
     "output_type": "stream",
     "text": [
      "Afraid_direct\n",
      "Afraid_direct\n",
      "Afraid_direct\n",
      "Afraid_direct\n",
      "Afraid_direct\n",
      "Afraid_direct\n",
      "Afraid_direct\n",
      "Afraid_direct\n"
     ]
    },
    {
     "name": "stderr",
     "output_type": "stream",
     "text": [
      " 33%|▎| 174/533 [00:05<00:09, 36"
     ]
    },
    {
     "name": "stdout",
     "output_type": "stream",
     "text": [
      "Afraid_direct\n",
      "Afraid_direct\n",
      "Afraid_direct\n",
      "Afraid_direct\n",
      "Afraid_direct\n",
      "Afraid_direct\n",
      "Afraid_direct\n",
      "Afraid_direct\n"
     ]
    },
    {
     "name": "stderr",
     "output_type": "stream",
     "text": [
      " 34%|▎| 182/533 [00:05<00:09, 36"
     ]
    },
    {
     "name": "stdout",
     "output_type": "stream",
     "text": [
      "Afraid_direct\n",
      "Afraid_direct\n",
      "Afraid_direct\n",
      "Afraid_direct\n",
      "Afraid_direct\n",
      "Afraid_direct\n",
      "Afraid_direct\n",
      "Afraid_direct\n"
     ]
    },
    {
     "name": "stderr",
     "output_type": "stream",
     "text": [
      " 36%|▎| 190/533 [00:05<00:09, 37"
     ]
    },
    {
     "name": "stdout",
     "output_type": "stream",
     "text": [
      "Afraid_direct\n",
      "Afraid_direct\n",
      "Afraid_direct\n",
      "Afraid_direct\n",
      "Afraid_direct\n",
      "Afraid_direct\n",
      "Afraid_direct\n",
      "Afraid_direct\n"
     ]
    },
    {
     "name": "stderr",
     "output_type": "stream",
     "text": [
      " 37%|▎| 198/533 [00:05<00:09, 35"
     ]
    },
    {
     "name": "stdout",
     "output_type": "stream",
     "text": [
      "Afraid_direct\n",
      "Afraid_direct\n",
      "Afraid_direct\n",
      "Afraid_direct\n",
      "Afraid_direct\n",
      "Afraid_direct\n",
      "Afraid_direct\n",
      "Afraid_direct\n"
     ]
    },
    {
     "name": "stderr",
     "output_type": "stream",
     "text": [
      " 39%|▍| 206/533 [00:05<00:09, 34"
     ]
    },
    {
     "name": "stdout",
     "output_type": "stream",
     "text": [
      "Afraid_direct\n",
      "Afraid_direct\n",
      "Afraid_direct\n",
      "Afraid_direct\n",
      "Afraid_direct\n",
      "Afraid_direct\n",
      "Afraid_direct\n"
     ]
    },
    {
     "name": "stderr",
     "output_type": "stream",
     "text": [
      " 40%|▍| 214/533 [00:06<00:08, 36"
     ]
    },
    {
     "name": "stdout",
     "output_type": "stream",
     "text": [
      "Afraid_direct\n",
      "Afraid_direct\n",
      "Afraid_direct\n",
      "Afraid_direct\n",
      "Afraid_direct\n",
      "Afraid_direct\n",
      "Afraid_direct\n",
      "Afraid_direct\n"
     ]
    },
    {
     "name": "stderr",
     "output_type": "stream",
     "text": [
      " 42%|▍| 222/533 [00:06<00:08, 36"
     ]
    },
    {
     "name": "stdout",
     "output_type": "stream",
     "text": [
      "Afraid_direct\n",
      "Afraid_direct\n",
      "Afraid_direct\n",
      "Afraid_direct\n",
      "Afraid_direct\n",
      "Afraid_direct\n",
      "Afraid_direct\n",
      "Afraid_direct\n"
     ]
    },
    {
     "name": "stderr",
     "output_type": "stream",
     "text": [
      " 43%|▍| 230/533 [00:06<00:08, 36"
     ]
    },
    {
     "name": "stdout",
     "output_type": "stream",
     "text": [
      "Afraid_direct\n",
      "Afraid_direct\n",
      "Afraid_direct\n",
      "Afraid_direct\n",
      "Afraid_direct\n",
      "Afraid_direct\n",
      "Afraid_direct\n",
      "Afraid_direct\n"
     ]
    },
    {
     "name": "stderr",
     "output_type": "stream",
     "text": [
      " 45%|▍| 238/533 [00:06<00:08, 36"
     ]
    },
    {
     "name": "stdout",
     "output_type": "stream",
     "text": [
      "Afraid_direct\n",
      "Afraid_direct\n",
      "Afraid_direct\n",
      "Afraid_direct\n",
      "Afraid_direct\n",
      "Afraid_direct\n",
      "Afraid_direct\n",
      "Afraid_direct\n"
     ]
    },
    {
     "name": "stderr",
     "output_type": "stream",
     "text": [
      " 46%|▍| 246/533 [00:06<00:07, 37"
     ]
    },
    {
     "name": "stdout",
     "output_type": "stream",
     "text": [
      "Afraid_direct\n",
      "Afraid_direct\n",
      "Afraid_direct\n",
      "Afraid_direct\n",
      "Afraid_direct\n",
      "Afraid_direct\n",
      "Afraid_direct\n",
      "Afraid_direct\n",
      "Afraid_direct\n"
     ]
    },
    {
     "name": "stderr",
     "output_type": "stream",
     "text": [
      " 48%|▍| 254/533 [00:07<00:07, 36"
     ]
    },
    {
     "name": "stdout",
     "output_type": "stream",
     "text": [
      "Afraid_direct\n",
      "Afraid_direct\n",
      "Afraid_direct\n",
      "Afraid_direct\n",
      "Afraid_direct\n",
      "Afraid_direct\n",
      "Afraid_direct\n",
      "Afraid_direct\n"
     ]
    },
    {
     "name": "stderr",
     "output_type": "stream",
     "text": [
      " 49%|▍| 262/533 [00:07<00:07, 37"
     ]
    },
    {
     "name": "stdout",
     "output_type": "stream",
     "text": [
      "Afraid_direct\n",
      "Afraid_direct\n",
      "Afraid_direct\n",
      "Afraid_direct\n",
      "Afraid_direct\n",
      "Afraid_direct\n",
      "Afraid_direct\n",
      "Afraid_direct\n"
     ]
    },
    {
     "name": "stderr",
     "output_type": "stream",
     "text": [
      " 51%|▌| 270/533 [00:07<00:07, 37"
     ]
    },
    {
     "name": "stdout",
     "output_type": "stream",
     "text": [
      "Afraid_direct\n",
      "Afraid_direct\n",
      "Afraid_direct\n",
      "Afraid_direct\n",
      "Afraid_direct\n",
      "Afraid_direct\n",
      "Afraid_direct\n",
      "Afraid_direct\n"
     ]
    },
    {
     "name": "stderr",
     "output_type": "stream",
     "text": [
      " 52%|▌| 278/533 [00:07<00:07, 35"
     ]
    },
    {
     "name": "stdout",
     "output_type": "stream",
     "text": [
      "Afraid_direct\n",
      "Afraid_direct\n",
      "Afraid_direct\n",
      "Afraid_direct\n",
      "Afraid_direct\n",
      "Afraid_direct\n",
      "Afraid_direct\n",
      "Afraid_direct\n"
     ]
    },
    {
     "name": "stderr",
     "output_type": "stream",
     "text": [
      " 54%|▌| 286/533 [00:08<00:06, 35"
     ]
    },
    {
     "name": "stdout",
     "output_type": "stream",
     "text": [
      "Afraid_direct\n",
      "Afraid_direct\n",
      "Afraid_direct\n",
      "Afraid_direct\n",
      "Afraid_direct\n",
      "Afraid_direct\n",
      "Afraid_direct\n",
      "Afraid_direct\n"
     ]
    },
    {
     "name": "stderr",
     "output_type": "stream",
     "text": [
      " 55%|▌| 294/533 [00:08<00:06, 35"
     ]
    },
    {
     "name": "stdout",
     "output_type": "stream",
     "text": [
      "Afraid_direct\n",
      "Afraid_direct\n",
      "Afraid_direct\n",
      "Afraid_direct\n",
      "Afraid_direct\n",
      "Afraid_direct\n",
      "Afraid_direct\n",
      "Afraid_direct\n"
     ]
    },
    {
     "name": "stderr",
     "output_type": "stream",
     "text": [
      " 57%|▌| 302/533 [00:08<00:06, 35"
     ]
    },
    {
     "name": "stdout",
     "output_type": "stream",
     "text": [
      "Afraid_direct\n",
      "Afraid_direct\n",
      "Afraid_direct\n",
      "Afraid_direct\n",
      "Afraid_direct\n",
      "Afraid_direct\n",
      "Afraid_direct\n",
      "Afraid_direct\n"
     ]
    },
    {
     "name": "stderr",
     "output_type": "stream",
     "text": [
      " 58%|▌| 310/533 [00:08<00:06, 36"
     ]
    },
    {
     "name": "stdout",
     "output_type": "stream",
     "text": [
      "Afraid_direct\n",
      "Afraid_direct\n",
      "Afraid_direct\n",
      "Afraid_direct\n",
      "Afraid_direct\n",
      "Afraid_direct\n",
      "Afraid_direct\n",
      "Afraid_direct\n"
     ]
    },
    {
     "name": "stderr",
     "output_type": "stream",
     "text": [
      " 60%|▌| 319/533 [00:09<00:06, 35"
     ]
    },
    {
     "name": "stdout",
     "output_type": "stream",
     "text": [
      "Afraid_direct\n",
      "Afraid_direct\n",
      "Afraid_direct\n",
      "Afraid_direct\n",
      "Afraid_direct\n",
      "Afraid_direct\n"
     ]
    },
    {
     "name": "stderr",
     "output_type": "stream",
     "text": [
      "\n"
     ]
    },
    {
     "ename": "KeyboardInterrupt",
     "evalue": "",
     "output_type": "error",
     "traceback": [
      "\u001b[0;31m---------------------------------------------------------------------------\u001b[0m",
      "\u001b[0;31mKeyboardInterrupt\u001b[0m                         Traceback (most recent call last)",
      "Cell \u001b[0;32mIn[35], line 1\u001b[0m\n\u001b[0;32m----> 1\u001b[0m features, labels \u001b[38;5;241m=\u001b[39m \u001b[43mfeaturesHog\u001b[49m\u001b[43m(\u001b[49m\u001b[43mimagePaths_str\u001b[49m\u001b[43m)\u001b[49m\n\u001b[1;32m      4\u001b[0m \u001b[38;5;28mprint\u001b[39m(\u001b[38;5;124m\"\u001b[39m\u001b[38;5;124m[INFO] The number of features ...\u001b[39m\u001b[38;5;124m\"\u001b[39m \u001b[38;5;241m+\u001b[39m \u001b[38;5;28mstr\u001b[39m(features\u001b[38;5;241m.\u001b[39mshape[\u001b[38;5;241m1\u001b[39m]))\n\u001b[1;32m      6\u001b[0m \u001b[38;5;28mprint\u001b[39m(\u001b[38;5;124m\"\u001b[39m\u001b[38;5;124m[INFO] The number of samples ...\u001b[39m\u001b[38;5;124m\"\u001b[39m \u001b[38;5;241m+\u001b[39m \u001b[38;5;28mstr\u001b[39m(labels\u001b[38;5;241m.\u001b[39mshape[\u001b[38;5;241m0\u001b[39m]))\n",
      "Cell \u001b[0;32mIn[34], line 9\u001b[0m, in \u001b[0;36mfeaturesHog\u001b[0;34m(imagePaths)\u001b[0m\n\u001b[1;32m      7\u001b[0m im \u001b[38;5;241m=\u001b[39m colortogray(imagePath)\n\u001b[1;32m      8\u001b[0m im \u001b[38;5;241m=\u001b[39m resizeImage(im, \u001b[38;5;241m256\u001b[39m)\n\u001b[0;32m----> 9\u001b[0m fd1 \u001b[38;5;241m=\u001b[39m \u001b[43mhog\u001b[49m\u001b[43m(\u001b[49m\u001b[43mim\u001b[49m\u001b[43m,\u001b[49m\u001b[43m \u001b[49m\u001b[43morientations\u001b[49m\u001b[38;5;241;43m=\u001b[39;49m\u001b[38;5;241;43m7\u001b[39;49m\u001b[43m,\u001b[49m\u001b[43m \u001b[49m\u001b[43mpixels_per_cell\u001b[49m\u001b[38;5;241;43m=\u001b[39;49m\u001b[43m(\u001b[49m\u001b[38;5;241;43m8\u001b[39;49m\u001b[43m,\u001b[49m\u001b[43m \u001b[49m\u001b[38;5;241;43m8\u001b[39;49m\u001b[43m)\u001b[49m\u001b[43m,\u001b[49m\n\u001b[1;32m     10\u001b[0m \u001b[43m          \u001b[49m\u001b[43mcells_per_block\u001b[49m\u001b[38;5;241;43m=\u001b[39;49m\u001b[43m(\u001b[49m\u001b[38;5;241;43m4\u001b[39;49m\u001b[43m,\u001b[49m\u001b[43m \u001b[49m\u001b[38;5;241;43m4\u001b[39;49m\u001b[43m)\u001b[49m\u001b[43m,\u001b[49m\n\u001b[1;32m     11\u001b[0m \u001b[43m          \u001b[49m\u001b[43mblock_norm\u001b[49m\u001b[38;5;241;43m=\u001b[39;49m\u001b[43m \u001b[49m\u001b[38;5;124;43m'\u001b[39;49m\u001b[38;5;124;43mL2-Hys\u001b[39;49m\u001b[38;5;124;43m'\u001b[39;49m\u001b[43m \u001b[49m\u001b[43m,\u001b[49m\n\u001b[1;32m     12\u001b[0m \u001b[43m          \u001b[49m\u001b[43mtransform_sqrt\u001b[49m\u001b[43m \u001b[49m\u001b[38;5;241;43m=\u001b[39;49m\u001b[43m \u001b[49m\u001b[38;5;28;43;01mFalse\u001b[39;49;00m\u001b[43m)\u001b[49m\n\u001b[1;32m     14\u001b[0m label \u001b[38;5;241m=\u001b[39m Path(imagePaths[i])\u001b[38;5;241m.\u001b[39mparent\u001b[38;5;241m.\u001b[39mname\n\u001b[1;32m     15\u001b[0m \u001b[38;5;28mprint\u001b[39m(label)\n",
      "File \u001b[0;32m/usr/local/lib/python3.8/dist-packages/skimage/_shared/utils.py:316\u001b[0m, in \u001b[0;36mchannel_as_last_axis.__call__.<locals>.fixed_func\u001b[0;34m(*args, **kwargs)\u001b[0m\n\u001b[1;32m    313\u001b[0m channel_axis \u001b[38;5;241m=\u001b[39m kwargs\u001b[38;5;241m.\u001b[39mget(\u001b[38;5;124m'\u001b[39m\u001b[38;5;124mchannel_axis\u001b[39m\u001b[38;5;124m'\u001b[39m, \u001b[38;5;28;01mNone\u001b[39;00m)\n\u001b[1;32m    315\u001b[0m \u001b[38;5;28;01mif\u001b[39;00m channel_axis \u001b[38;5;129;01mis\u001b[39;00m \u001b[38;5;28;01mNone\u001b[39;00m:\n\u001b[0;32m--> 316\u001b[0m     \u001b[38;5;28;01mreturn\u001b[39;00m \u001b[43mfunc\u001b[49m\u001b[43m(\u001b[49m\u001b[38;5;241;43m*\u001b[39;49m\u001b[43margs\u001b[49m\u001b[43m,\u001b[49m\u001b[43m \u001b[49m\u001b[38;5;241;43m*\u001b[39;49m\u001b[38;5;241;43m*\u001b[39;49m\u001b[43mkwargs\u001b[49m\u001b[43m)\u001b[49m\n\u001b[1;32m    318\u001b[0m \u001b[38;5;66;03m# TODO: convert scalars to a tuple in anticipation of eventually\u001b[39;00m\n\u001b[1;32m    319\u001b[0m \u001b[38;5;66;03m#       supporting a tuple of channel axes. Right now, only an\u001b[39;00m\n\u001b[1;32m    320\u001b[0m \u001b[38;5;66;03m#       integer or a single-element tuple is supported, though.\u001b[39;00m\n\u001b[1;32m    321\u001b[0m \u001b[38;5;28;01mif\u001b[39;00m np\u001b[38;5;241m.\u001b[39misscalar(channel_axis):\n",
      "File \u001b[0;32m/usr/local/lib/python3.8/dist-packages/skimage/feature/_hog.py:288\u001b[0m, in \u001b[0;36mhog\u001b[0;34m(image, orientations, pixels_per_cell, cells_per_block, block_norm, visualize, transform_sqrt, feature_vector, channel_axis)\u001b[0m\n\u001b[1;32m    285\u001b[0m     \u001b[38;5;28;01mfor\u001b[39;00m c \u001b[38;5;129;01min\u001b[39;00m \u001b[38;5;28mrange\u001b[39m(n_blocks_col):\n\u001b[1;32m    286\u001b[0m         block \u001b[38;5;241m=\u001b[39m orientation_histogram[r:r \u001b[38;5;241m+\u001b[39m b_row, c:c \u001b[38;5;241m+\u001b[39m b_col, :]\n\u001b[1;32m    287\u001b[0m         normalized_blocks[r, c, :] \u001b[38;5;241m=\u001b[39m \\\n\u001b[0;32m--> 288\u001b[0m             \u001b[43m_hog_normalize_block\u001b[49m\u001b[43m(\u001b[49m\u001b[43mblock\u001b[49m\u001b[43m,\u001b[49m\u001b[43m \u001b[49m\u001b[43mmethod\u001b[49m\u001b[38;5;241;43m=\u001b[39;49m\u001b[43mblock_norm\u001b[49m\u001b[43m)\u001b[49m\n\u001b[1;32m    290\u001b[0m \u001b[38;5;250m\u001b[39m\u001b[38;5;124;03m\"\"\"\u001b[39;00m\n\u001b[1;32m    291\u001b[0m \u001b[38;5;124;03mThe final step collects the HOG descriptors from all blocks of a dense\u001b[39;00m\n\u001b[1;32m    292\u001b[0m \u001b[38;5;124;03moverlapping grid of blocks covering the detection window into a combined\u001b[39;00m\n\u001b[1;32m    293\u001b[0m \u001b[38;5;124;03mfeature vector for use in the window classifier.\u001b[39;00m\n\u001b[1;32m    294\u001b[0m \u001b[38;5;124;03m\"\"\"\u001b[39;00m\n\u001b[1;32m    296\u001b[0m \u001b[38;5;28;01mif\u001b[39;00m feature_vector:\n",
      "File \u001b[0;32m/usr/local/lib/python3.8/dist-packages/skimage/feature/_hog.py:15\u001b[0m, in \u001b[0;36m_hog_normalize_block\u001b[0;34m(block, method, eps)\u001b[0m\n\u001b[1;32m     13\u001b[0m     out \u001b[38;5;241m=\u001b[39m block \u001b[38;5;241m/\u001b[39m np\u001b[38;5;241m.\u001b[39msqrt(np\u001b[38;5;241m.\u001b[39msum(block \u001b[38;5;241m*\u001b[39m\u001b[38;5;241m*\u001b[39m \u001b[38;5;241m2\u001b[39m) \u001b[38;5;241m+\u001b[39m eps \u001b[38;5;241m*\u001b[39m\u001b[38;5;241m*\u001b[39m \u001b[38;5;241m2\u001b[39m)\n\u001b[1;32m     14\u001b[0m \u001b[38;5;28;01melif\u001b[39;00m method \u001b[38;5;241m==\u001b[39m \u001b[38;5;124m'\u001b[39m\u001b[38;5;124mL2-Hys\u001b[39m\u001b[38;5;124m'\u001b[39m:\n\u001b[0;32m---> 15\u001b[0m     out \u001b[38;5;241m=\u001b[39m block \u001b[38;5;241m/\u001b[39m np\u001b[38;5;241m.\u001b[39msqrt(\u001b[43mnp\u001b[49m\u001b[38;5;241;43m.\u001b[39;49m\u001b[43msum\u001b[49m\u001b[43m(\u001b[49m\u001b[43mblock\u001b[49m\u001b[43m \u001b[49m\u001b[38;5;241;43m*\u001b[39;49m\u001b[38;5;241;43m*\u001b[39;49m\u001b[43m \u001b[49m\u001b[38;5;241;43m2\u001b[39;49m\u001b[43m)\u001b[49m \u001b[38;5;241m+\u001b[39m eps \u001b[38;5;241m*\u001b[39m\u001b[38;5;241m*\u001b[39m \u001b[38;5;241m2\u001b[39m)\n\u001b[1;32m     16\u001b[0m     out \u001b[38;5;241m=\u001b[39m np\u001b[38;5;241m.\u001b[39mminimum(out, \u001b[38;5;241m0.2\u001b[39m)\n\u001b[1;32m     17\u001b[0m     out \u001b[38;5;241m=\u001b[39m out \u001b[38;5;241m/\u001b[39m np\u001b[38;5;241m.\u001b[39msqrt(np\u001b[38;5;241m.\u001b[39msum(out \u001b[38;5;241m*\u001b[39m\u001b[38;5;241m*\u001b[39m \u001b[38;5;241m2\u001b[39m) \u001b[38;5;241m+\u001b[39m eps \u001b[38;5;241m*\u001b[39m\u001b[38;5;241m*\u001b[39m \u001b[38;5;241m2\u001b[39m)\n",
      "File \u001b[0;32m<__array_function__ internals>:200\u001b[0m, in \u001b[0;36msum\u001b[0;34m(*args, **kwargs)\u001b[0m\n",
      "File \u001b[0;32m/usr/local/lib/python3.8/dist-packages/numpy/core/fromnumeric.py:2324\u001b[0m, in \u001b[0;36msum\u001b[0;34m(a, axis, dtype, out, keepdims, initial, where)\u001b[0m\n\u001b[1;32m   2321\u001b[0m         \u001b[38;5;28;01mreturn\u001b[39;00m out\n\u001b[1;32m   2322\u001b[0m     \u001b[38;5;28;01mreturn\u001b[39;00m res\n\u001b[0;32m-> 2324\u001b[0m \u001b[38;5;28;01mreturn\u001b[39;00m \u001b[43m_wrapreduction\u001b[49m\u001b[43m(\u001b[49m\u001b[43ma\u001b[49m\u001b[43m,\u001b[49m\u001b[43m \u001b[49m\u001b[43mnp\u001b[49m\u001b[38;5;241;43m.\u001b[39;49m\u001b[43madd\u001b[49m\u001b[43m,\u001b[49m\u001b[43m \u001b[49m\u001b[38;5;124;43m'\u001b[39;49m\u001b[38;5;124;43msum\u001b[39;49m\u001b[38;5;124;43m'\u001b[39;49m\u001b[43m,\u001b[49m\u001b[43m \u001b[49m\u001b[43maxis\u001b[49m\u001b[43m,\u001b[49m\u001b[43m \u001b[49m\u001b[43mdtype\u001b[49m\u001b[43m,\u001b[49m\u001b[43m \u001b[49m\u001b[43mout\u001b[49m\u001b[43m,\u001b[49m\u001b[43m \u001b[49m\u001b[43mkeepdims\u001b[49m\u001b[38;5;241;43m=\u001b[39;49m\u001b[43mkeepdims\u001b[49m\u001b[43m,\u001b[49m\n\u001b[1;32m   2325\u001b[0m \u001b[43m                      \u001b[49m\u001b[43minitial\u001b[49m\u001b[38;5;241;43m=\u001b[39;49m\u001b[43minitial\u001b[49m\u001b[43m,\u001b[49m\u001b[43m \u001b[49m\u001b[43mwhere\u001b[49m\u001b[38;5;241;43m=\u001b[39;49m\u001b[43mwhere\u001b[49m\u001b[43m)\u001b[49m\n",
      "File \u001b[0;32m/usr/local/lib/python3.8/dist-packages/numpy/core/fromnumeric.py:86\u001b[0m, in \u001b[0;36m_wrapreduction\u001b[0;34m(obj, ufunc, method, axis, dtype, out, **kwargs)\u001b[0m\n\u001b[1;32m     83\u001b[0m         \u001b[38;5;28;01melse\u001b[39;00m:\n\u001b[1;32m     84\u001b[0m             \u001b[38;5;28;01mreturn\u001b[39;00m reduction(axis\u001b[38;5;241m=\u001b[39maxis, out\u001b[38;5;241m=\u001b[39mout, \u001b[38;5;241m*\u001b[39m\u001b[38;5;241m*\u001b[39mpasskwargs)\n\u001b[0;32m---> 86\u001b[0m \u001b[38;5;28;01mreturn\u001b[39;00m \u001b[43mufunc\u001b[49m\u001b[38;5;241;43m.\u001b[39;49m\u001b[43mreduce\u001b[49m\u001b[43m(\u001b[49m\u001b[43mobj\u001b[49m\u001b[43m,\u001b[49m\u001b[43m \u001b[49m\u001b[43maxis\u001b[49m\u001b[43m,\u001b[49m\u001b[43m \u001b[49m\u001b[43mdtype\u001b[49m\u001b[43m,\u001b[49m\u001b[43m \u001b[49m\u001b[43mout\u001b[49m\u001b[43m,\u001b[49m\u001b[43m \u001b[49m\u001b[38;5;241;43m*\u001b[39;49m\u001b[38;5;241;43m*\u001b[39;49m\u001b[43mpasskwargs\u001b[49m\u001b[43m)\u001b[49m\n",
      "\u001b[0;31mKeyboardInterrupt\u001b[0m: "
     ]
    }
   ],
   "source": [
    "features, labels = featuresHog(imagePaths_str)\n",
    "\n",
    "\n",
    "print(\"[INFO] The number of features ...\" + str(features.shape[1]))\n",
    "\n",
    "print(\"[INFO] The number of samples ...\" + str(labels.shape[0]))\n"
   ]
  },
  {
   "cell_type": "code",
   "execution_count": 33,
   "id": "f97c40fa",
   "metadata": {},
   "outputs": [
    {
     "data": {
      "text/plain": [
       "{'Afraid_direct'}"
      ]
     },
     "execution_count": 33,
     "metadata": {},
     "output_type": "execute_result"
    }
   ],
   "source": [
    "labels\n",
    "\n",
    "el = set(labels)\n",
    "\n",
    "el\n"
   ]
  },
  {
   "cell_type": "code",
   "execution_count": 30,
   "id": "3374aafa",
   "metadata": {},
   "outputs": [],
   "source": [
    "svm_clf = SVC(kernel='rbf', gamma='scale', C= 10)"
   ]
  },
  {
   "cell_type": "code",
   "execution_count": 31,
   "id": "af1db040",
   "metadata": {},
   "outputs": [
    {
     "name": "stdout",
     "output_type": "stream",
     "text": [
      "[INFO] The number of images used in training ...373\n",
      "[INFO] The number of images used in testing ...160\n"
     ]
    },
    {
     "ename": "ValueError",
     "evalue": "The number of classes has to be greater than one; got 1 class",
     "output_type": "error",
     "traceback": [
      "\u001b[0;31m---------------------------------------------------------------------------\u001b[0m",
      "\u001b[0;31mValueError\u001b[0m                                Traceback (most recent call last)",
      "Cell \u001b[0;32mIn[31], line 34\u001b[0m\n\u001b[1;32m     30\u001b[0m \u001b[38;5;28mprint\u001b[39m(\u001b[38;5;124m\"\u001b[39m\u001b[38;5;124m[INFO] The number of images used in training ...\u001b[39m\u001b[38;5;124m\"\u001b[39m \u001b[38;5;241m+\u001b[39m \u001b[38;5;28mstr\u001b[39m(X_train\u001b[38;5;241m.\u001b[39mshape[\u001b[38;5;241m0\u001b[39m]))\n\u001b[1;32m     31\u001b[0m \u001b[38;5;28mprint\u001b[39m(\u001b[38;5;124m\"\u001b[39m\u001b[38;5;124m[INFO] The number of images used in testing ...\u001b[39m\u001b[38;5;124m\"\u001b[39m \u001b[38;5;241m+\u001b[39m \u001b[38;5;28mstr\u001b[39m(X_test\u001b[38;5;241m.\u001b[39mshape[\u001b[38;5;241m0\u001b[39m]))\n\u001b[0;32m---> 34\u001b[0m \u001b[43msvm_clf\u001b[49m\u001b[38;5;241;43m.\u001b[39;49m\u001b[43mfit\u001b[49m\u001b[43m(\u001b[49m\u001b[43mX_train\u001b[49m\u001b[43m,\u001b[49m\u001b[43m \u001b[49m\u001b[43my_train\u001b[49m\u001b[43m)\u001b[49m\n\u001b[1;32m     36\u001b[0m print_score(svm_clf, X_train, y_train, X_test, y_test, train\u001b[38;5;241m=\u001b[39m\u001b[38;5;28;01mTrue\u001b[39;00m)\n\u001b[1;32m     37\u001b[0m print_score(svm_clf, X_train, y_train, X_test, y_test, train\u001b[38;5;241m=\u001b[39m\u001b[38;5;28;01mFalse\u001b[39;00m)\n",
      "File \u001b[0;32m/usr/local/lib/python3.8/dist-packages/sklearn/svm/_base.py:199\u001b[0m, in \u001b[0;36mBaseLibSVM.fit\u001b[0;34m(self, X, y, sample_weight)\u001b[0m\n\u001b[1;32m    189\u001b[0m \u001b[38;5;28;01melse\u001b[39;00m:\n\u001b[1;32m    190\u001b[0m     X, y \u001b[38;5;241m=\u001b[39m \u001b[38;5;28mself\u001b[39m\u001b[38;5;241m.\u001b[39m_validate_data(\n\u001b[1;32m    191\u001b[0m         X,\n\u001b[1;32m    192\u001b[0m         y,\n\u001b[0;32m   (...)\u001b[0m\n\u001b[1;32m    196\u001b[0m         accept_large_sparse\u001b[38;5;241m=\u001b[39m\u001b[38;5;28;01mFalse\u001b[39;00m,\n\u001b[1;32m    197\u001b[0m     )\n\u001b[0;32m--> 199\u001b[0m y \u001b[38;5;241m=\u001b[39m \u001b[38;5;28;43mself\u001b[39;49m\u001b[38;5;241;43m.\u001b[39;49m\u001b[43m_validate_targets\u001b[49m\u001b[43m(\u001b[49m\u001b[43my\u001b[49m\u001b[43m)\u001b[49m\n\u001b[1;32m    201\u001b[0m sample_weight \u001b[38;5;241m=\u001b[39m np\u001b[38;5;241m.\u001b[39masarray(\n\u001b[1;32m    202\u001b[0m     [] \u001b[38;5;28;01mif\u001b[39;00m sample_weight \u001b[38;5;129;01mis\u001b[39;00m \u001b[38;5;28;01mNone\u001b[39;00m \u001b[38;5;28;01melse\u001b[39;00m sample_weight, dtype\u001b[38;5;241m=\u001b[39mnp\u001b[38;5;241m.\u001b[39mfloat64\n\u001b[1;32m    203\u001b[0m )\n\u001b[1;32m    204\u001b[0m solver_type \u001b[38;5;241m=\u001b[39m LIBSVM_IMPL\u001b[38;5;241m.\u001b[39mindex(\u001b[38;5;28mself\u001b[39m\u001b[38;5;241m.\u001b[39m_impl)\n",
      "File \u001b[0;32m/usr/local/lib/python3.8/dist-packages/sklearn/svm/_base.py:720\u001b[0m, in \u001b[0;36mBaseSVC._validate_targets\u001b[0;34m(self, y)\u001b[0m\n\u001b[1;32m    718\u001b[0m \u001b[38;5;28mself\u001b[39m\u001b[38;5;241m.\u001b[39mclass_weight_ \u001b[38;5;241m=\u001b[39m compute_class_weight(\u001b[38;5;28mself\u001b[39m\u001b[38;5;241m.\u001b[39mclass_weight, classes\u001b[38;5;241m=\u001b[39m\u001b[38;5;28mcls\u001b[39m, y\u001b[38;5;241m=\u001b[39my_)\n\u001b[1;32m    719\u001b[0m \u001b[38;5;28;01mif\u001b[39;00m \u001b[38;5;28mlen\u001b[39m(\u001b[38;5;28mcls\u001b[39m) \u001b[38;5;241m<\u001b[39m \u001b[38;5;241m2\u001b[39m:\n\u001b[0;32m--> 720\u001b[0m     \u001b[38;5;28;01mraise\u001b[39;00m \u001b[38;5;167;01mValueError\u001b[39;00m(\n\u001b[1;32m    721\u001b[0m         \u001b[38;5;124m\"\u001b[39m\u001b[38;5;124mThe number of classes has to be greater than one; got \u001b[39m\u001b[38;5;132;01m%d\u001b[39;00m\u001b[38;5;124m class\u001b[39m\u001b[38;5;124m\"\u001b[39m\n\u001b[1;32m    722\u001b[0m         \u001b[38;5;241m%\u001b[39m \u001b[38;5;28mlen\u001b[39m(\u001b[38;5;28mcls\u001b[39m)\n\u001b[1;32m    723\u001b[0m     )\n\u001b[1;32m    725\u001b[0m \u001b[38;5;28mself\u001b[39m\u001b[38;5;241m.\u001b[39mclasses_ \u001b[38;5;241m=\u001b[39m \u001b[38;5;28mcls\u001b[39m\n\u001b[1;32m    727\u001b[0m \u001b[38;5;28;01mreturn\u001b[39;00m np\u001b[38;5;241m.\u001b[39masarray(y, dtype\u001b[38;5;241m=\u001b[39mnp\u001b[38;5;241m.\u001b[39mfloat64, order\u001b[38;5;241m=\u001b[39m\u001b[38;5;124m\"\u001b[39m\u001b[38;5;124mC\u001b[39m\u001b[38;5;124m\"\u001b[39m)\n",
      "\u001b[0;31mValueError\u001b[0m: The number of classes has to be greater than one; got 1 class"
     ]
    }
   ],
   "source": [
    "from sklearn.metrics import accuracy_score, confusion_matrix, classification_report\n",
    "\n",
    "def print_score(clf, X_train, y_train, X_test, y_test, train=True):\n",
    "    if train:\n",
    "        pred = clf.predict(X_train)\n",
    "        clf_report = classification_report(y_train, pred)\n",
    "        print(\"Train Result:\\n================================================\")\n",
    "        print(f\"Accuracy Score: {accuracy_score(y_train, pred) * 100:.2f}%\")\n",
    "        print(\"_______________________________________________\")\n",
    "        print(f\"CLASSIFICATION REPORT:\\n{clf_report}\")\n",
    "        print(\"_______________________________________________\")\n",
    "        print(f\"Confusion Matrix: \\n {confusion_matrix(y_train, pred)}\\n\")\n",
    "        \n",
    "    elif train==False:\n",
    "        pred = clf.predict(X_test)\n",
    "        clf_report = classification_report(y_test, pred)\n",
    "        print(\"Test Result:\\n================================================\")        \n",
    "        print(f\"Accuracy Score: {accuracy_score(y_test, pred) * 100:.2f}%\")\n",
    "        print(\"_______________________________________________\")\n",
    "        print(f\"CLASSIFICATION REPORT:\\n{clf_report}\")\n",
    "        print(\"_______________________________________________\")\n",
    "        print(f\"Confusion Matrix: \\n {confusion_matrix(y_test, pred)}\\n\")\n",
    "\n",
    "################################################################################\n",
    "################################################################################\n",
    "\n",
    "R =random.randint(1,88)\n",
    "X_train, X_test, y_train, y_test = train_test_split(features, labels, test_size= 0.3,random_state=R)\n",
    "\n",
    "print(\"[INFO] The number of images used in training ...\" + str(X_train.shape[0]))\n",
    "print(\"[INFO] The number of images used in testing ...\" + str(X_test.shape[0]))\n",
    "\n",
    "\n",
    "svm_clf.fit(X_train, y_train)\n",
    "\n",
    "print_score(svm_clf, X_train, y_train, X_test, y_test, train=True)\n",
    "print_score(svm_clf, X_train, y_train, X_test, y_test, train=False)"
   ]
  },
  {
   "cell_type": "code",
   "execution_count": null,
   "id": "fd00a71c",
   "metadata": {},
   "outputs": [],
   "source": []
  }
 ],
 "metadata": {
  "kernelspec": {
   "display_name": "Python 3 (ipykernel)",
   "language": "python",
   "name": "python3"
  },
  "language_info": {
   "codemirror_mode": {
    "name": "ipython",
    "version": 3
   },
   "file_extension": ".py",
   "mimetype": "text/x-python",
   "name": "python",
   "nbconvert_exporter": "python",
   "pygments_lexer": "ipython3",
   "version": "3.8.10"
  }
 },
 "nbformat": 4,
 "nbformat_minor": 5
}
