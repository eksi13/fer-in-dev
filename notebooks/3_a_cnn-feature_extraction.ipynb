{
 "cells": [
  {
   "cell_type": "code",
   "execution_count": 13,
   "metadata": {},
   "outputs": [
    {
     "ename": "NameError",
     "evalue": "name 'platform' is not defined",
     "output_type": "error",
     "traceback": [
      "\u001b[0;31m---------------------------------------------------------------------------\u001b[0m",
      "\u001b[0;31mNameError\u001b[0m                                 Traceback (most recent call last)",
      "Cell \u001b[0;32mIn[13], line 1\u001b[0m\n\u001b[0;32m----> 1\u001b[0m \u001b[38;5;28;01mif\u001b[39;00m \u001b[43mplatform\u001b[49m\u001b[38;5;241m.\u001b[39msystem() \u001b[38;5;241m==\u001b[39m \u001b[38;5;124m\"\u001b[39m\u001b[38;5;124mLinux\u001b[39m\u001b[38;5;124m\"\u001b[39m:\n\u001b[1;32m      2\u001b[0m      \u001b[38;5;66;03m# Force libgomp to be loaded before other libraries consuming dynamic TLS (to avoid running out of STATIC_TLS)\u001b[39;00m\n\u001b[1;32m      3\u001b[0m      ctypes\u001b[38;5;241m.\u001b[39mcdll\u001b[38;5;241m.\u001b[39mLoadLibrary(\u001b[38;5;124m\"\u001b[39m\u001b[38;5;124mlibgomp.so.1\u001b[39m\u001b[38;5;124m\"\u001b[39m)\n\u001b[1;32m      5\u001b[0m \u001b[38;5;28;01mimport\u001b[39;00m \u001b[38;5;21;01mcv2\u001b[39;00m\n",
      "\u001b[0;31mNameError\u001b[0m: name 'platform' is not defined"
     ]
    }
   ],
   "source": [
    "\n",
    "import cv2\n",
    "import torch\n",
    "import torchvision\n",
    "import sklearn.svm\n",
    "\n",
    "#%pip install scikit-learn\n",
    "#import sklearn\n",
    "\n",
    "\"\"\" import torch\n",
    "from torch import cuda\n",
    "from torchvision import transforms, datasets, models\n",
    "from pathlib import Path\n",
    "from timeit import default_timer as timer\n",
    "import torch.nn as nn\n",
    "from tqdm import tqdm\n",
    "import matplotlib.pyplot as plt\n",
    "from collections import Counter \"\"\"\n",
    "\n",
    "#from skimage.feature import hog\n",
    "#from sklearn.svm import SVC\n",
    "#from sklearn.model_selection import GridSearchCV, KFold, train_test_split, cross_val_score\n",
    "#from sklearn.metrics import accuracy_score, confusion_matrix, classification_report\n",
    "\n",
    "\"\"\" import warnings\n",
    "warnings.filterwarnings('ignore', category=FutureWarning)\n",
    "\n",
    "#%pip install torchsummary \n",
    "from torchsummary import summary \"\"\"\n"
   ]
  },
  {
   "cell_type": "code",
   "execution_count": 3,
   "metadata": {},
   "outputs": [
    {
     "name": "stdout",
     "output_type": "stream",
     "text": [
      "Train on gpu: False\n"
     ]
    }
   ],
   "source": [
    "train_on_gpu = cuda.is_available()\n",
    "print(f'Train on gpu: {train_on_gpu}')\n",
    "\n",
    "if train_on_gpu:\n",
    "    gpu_count = cuda.device_count()\n",
    "    print(f'{gpu_count} gpus detected.')\n",
    "    if gpu_count > 1:\n",
    "        multi_gpu = True\n",
    "    else:\n",
    "        multi_gpu = False\n",
    "\n",
    "BASE_PATH = Path('/project/volume/data/out/NIMH-CHEFS')\n",
    "IMAGE_PATHS = list(BASE_PATH.rglob('*.jpg'))\n",
    "\n",
    "TRAIN = 'train'\n",
    "VAL = 'val'\n",
    "TEST = 'test'\n",
    "\n",
    "batch_size = 1\n",
    "\n"
   ]
  },
  {
   "cell_type": "code",
   "execution_count": 4,
   "metadata": {},
   "outputs": [
    {
     "name": "stdout",
     "output_type": "stream",
     "text": [
      "[INFO] Number of images in train set ...320\n",
      "[INFO] Number of images in val set ...106\n",
      "[INFO] Number of images in test set ...107\n",
      "[INFO] Number of images ...533\n",
      "[INFO] Number of classes:  5\n",
      "[INFO] Classes:  ['Afraid', 'Angry', 'Happy', 'Neutral', 'Sad']\n"
     ]
    }
   ],
   "source": [
    "# prepare data for feature extraction\n",
    "feature_extraction_transform = transforms.Compose([\n",
    "        transforms.Resize((224, 224)),\n",
    "        transforms.ToTensor(),\n",
    "    ])\n",
    "\n",
    "image_datasets = {\n",
    "    x: datasets.ImageFolder(\n",
    "        root=(BASE_PATH / x),\n",
    "        transform=feature_extraction_transform\n",
    "    )\n",
    "    for x in [TRAIN, VAL, TEST]\n",
    "}\n",
    "\n",
    "dataloaders = {\n",
    "    x: torch.utils.data.DataLoader(\n",
    "        image_datasets[x], \n",
    "        batch_size=batch_size,\n",
    "        shuffle=True, \n",
    "        num_workers=4\n",
    "    )\n",
    "    for x in [TRAIN, VAL, TEST]\n",
    "}\n",
    "\n",
    "dataset_sizes = { x : len(image_datasets[x]) for x in [TRAIN, VAL, TEST] }\n",
    "class_names = image_datasets[TRAIN].classes\n",
    "n_classes = len(class_names)\n",
    "n_images = 0\n",
    "for x in [TRAIN, VAL, TEST]:\n",
    "    print(f\"[INFO] Number of images in {x} set ...{dataset_sizes[x]}\")\n",
    "    n_images += dataset_sizes[x]\n",
    "\n",
    "print(f\"[INFO] Number of images ...{n_images}\")\n",
    "print(\"[INFO] Number of classes: \", n_classes)\n",
    "print(\"[INFO] Classes: \", image_datasets[TRAIN].classes)"
   ]
  },
  {
   "cell_type": "code",
   "execution_count": 5,
   "metadata": {},
   "outputs": [
    {
     "name": "stderr",
     "output_type": "stream",
     "text": [
      "Downloading: \"https://download.pytorch.org/models/vgg16-397923af.pth\" to /root/.cache/torch/hub/checkpoints/vgg16-397923af.pth\n",
      "100%|███████████████████████| 528M/528M [01:23<00:00, 6.61MB/s]\n"
     ]
    },
    {
     "name": "stdout",
     "output_type": "stream",
     "text": [
      "----------------------------------------------------------------\n",
      "        Layer (type)               Output Shape         Param #\n",
      "================================================================\n",
      "            Conv2d-1          [1, 64, 224, 224]           1,792\n",
      "              ReLU-2          [1, 64, 224, 224]               0\n",
      "            Conv2d-3          [1, 64, 224, 224]          36,928\n",
      "              ReLU-4          [1, 64, 224, 224]               0\n",
      "         MaxPool2d-5          [1, 64, 112, 112]               0\n",
      "            Conv2d-6         [1, 128, 112, 112]          73,856\n",
      "              ReLU-7         [1, 128, 112, 112]               0\n",
      "            Conv2d-8         [1, 128, 112, 112]         147,584\n",
      "              ReLU-9         [1, 128, 112, 112]               0\n",
      "        MaxPool2d-10           [1, 128, 56, 56]               0\n",
      "           Conv2d-11           [1, 256, 56, 56]         295,168\n",
      "             ReLU-12           [1, 256, 56, 56]               0\n",
      "           Conv2d-13           [1, 256, 56, 56]         590,080\n",
      "             ReLU-14           [1, 256, 56, 56]               0\n",
      "           Conv2d-15           [1, 256, 56, 56]         590,080\n",
      "             ReLU-16           [1, 256, 56, 56]               0\n",
      "        MaxPool2d-17           [1, 256, 28, 28]               0\n",
      "           Conv2d-18           [1, 512, 28, 28]       1,180,160\n",
      "             ReLU-19           [1, 512, 28, 28]               0\n",
      "           Conv2d-20           [1, 512, 28, 28]       2,359,808\n",
      "             ReLU-21           [1, 512, 28, 28]               0\n",
      "           Conv2d-22           [1, 512, 28, 28]       2,359,808\n",
      "             ReLU-23           [1, 512, 28, 28]               0\n",
      "        MaxPool2d-24           [1, 512, 14, 14]               0\n",
      "           Conv2d-25           [1, 512, 14, 14]       2,359,808\n",
      "             ReLU-26           [1, 512, 14, 14]               0\n",
      "           Conv2d-27           [1, 512, 14, 14]       2,359,808\n",
      "             ReLU-28           [1, 512, 14, 14]               0\n",
      "           Conv2d-29           [1, 512, 14, 14]       2,359,808\n",
      "             ReLU-30           [1, 512, 14, 14]               0\n",
      "        MaxPool2d-31             [1, 512, 7, 7]               0\n",
      "AdaptiveAvgPool2d-32             [1, 512, 7, 7]               0\n",
      "           Linear-33                  [1, 4096]     102,764,544\n",
      "             ReLU-34                  [1, 4096]               0\n",
      "          Dropout-35                  [1, 4096]               0\n",
      "           Linear-36                  [1, 4096]      16,781,312\n",
      "             ReLU-37                  [1, 4096]               0\n",
      "          Dropout-38                  [1, 4096]               0\n",
      "================================================================\n",
      "Total params: 134,260,544\n",
      "Trainable params: 134,260,544\n",
      "Non-trainable params: 0\n",
      "----------------------------------------------------------------\n",
      "Input size (MB): 0.57\n",
      "Forward/backward pass size (MB): 218.77\n",
      "Params size (MB): 512.16\n",
      "Estimated Total Size (MB): 731.51\n",
      "----------------------------------------------------------------\n"
     ]
    }
   ],
   "source": [
    "# prepare vgg16 for feature extraction\n",
    "conv_base = models.vgg16(weights=models.VGG16_Weights.IMAGENET1K_V1)\n",
    "features = list(conv_base.classifier)[:-1]\n",
    "conv_base.classifier = nn.Sequential(*features)\n",
    "summary(conv_base, input_size=(3, 224, 224), batch_size=batch_size, device='cuda')"
   ]
  },
  {
   "cell_type": "code",
   "execution_count": 7,
   "metadata": {},
   "outputs": [],
   "source": [
    "def extract_features(dataloaders, batch_size, sample_count=batch_size): # phase: TRAIN / TEST / VAL\n",
    "\n",
    "    features = torch.zeros(0, 4096)\n",
    "    labels = torch.zeros(0, dtype=torch.long)\n",
    "\n",
    "    for phase in tqdm([TRAIN, TEST, VAL]):\n",
    "        dataset_size = dataset_sizes[phase]\n",
    "\n",
    "        phase_features = torch.zeros(dataset_size, 4096)\n",
    "        phase_labels = torch.zeros(dataset_size, dtype=torch.long)\n",
    "\n",
    "        i = 0\n",
    "        for inputs_batch, labels_batch in dataloaders[phase]:\n",
    "            with torch.no_grad():\n",
    "                features_batch = conv_base(inputs_batch)\n",
    "\n",
    "            phase_features[i * batch_size : (i + 1) * batch_size] = features_batch\n",
    "            phase_labels[i * batch_size : (i + 1) * batch_size] = labels_batch\n",
    "            i += 1\n",
    "            if i * batch_size >= sample_count:\n",
    "                break\n",
    "\n",
    "        features = torch.cat((features, phase_features), dim=0)\n",
    "        labels = torch.cat((labels, phase_labels), dim=0)\n",
    "\n",
    "    return features, labels"
   ]
  },
  {
   "cell_type": "code",
   "execution_count": 8,
   "metadata": {},
   "outputs": [
    {
     "name": "stderr",
     "output_type": "stream",
     "text": [
      "100%|████████████████████████████| 3/3 [00:05<00:00,  1.74s/it]\n"
     ]
    }
   ],
   "source": [
    "features, labels = extract_features(dataloaders=dataloaders, batch_size=batch_size)"
   ]
  },
  {
   "cell_type": "code",
   "execution_count": 9,
   "metadata": {},
   "outputs": [
    {
     "data": {
      "image/png": "[encoded data removed]",
      "text/plain": [
       "<Figure size 900x300 with 1 Axes>"
      ]
     },
     "metadata": {},
     "output_type": "display_data"
    }
   ],
   "source": [
    "nbr_per_cat = Counter(Path(file).parent.name for file in IMAGE_PATHS)\n",
    "categories = list(nbr_per_cat.keys())\n",
    "counts = list(nbr_per_cat.values())\n",
    "\n",
    "plt.figure(figsize=(9, 3))\n",
    "bars = plt.bar(categories, counts, width=0.5)\n",
    "\n",
    "plt.xlabel('Categories')\n",
    "plt.ylabel('Counts')\n",
    "plt.title('Number of Files per Category')\n",
    "plt.xticks(rotation=45, ha='right')\n",
    "\n",
    "for bar, count in zip(bars, counts):\n",
    "    plt.text(bar.get_x() + bar.get_width() / 2, bar.get_height(), str(count), \n",
    "            ha='center', va='bottom')\n",
    "\n",
    "plt.tight_layout()\n",
    "plt.show()"
   ]
  },
  {
   "cell_type": "markdown",
   "metadata": {},
   "source": [
    "### SVM Init"
   ]
  },
  {
   "cell_type": "code",
   "execution_count": null,
   "metadata": {},
   "outputs": [],
   "source": [
    "x_train, x_test, y_train, y_test = train_test_split(features, labels, test_size=0.2, shuffle=True, stratify=labels, random_state=42)\n"
   ]
  }
 ],
 "metadata": {
  "kernelspec": {
   "display_name": "Python 3 (ipykernel)",
   "language": "python",
   "name": "python3"
  },
  "language_info": {
   "codemirror_mode": {
    "name": "ipython",
    "version": 3
   },
   "file_extension": ".py",
   "mimetype": "text/x-python",
   "name": "python",
   "nbconvert_exporter": "python",
   "pygments_lexer": "ipython3",
   "version": "3.8.10"
  }
 },
 "nbformat": 4,
 "nbformat_minor": 2
}
