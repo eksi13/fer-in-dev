{
 "cells": [
  {
   "cell_type": "markdown",
   "id": "dfde87b7-a4d4-4988-91b4-6fbf6d664a33",
   "metadata": {},
   "source": [
    "This notebook processes a dataset of images by converting them to grayscale, equalizing their histograms, and resizing them. It uses OpenCV and MediaPipe for image processing tasks and prepares the images for subsequent machine learning model training and evaluation."
   ]
  },
  {
   "cell_type": "code",
   "execution_count": null,
   "id": "e6d24591-81ee-49ef-bfb9-5e5986df361a",
   "metadata": {},
   "outputs": [],
   "source": [
    "try:\n",
    "    import cv2\n",
    "    import mediapipe as mp\n",
    "except:\n",
    "    %pip install opencv-python-headless==4.9.0.80\n",
    "    %pip install mediapipe\n",
    "\n",
    "import cv2, sys, os, math\n",
    "import matplotlib.pyplot as plt\n",
    "import numpy as np\n",
    "from pathlib import Path\n",
    "from tqdm import tqdm\n",
    "from typing import Tuple, Union\n",
    "import pandas as pd\n",
    "\n",
    "# mediapipe\n",
    "import mediapipe as mp\n",
    "from mediapipe.tasks import python\n",
    "from mediapipe.tasks.python import vision\n",
    "from mediapipe import solutions\n",
    "from mediapipe.framework.formats import landmark_pb2\n",
    "\n",
    "print('import succesful')"
   ]
  },
  {
   "cell_type": "code",
   "execution_count": null,
   "id": "ec1c2a85-7ec2-4ce8-807a-d86ac8dfe31d",
   "metadata": {},
   "outputs": [],
   "source": [
    "PATH = Path('/home/jovyan/work/cross-label/extracted_faces')\n",
    "LABELS = [f.name for f in PATH.iterdir() if f.is_dir()]\n",
    "\n",
    "IMAGES = list(PATH.rglob('*.jpg'))\n",
    "NUM_IMAGES = len(IMAGES)\n",
    "\n",
    "NUM_IMAGES"
   ]
  },
  {
   "cell_type": "code",
   "execution_count": null,
   "id": "1823d5d4-ef74-4a4b-85b4-e777134c72f5",
   "metadata": {},
   "outputs": [],
   "source": [
    "for image in tqdm(IMAGES):\n",
    "    img = cv2.imread(str(image))\n",
    "    img = cv2.cvtColor(img, cv2.COLOR_BGR2GRAY)\n",
    "    img = cv2.equalizeHist(img)\n",
    "    img = cv2.resize(img, dsize=(256, 256), interpolation=cv2.INTER_AREA)\n",
    "    img = np.stack((img, img, img), axis=-1)\n",
    "    cv2.imwrite(image, img)\n",
    "    #img = img / 255.0\n",
    "    #plt.imshow(img, cmap='gray')\n",
    "    #plt.show()\n",
    "    #break\n"
   ]
  }
 ],
 "metadata": {
  "kernelspec": {
   "display_name": "Python 3 (ipykernel)",
   "language": "python",
   "name": "python3"
  },
  "language_info": {
   "codemirror_mode": {
    "name": "ipython",
    "version": 3
   },
   "file_extension": ".py",
   "mimetype": "text/x-python",
   "name": "python",
   "nbconvert_exporter": "python",
   "pygments_lexer": "ipython3",
   "version": "3.11.9"
  }
 },
 "nbformat": 4,
 "nbformat_minor": 5
}
