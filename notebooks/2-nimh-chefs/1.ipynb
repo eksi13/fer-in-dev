{
 "cells": [
  {
   "cell_type": "code",
   "execution_count": 46,
   "metadata": {
    "scrolled": true
   },
   "outputs": [
    {
     "name": "stdout",
     "output_type": "stream",
     "text": [
      "import successful\n"
     ]
    }
   ],
   "source": [
    "try: \n",
    "    import cv2\n",
    "    import torch\n",
    "    import torchvision\n",
    "    import sklearn.svm\n",
    "except:\n",
    "    %pip install opencv-python-headless==4.9.0.80\n",
    "    %pip install torch\n",
    "    %pip install torchvision\n",
    "    %pip install torchsummary \n",
    "\n",
    "import torch\n",
    "from torch.utils.data import Dataset\n",
    "from torch import cuda\n",
    "from torchvision import transforms, datasets, models\n",
    "import torch.optim as optim\n",
    "import torch.nn as nn\n",
    "from torch.optim import lr_scheduler\n",
    "\n",
    "from pathlib import Path\n",
    "from timeit import default_timer as timer\n",
    "from tqdm import tqdm\n",
    "import matplotlib.pyplot as plt\n",
    "from collections import Counter\n",
    "\n",
    "from skimage.feature import hog\n",
    "from sklearn.svm import SVC, LinearSVC\n",
    "from sklearn.model_selection import GridSearchCV, KFold, train_test_split, cross_val_score, StratifiedShuffleSplit\n",
    "from sklearn.metrics import accuracy_score, confusion_matrix, classification_report\n",
    "from sklearn.model_selection import GridSearchCV\n",
    "from sklearn.svm import SVC\n",
    "from sklearn.experimental import enable_halving_search_cv  # noqa\n",
    "from sklearn.model_selection import HalvingRandomSearchCV\n",
    "from sklearn.model_selection import RandomizedSearchCV\n",
    "\n",
    "import random\n",
    "import numpy as np\n",
    "import time\n",
    "import copy\n",
    "import pickle \n",
    "import re\n",
    "import shutil\n",
    "\n",
    "import warnings\n",
    "warnings.filterwarnings('ignore', category=FutureWarning)\n",
    "\n",
    "from torchsummary import summary\n",
    "from PIL import Image\n",
    "\n",
    "np.set_printoptions(threshold=np.inf)\n",
    "print('import successful')"
   ]
  },
  {
   "cell_type": "markdown",
   "metadata": {},
   "source": [
    "### Remove Jupyter Checkpoints"
   ]
  },
  {
   "cell_type": "code",
   "execution_count": 47,
   "metadata": {},
   "outputs": [
    {
     "name": "stdout",
     "output_type": "stream",
     "text": [
      "done\n"
     ]
    }
   ],
   "source": [
    "# remove checkpoints\n",
    "checkpoints = list(Path('/home/jovyan/work').rglob('.ipynb_checkpoints'))\n",
    "\n",
    "for file in checkpoints:\n",
    "    if file.is_dir():        \n",
    "        for sub_file in file.iterdir():\n",
    "            if sub_file.is_file():\n",
    "                sub_file.unlink()\n",
    "            elif sub_file.is_dir():\n",
    "                sub_file.rmdir()\n",
    "    file.rmdir()\n",
    "\n",
    "print('done')"
   ]
  },
  {
   "cell_type": "markdown",
   "metadata": {},
   "source": [
    "### Init Data Path & Parameters"
   ]
  },
  {
   "cell_type": "code",
   "execution_count": 48,
   "metadata": {},
   "outputs": [
    {
     "data": {
      "text/plain": [
       "'NVIDIA RTX 5000 Ada Generation'"
      ]
     },
     "execution_count": 48,
     "metadata": {},
     "output_type": "execute_result"
    }
   ],
   "source": [
    "# Dataset Parameters\n",
    "DATA_PATH = Path('/home/jovyan/work/data/out/NIMH-CHEFS')\n",
    "\n",
    "# Dataset-specific paths\n",
    "LABELS = [f.name for f in DATA_PATH.iterdir() if f.is_dir()]\n",
    "IMAGE_PATHS = list(DATA_PATH.rglob('*.jpg'))\n",
    "\n",
    "# Constants for splitting dataset\n",
    "TRAIN = 'train'\n",
    "TEST = 'test'\n",
    "VAL = 'val'\n",
    "\n",
    "# Model parameters\n",
    "MODEL_PATH = Path('/home/jovyan/work/models')\n",
    "BATCH_SIZE = 16\n",
    "SUBSET_RATIO = 0.1\n",
    "SUBSET = False\n",
    "\n",
    "# Constants for feature extraction\n",
    "FEATURES = 'feature-extraction'\n",
    "TRANSFER = 'transfer-learning'\n",
    "FINETUNE = 'fine-tuning'\n",
    "\n",
    "# Cuda parameters\n",
    "DEVICE = torch.device(\"cuda\" if torch.cuda.is_available() else \"cpu\")\n",
    "torch.cuda.empty_cache()\n",
    "torch.cuda.get_device_name(0)"
   ]
  },
  {
   "cell_type": "markdown",
   "metadata": {},
   "source": [
    "### Dataset Class"
   ]
  },
  {
   "cell_type": "code",
   "execution_count": 49,
   "metadata": {},
   "outputs": [],
   "source": [
    "class Dataset(Dataset):\n",
    "    def __init__(self, data_path, img_size, transforms=None, phase='train'):\n",
    "        self.data_path = Path(data_path) / phase\n",
    "        self.img_size = img_size\n",
    "        self.transform = transforms[phase]\n",
    "        self.phase = phase\n",
    "\n",
    "        self.classes = self._get_classes()\n",
    "        self.image_paths = self._get_image_paths()\n",
    "        self.num_classes = len(self.classes)\n",
    "\n",
    "        self.class_to_int = {class_name: idx for idx, class_name in enumerate(self.classes)}\n",
    "        self.int_to_class = {idx: class_name for class_name, idx in self.class_to_int.items()}\n",
    "\n",
    "    def _get_classes(self):\n",
    "        return [f.name for f in self.data_path.iterdir() if f.is_dir()]\n",
    "\n",
    "    def _get_image_paths(self):\n",
    "        paths = list(self.data_path.rglob('*.jpg'))\n",
    "        random.shuffle(paths)\n",
    "        return paths\n",
    "\n",
    "    def __len__(self):\n",
    "        return len(self.image_paths)\n",
    "\n",
    "    def __getitem__(self, idx):\n",
    "        img = Image.open(self.image_paths[idx])\n",
    "        img_path = self.image_paths[idx]\n",
    "\n",
    "        if self.transform:\n",
    "            img = self.transform(img)\n",
    "\n",
    "        label = Path(img_path).parent.name\n",
    "        label = self.class_to_int[label]  # Convert label to integer\n",
    "\n",
    "        return img, label\n",
    "\n",
    "    def show_samples(self):\n",
    "        fig = plt.figure(figsize=(20, 20))\n",
    "\n",
    "        for i in range(10):\n",
    "            ax = fig.add_subplot(1, 10, i + 1)\n",
    "            _, label = self.__getitem__(i)\n",
    "            img_cv2 = self.get_cv2_img(i)\n",
    "\n",
    "            ax.imshow(img_cv2, cmap='gray')\n",
    "            ax.set_title(self.int_to_class[label])  # Show class name instead of index\n",
    "            ax.axis('off')\n",
    "        plt.show()\n",
    "\n",
    "    def show_distribution(self):\n",
    "        labels_count = Counter([self.__getitem__(i)[1] for i in range(len(self.image_paths))])\n",
    "        sorted_counts = sorted(labels_count.items())\n",
    "        labels, counts = zip(*sorted_counts)\n",
    "\n",
    "        plt.figure(figsize=(10, 3))\n",
    "        bars = plt.bar(labels, counts, color='skyblue')\n",
    "        plt.xlabel('Class')\n",
    "        plt.ylabel('Count')\n",
    "        plt.title('Counts per Class')\n",
    "        plt.xticks(rotation=45, ha='right')\n",
    "        plt.grid(axis='y', linestyle='--', alpha=0.7)\n",
    "\n",
    "        for bar, count in zip(bars, counts):\n",
    "            plt.text(bar.get_x() + bar.get_width() / 2, bar.get_height() + 0.5, count,\n",
    "                    ha='center', va='bottom', color='black', fontsize=8)\n",
    "\n",
    "        plt.tight_layout()\n",
    "        plt.show()\n",
    "\n",
    "    def get_cv2_img(self, idx):\n",
    "        img_path = self.image_paths[idx]\n",
    "        return cv2.imread(str(img_path))\n",
    "\n",
    "    def idx_to_class(self, idx_list):\n",
    "        return [self.int_to_class[idx] for idx in idx_list]\n",
    "\n",
    "    def class_to_idx(self, class_list):\n",
    "        return [self.class_to_int[class_name] for class_name in class_list]\n",
    "\n",
    "    def print_info(self):\n",
    "        print(f\"[INFO] Total number of images: {len(self)}\")\n",
    "        print(\"[INFO] Number of classes:\", self.num_classes)\n",
    "        print(\"[INFO] Classes:\", self.classes)"
   ]
  },
  {
   "cell_type": "code",
   "execution_count": 50,
   "metadata": {},
   "outputs": [],
   "source": [
    "data_transforms = {\n",
    "    TRAIN: transforms.Compose([\n",
    "        transforms.Grayscale(num_output_channels=3),\n",
    "        transforms.RandomResizedCrop(224),\n",
    "        transforms.RandomHorizontalFlip(),\n",
    "        transforms.ToTensor(),\n",
    "    ]),\n",
    "    VAL: transforms.Compose([\n",
    "        transforms.Grayscale(num_output_channels=3),\n",
    "        transforms.Resize(256),\n",
    "        transforms.CenterCrop(224),\n",
    "        transforms.ToTensor(),\n",
    "    ]),\n",
    "    TEST: transforms.Compose([\n",
    "        transforms.Grayscale(num_output_channels=3),\n",
    "        transforms.Resize(256),\n",
    "        transforms.CenterCrop(224),\n",
    "        transforms.ToTensor(),\n",
    "    ])\n",
    "}"
   ]
  },
  {
   "cell_type": "code",
   "execution_count": 51,
   "metadata": {},
   "outputs": [],
   "source": [
    "datasets = { x: Dataset(DATA_PATH, img_size=224, transforms=data_transforms, phase=x) for x in [TRAIN, VAL, TEST] }\n",
    "dataloaders = { x: torch.utils.data.DataLoader(datasets[x], batch_size=BATCH_SIZE, shuffle=True, num_workers=4) for x in [TRAIN, VAL, TEST] }\n",
    "dataset_sizes = { x : len(datasets[x]) for x in [TRAIN, VAL, TEST] }\n",
    "n_classes = datasets[TRAIN].num_classes"
   ]
  },
  {
   "cell_type": "markdown",
   "metadata": {},
   "source": [
    "### Init VGG16 for Feature Extraction"
   ]
  },
  {
   "cell_type": "code",
   "execution_count": 52,
   "metadata": {},
   "outputs": [],
   "source": [
    "# init the VGG model\n",
    "vgg16 = models.vgg16(weights='IMAGENET1K_V1')\n",
    "vgg16 = vgg16.to(DEVICE)\n",
    "\n",
    "# freeze parameters for feature extraction\n",
    "for param in vgg16.features.parameters():\n",
    "    param.require_grad = False\n",
    "\n",
    "# remove classifer to output features\n",
    "vgg16.classifier = torch.nn.Identity()\n",
    "vgg16.classifier = vgg16.classifier.to(DEVICE)"
   ]
  },
  {
   "cell_type": "markdown",
   "metadata": {},
   "source": [
    "### Extract features"
   ]
  },
  {
   "cell_type": "code",
   "execution_count": 53,
   "metadata": {},
   "outputs": [],
   "source": [
    "# this is the feature extraction method\n",
    "def extract_features(loader, conv_base):\n",
    "    conv_base.eval()\n",
    "    features = []\n",
    "    labels = []\n",
    "\n",
    "    with torch.no_grad():\n",
    "        for (images, targets) in loader:\n",
    "            # move data to cuda\n",
    "            images = images.to(DEVICE)\n",
    "            targets = torch.as_tensor(targets).to(DEVICE)\n",
    "            \n",
    "            # Extract features using conv_base\n",
    "            features_batch = conv_base(images)\n",
    "            features.append(features_batch.cpu().numpy())\n",
    "            labels.append(targets.cpu().numpy())\n",
    "\n",
    "    features = np.concatenate(features, axis=0)\n",
    "    labels = np.concatenate(labels, axis=0)\n",
    "    return features, labels"
   ]
  },
  {
   "cell_type": "code",
   "execution_count": 54,
   "metadata": {},
   "outputs": [
    {
     "name": "stdout",
     "output_type": "stream",
     "text": [
      "Feature Extraction completed in 0m 2s\n",
      "(522, 25088) (522,)\n"
     ]
    }
   ],
   "source": [
    "since = time.time()\n",
    "\n",
    "# extract features\n",
    "train_features, train_labels = extract_features(loader=dataloaders[TRAIN], conv_base=vgg16)\n",
    "test_features, test_labels = extract_features(loader=dataloaders[TEST], conv_base=vgg16)\n",
    "val_features, val_labels = extract_features(loader=dataloaders[VAL], conv_base=vgg16)\n",
    "\n",
    "elapsed_time = time.time() - since\n",
    "print(f\"Feature Extraction completed in {elapsed_time // 60:.0f}m {elapsed_time % 60:.0f}s\")\n",
    "\n",
    "# combine into one dataset\n",
    "features = np.concatenate((train_features, test_features, val_features))\n",
    "labels = np.concatenate((train_labels, test_labels, val_labels))\n",
    "\n",
    "print(features.shape, labels.shape)"
   ]
  },
  {
   "cell_type": "markdown",
   "metadata": {},
   "source": [
    "### Create Subsamples of Dataset"
   ]
  },
  {
   "cell_type": "code",
   "execution_count": 55,
   "metadata": {},
   "outputs": [],
   "source": [
    "def stratified_subset(features, labels, ratio):\n",
    "    num_samples = len(features)\n",
    "    new_size = int(num_samples * ratio)\n",
    "    \n",
    "    sss = StratifiedShuffleSplit(n_splits=1, test_size=new_size, random_state=0)\n",
    "    for train_index, subset_index in sss.split(features, labels):\n",
    "        subset_features = features[subset_index]\n",
    "        subset_labels = labels[subset_index]\n",
    "\n",
    "    print(subset_features.shape, subset_labels.shape)\n",
    "    return subset_features, subset_labels\n",
    "\n",
    "\n",
    "def show_distribution(labels, dataset_name, dataset_ratio):\n",
    "    unique_values, counts = np.unique(labels, return_counts=True)\n",
    "    \n",
    "    plt.figure(figsize=(5, 3))\n",
    "    bars = plt.bar(unique_values, counts, color='skyblue')\n",
    "    \n",
    "    for bar, count in zip(bars, counts):\n",
    "        yval = bar.get_height()\n",
    "        plt.text(bar.get_x() + bar.get_width() / 2, yval + 0.05, count, ha='center', va='bottom')\n",
    "    \n",
    "    plt.xlabel('Unique Values')\n",
    "    plt.ylabel('Counts')\n",
    "    plt.title(f'Distribution of Unique Values {dataset_name}')\n",
    "    plt.xticks(unique_values)\n",
    "\n",
    "    Path('/home/jovyan/work/distributions').mkdir(parents=True, exist_ok=True)\n",
    "    save_path = f'/home/jovyan/work/distributions/distribution_{dataset_name}_{dataset_ratio}.jpg'\n",
    "\n",
    "    plt.savefig(save_path)\n",
    "    plt.show()"
   ]
  },
  {
   "cell_type": "code",
   "execution_count": 56,
   "metadata": {},
   "outputs": [
    {
     "name": "stdout",
     "output_type": "stream",
     "text": [
      "(52, 25088) (52,)\n"
     ]
    },
    {
     "data": {
      "image/png": "[encoded data removed]",
      "text/plain": [
       "<Figure size 500x300 with 1 Axes>"
      ]
     },
     "metadata": {},
     "output_type": "display_data"
    },
    {
     "data": {
      "image/png": "[encoded data removed]",
      "text/plain": [
       "<Figure size 500x300 with 1 Axes>"
      ]
     },
     "metadata": {},
     "output_type": "display_data"
    }
   ],
   "source": [
    "subset_features, subset_labels = stratified_subset(features, labels, SUBSET_RATIO)\n",
    "show_distribution(labels, 'NIMH-CHEFS', '1.0')\n",
    "show_distribution(subset_labels, 'NIMH-CHEFS', '0.1')"
   ]
  },
  {
   "cell_type": "code",
   "execution_count": 57,
   "metadata": {},
   "outputs": [],
   "source": [
    "def print_score(clf, x_train, y_train, x_test, y_test, mode, train=True):\n",
    "    if train:\n",
    "        y_prediction = clf.predict(x_train)\n",
    "        clf_report = classification_report(y_train, y_prediction)\n",
    "        train_result = (\n",
    "            \"Train Result:\\n\"\n",
    "            \"================================================\\n\"\n",
    "            f\"Accuracy Score: {accuracy_score(y_train, y_prediction) * 100:.2f}%\\n\"\n",
    "            \"_______________________________________________\\n\"\n",
    "            f\"CLASSIFICATION REPORT:\\n{clf_report}\\n\"\n",
    "            \"_______________________________________________\\n\"\n",
    "            f\"Confusion Matrix: \\n {confusion_matrix(y_train, y_prediction)}\\n\\n\"\n",
    "        )\n",
    "        Path('/home/jovyan/work/reports').mkdir(parents=True, exist_ok=True)\n",
    "        (Path(f'/home/jovyan/work/reports/training_results_{mode}.txt')).write_text(train_result)\n",
    "\n",
    "        print(train_result)\n",
    "        \n",
    "    elif train==False:\n",
    "        y_prediction = clf.predict(x_test)\n",
    "        clf_report = classification_report(y_test, y_prediction)\n",
    "        test_result = (\n",
    "            \"Test Result:\\n\"\n",
    "            \"================================================\\n\"\n",
    "            f\"Accuracy Score: {accuracy_score(y_test, y_prediction) * 100:.2f}%\\n\"\n",
    "            \"_______________________________________________\\n\"\n",
    "            f\"CLASSIFICATION REPORT:\\n{clf_report}\\n\"\n",
    "            \"_______________________________________________\\n\"\n",
    "            f\"Confusion Matrix: \\n {confusion_matrix(y_test, y_prediction)}\\n\\n\"\n",
    "        )\n",
    "        Path('/home/jovyan/work/reports').mkdir(parents=True, exist_ok=True)\n",
    "        (Path(f'/home/jovyan/work/reports/test_results_{mode}.txt')).write_text(test_result)\n",
    "\n",
    "        print(test_result)"
   ]
  },
  {
   "cell_type": "markdown",
   "metadata": {},
   "source": [
    "#### SVM Init"
   ]
  },
  {
   "cell_type": "code",
   "execution_count": 58,
   "metadata": {},
   "outputs": [
    {
     "name": "stdout",
     "output_type": "stream",
     "text": [
      "(417, 25088) (105, 25088) (417,) (105,)\n"
     ]
    }
   ],
   "source": [
    "if SUBSET:\n",
    "    x_train, x_test, y_train, y_test = train_test_split(subset_features, subset_labels, test_size=0.2, shuffle=True, stratify=subset_labels, random_state=42)\n",
    "else: \n",
    "    x_train, x_test, y_train, y_test = train_test_split(features, labels, test_size=0.2, shuffle=True, stratify=labels, random_state=42)\n",
    "\n",
    "print(x_train.shape, x_test.shape, y_train.shape, y_test.shape)"
   ]
  },
  {
   "cell_type": "code",
   "execution_count": 61,
   "metadata": {},
   "outputs": [
    {
     "name": "stdout",
     "output_type": "stream",
     "text": [
      "n_iterations: 4\n",
      "n_required_iterations: 4\n",
      "n_possible_iterations: 4\n",
      "min_resources_: 50\n",
      "max_resources_: 417\n",
      "aggressive_elimination: False\n",
      "factor: 2\n",
      "----------\n",
      "iter: 0\n",
      "n_candidates: 8\n",
      "n_resources: 50\n",
      "Fitting 5 folds for each of 8 candidates, totalling 40 fits\n",
      "[CV 1/5] END C=0.1, degree=2, gamma=0.001, kernel=rbf;, score=(train=0.231, test=0.200) total time=   0.1s\n",
      "[CV 2/5] END C=0.1, degree=2, gamma=0.001, kernel=rbf;, score=(train=0.256, test=0.300) total time=   0.1s\n",
      "[CV 3/5] END C=0.1, degree=2, gamma=0.001, kernel=rbf;, score=(train=0.300, test=0.222) total time=   0.0s\n",
      "[CV 4/5] END C=0.1, degree=2, gamma=0.001, kernel=rbf;, score=(train=0.300, test=0.333) total time=   0.0s\n",
      "[CV 5/5] END C=0.1, degree=2, gamma=0.001, kernel=rbf;, score=(train=0.325, test=0.222) total time=   0.0s\n",
      "[CV 1/5] END C=1000, degree=2, gamma=0.1, kernel=poly;, score=(train=1.000, test=0.600) total time=   0.0s\n",
      "[CV 2/5] END C=1000, degree=2, gamma=0.1, kernel=poly;, score=(train=1.000, test=0.700) total time=   0.0s\n",
      "[CV 3/5] END C=1000, degree=2, gamma=0.1, kernel=poly;, score=(train=1.000, test=0.444) total time=   0.0s\n",
      "[CV 4/5] END C=1000, degree=2, gamma=0.1, kernel=poly;, score=(train=1.000, test=0.222) total time=   0.0s\n",
      "[CV 5/5] END C=1000, degree=2, gamma=0.1, kernel=poly;, score=(train=1.000, test=0.222) total time=   0.0s\n",
      "[CV 1/5] END C=10, degree=4, gamma=1, kernel=rbf;, score=(train=1.000, test=0.200) total time=   0.0s\n",
      "[CV 2/5] END C=10, degree=4, gamma=1, kernel=rbf;, score=(train=1.000, test=0.300) total time=   0.1s\n",
      "[CV 3/5] END C=10, degree=4, gamma=1, kernel=rbf;, score=(train=1.000, test=0.222) total time=   0.0s\n",
      "[CV 4/5] END C=10, degree=4, gamma=1, kernel=rbf;, score=(train=1.000, test=0.333) total time=   0.0s\n",
      "[CV 5/5] END C=10, degree=4, gamma=1, kernel=rbf;, score=(train=1.000, test=0.222) total time=   0.0s\n",
      "[CV 1/5] END C=1000, degree=3, gamma=0.0001, kernel=rbf;, score=(train=1.000, test=0.700) total time=   0.1s\n",
      "[CV 2/5] END C=1000, degree=3, gamma=0.0001, kernel=rbf;, score=(train=1.000, test=0.700) total time=   0.1s\n",
      "[CV 3/5] END C=1000, degree=3, gamma=0.0001, kernel=rbf;, score=(train=1.000, test=0.444) total time=   0.1s\n",
      "[CV 4/5] END C=1000, degree=3, gamma=0.0001, kernel=rbf;, score=(train=1.000, test=0.333) total time=   0.0s\n",
      "[CV 5/5] END C=1000, degree=3, gamma=0.0001, kernel=rbf;, score=(train=1.000, test=0.222) total time=   0.1s\n",
      "[CV 1/5] END C=100, degree=2, gamma=0.0001, kernel=poly;, score=(train=1.000, test=0.600) total time=   0.0s\n",
      "[CV 2/5] END C=100, degree=2, gamma=0.0001, kernel=poly;, score=(train=1.000, test=0.700) total time=   0.0s\n",
      "[CV 3/5] END C=100, degree=2, gamma=0.0001, kernel=poly;, score=(train=1.000, test=0.444) total time=   0.0s\n",
      "[CV 4/5] END C=100, degree=2, gamma=0.0001, kernel=poly;, score=(train=1.000, test=0.222) total time=   0.0s\n",
      "[CV 5/5] END C=100, degree=2, gamma=0.0001, kernel=poly;, score=(train=1.000, test=0.222) total time=   0.0s\n",
      "[CV 1/5] END C=1000, degree=4, gamma=0.1, kernel=poly;, score=(train=1.000, test=0.400) total time=   0.0s\n",
      "[CV 2/5] END C=1000, degree=4, gamma=0.1, kernel=poly;, score=(train=1.000, test=0.700) total time=   0.0s\n",
      "[CV 3/5] END C=1000, degree=4, gamma=0.1, kernel=poly;, score=(train=1.000, test=0.556) total time=   0.0s\n",
      "[CV 4/5] END C=1000, degree=4, gamma=0.1, kernel=poly;, score=(train=1.000, test=0.222) total time=   0.0s\n",
      "[CV 5/5] END C=1000, degree=4, gamma=0.1, kernel=poly;, score=(train=1.000, test=0.222) total time=   0.0s\n",
      "[CV 1/5] END C=1000, degree=2, gamma=1, kernel=sigmoid;, score=(train=0.231, test=0.200) total time=   0.0s\n",
      "[CV 2/5] END C=1000, degree=2, gamma=1, kernel=sigmoid;, score=(train=0.256, test=0.300) total time=   0.0s\n",
      "[CV 3/5] END C=1000, degree=2, gamma=1, kernel=sigmoid;, score=(train=0.300, test=0.222) total time=   0.0s\n",
      "[CV 4/5] END C=1000, degree=2, gamma=1, kernel=sigmoid;, score=(train=0.300, test=0.333) total time=   0.0s\n",
      "[CV 5/5] END C=1000, degree=2, gamma=1, kernel=sigmoid;, score=(train=0.325, test=0.222) total time=   0.0s\n",
      "[CV 1/5] END C=1, degree=4, gamma=0.001, kernel=sigmoid;, score=(train=0.231, test=0.200) total time=   0.0s\n",
      "[CV 2/5] END C=1, degree=4, gamma=0.001, kernel=sigmoid;, score=(train=0.256, test=0.300) total time=   0.0s\n",
      "[CV 3/5] END C=1, degree=4, gamma=0.001, kernel=sigmoid;, score=(train=0.300, test=0.222) total time=   0.0s\n",
      "[CV 4/5] END C=1, degree=4, gamma=0.001, kernel=sigmoid;, score=(train=0.300, test=0.333) total time=   0.0s\n",
      "[CV 5/5] END C=1, degree=4, gamma=0.001, kernel=sigmoid;, score=(train=0.325, test=0.222) total time=   0.0s\n",
      "----------\n",
      "iter: 1\n",
      "n_candidates: 4\n",
      "n_resources: 100\n",
      "Fitting 5 folds for each of 4 candidates, totalling 20 fits\n",
      "[CV 1/5] END C=1000, degree=4, gamma=0.1, kernel=poly;, score=(train=1.000, test=0.400) total time=   0.1s\n",
      "[CV 2/5] END C=1000, degree=4, gamma=0.1, kernel=poly;, score=(train=1.000, test=0.400) total time=   0.2s\n",
      "[CV 3/5] END C=1000, degree=4, gamma=0.1, kernel=poly;, score=(train=1.000, test=0.368) total time=   0.2s\n",
      "[CV 4/5] END C=1000, degree=4, gamma=0.1, kernel=poly;, score=(train=1.000, test=0.474) total time=   0.1s\n",
      "[CV 5/5] END C=1000, degree=4, gamma=0.1, kernel=poly;, score=(train=1.000, test=0.526) total time=   0.1s\n",
      "[CV 1/5] END C=1000, degree=2, gamma=0.1, kernel=poly;, score=(train=1.000, test=0.650) total time=   0.1s\n",
      "[CV 2/5] END C=1000, degree=2, gamma=0.1, kernel=poly;, score=(train=1.000, test=0.450) total time=   0.1s\n",
      "[CV 3/5] END C=1000, degree=2, gamma=0.1, kernel=poly;, score=(train=1.000, test=0.421) total time=   0.1s\n",
      "[CV 4/5] END C=1000, degree=2, gamma=0.1, kernel=poly;, score=(train=1.000, test=0.579) total time=   0.1s\n",
      "[CV 5/5] END C=1000, degree=2, gamma=0.1, kernel=poly;, score=(train=1.000, test=0.526) total time=   0.1s\n",
      "[CV 1/5] END C=100, degree=2, gamma=0.0001, kernel=poly;, score=(train=1.000, test=0.650) total time=   0.2s\n",
      "[CV 2/5] END C=100, degree=2, gamma=0.0001, kernel=poly;, score=(train=1.000, test=0.450) total time=   0.1s\n",
      "[CV 3/5] END C=100, degree=2, gamma=0.0001, kernel=poly;, score=(train=1.000, test=0.421) total time=   0.1s\n",
      "[CV 4/5] END C=100, degree=2, gamma=0.0001, kernel=poly;, score=(train=1.000, test=0.579) total time=   0.1s\n",
      "[CV 5/5] END C=100, degree=2, gamma=0.0001, kernel=poly;, score=(train=1.000, test=0.526) total time=   0.1s\n",
      "[CV 1/5] END C=1000, degree=3, gamma=0.0001, kernel=rbf;, score=(train=1.000, test=0.700) total time=   0.1s\n",
      "[CV 2/5] END C=1000, degree=3, gamma=0.0001, kernel=rbf;, score=(train=1.000, test=0.450) total time=   0.1s\n",
      "[CV 3/5] END C=1000, degree=3, gamma=0.0001, kernel=rbf;, score=(train=1.000, test=0.421) total time=   0.1s\n",
      "[CV 4/5] END C=1000, degree=3, gamma=0.0001, kernel=rbf;, score=(train=1.000, test=0.421) total time=   0.1s\n",
      "[CV 5/5] END C=1000, degree=3, gamma=0.0001, kernel=rbf;, score=(train=1.000, test=0.526) total time=   0.1s\n",
      "----------\n",
      "iter: 2\n",
      "n_candidates: 2\n",
      "n_resources: 200\n",
      "Fitting 5 folds for each of 2 candidates, totalling 10 fits\n",
      "[CV 1/5] END C=1000, degree=2, gamma=0.1, kernel=poly;, score=(train=1.000, test=0.500) total time=   0.5s\n",
      "[CV 2/5] END C=1000, degree=2, gamma=0.1, kernel=poly;, score=(train=1.000, test=0.575) total time=   0.3s\n",
      "[CV 3/5] END C=1000, degree=2, gamma=0.1, kernel=poly;, score=(train=1.000, test=0.615) total time=   0.3s\n",
      "[CV 4/5] END C=1000, degree=2, gamma=0.1, kernel=poly;, score=(train=1.000, test=0.513) total time=   0.4s\n",
      "[CV 5/5] END C=1000, degree=2, gamma=0.1, kernel=poly;, score=(train=1.000, test=0.564) total time=   0.4s\n",
      "[CV 1/5] END C=100, degree=2, gamma=0.0001, kernel=poly;, score=(train=1.000, test=0.500) total time=   0.3s\n",
      "[CV 2/5] END C=100, degree=2, gamma=0.0001, kernel=poly;, score=(train=1.000, test=0.575) total time=   0.4s\n",
      "[CV 3/5] END C=100, degree=2, gamma=0.0001, kernel=poly;, score=(train=1.000, test=0.615) total time=   0.4s\n",
      "[CV 4/5] END C=100, degree=2, gamma=0.0001, kernel=poly;, score=(train=1.000, test=0.513) total time=   0.4s\n",
      "[CV 5/5] END C=100, degree=2, gamma=0.0001, kernel=poly;, score=(train=1.000, test=0.564) total time=   0.4s\n",
      "----------\n",
      "iter: 3\n",
      "n_candidates: 1\n",
      "n_resources: 400\n",
      "Fitting 5 folds for each of 1 candidates, totalling 5 fits\n",
      "[CV 1/5] END C=100, degree=2, gamma=0.0001, kernel=poly;, score=(train=1.000, test=0.625) total time=   1.3s\n",
      "[CV 2/5] END C=100, degree=2, gamma=0.0001, kernel=poly;, score=(train=1.000, test=0.662) total time=   1.5s\n",
      "[CV 3/5] END C=100, degree=2, gamma=0.0001, kernel=poly;, score=(train=1.000, test=0.759) total time=   1.3s\n",
      "[CV 4/5] END C=100, degree=2, gamma=0.0001, kernel=poly;, score=(train=1.000, test=0.620) total time=   1.5s\n",
      "[CV 5/5] END C=100, degree=2, gamma=0.0001, kernel=poly;, score=(train=1.000, test=0.608) total time=   1.4s\n",
      "Best Parameters: {'kernel': 'poly', 'gamma': 0.0001, 'degree': 2, 'C': 100}\n"
     ]
    },
    {
     "data": {
      "text/plain": [
       "'\\nrandom_search = RandomizedSearchCV(SVC(), param_grid, n_iter=10, refit=True, verbose=3, cv=5, random_state=42)\\nrandom_search.fit(x_train, y_train)\\nprint(\"Best Parameters:\", random_search.best_params_)\\nbest_model = random_search.best_estimator_\\ny_pred = best_model.predict(x_test)\\n'"
      ]
     },
     "execution_count": 61,
     "metadata": {},
     "output_type": "execute_result"
    }
   ],
   "source": [
    "\n",
    "param_grid = {\n",
    "    'C': [0.1, 1, 10, 100, 1000],\n",
    "    'gamma': [1, 0.1, 0.01, 0.001, 0.0001],\n",
    "    'kernel': ['rbf', 'poly', 'sigmoid'],\n",
    "    'degree': [2, 3, 4]\n",
    "}\n",
    "\n",
    "\"\"\"\n",
    "param_grid = {\n",
    "    'C': [0.1, 1, 10, 100, 1000],\n",
    "    'gamma': [1, 0.1, 0.01, 0.001, 0.0001],\n",
    "    'kernel': ['rbf'],\n",
    "}\n",
    "\"\"\"\n",
    "\"\"\"\n",
    "grid = GridSearchCV(SVC(), param_grid, refit=True, verbose=3, cv=5)\n",
    "grid.fit(x_train, y_train)\n",
    "print(\"Best Parameters:\", grid.best_params_)\n",
    "best_model = grid.best_estimator_\n",
    "y_pred = best_model.predict(x_test)\n",
    "\"\"\"\n",
    "\n",
    "halving_random_search = HalvingRandomSearchCV(SVC(), param_grid, n_candidates='exhaust', refit=True, verbose=3, cv=5, factor=2, random_state=42)\n",
    "halving_random_search.fit(x_train, y_train)\n",
    "print(\"Best Parameters:\", halving_random_search.best_params_)\n",
    "best_model = halving_random_search.best_estimator_\n",
    "y_pred = best_model.predict(x_test)\n",
    "\n",
    "\"\"\"\n",
    "random_search = RandomizedSearchCV(SVC(), param_grid, n_iter=10, refit=True, verbose=3, cv=5, random_state=42)\n",
    "random_search.fit(x_train, y_train)\n",
    "print(\"Best Parameters:\", random_search.best_params_)\n",
    "best_model = random_search.best_estimator_\n",
    "y_pred = best_model.predict(x_test)\n",
    "\"\"\""
   ]
  },
  {
   "cell_type": "code",
   "execution_count": 60,
   "metadata": {},
   "outputs": [
    {
     "name": "stdout",
     "output_type": "stream",
     "text": [
      "Test Result:\n",
      "================================================\n",
      "Accuracy Score: 66.67%\n",
      "_______________________________________________\n",
      "CLASSIFICATION REPORT:\n",
      "              precision    recall  f1-score   support\n",
      "\n",
      "           0       1.00      0.57      0.73        21\n",
      "           1       0.52      0.75      0.61        20\n",
      "           2       0.90      0.82      0.86        22\n",
      "           3       0.54      0.64      0.58        22\n",
      "           4       0.61      0.55      0.58        20\n",
      "\n",
      "    accuracy                           0.67       105\n",
      "   macro avg       0.71      0.67      0.67       105\n",
      "weighted avg       0.72      0.67      0.67       105\n",
      "\n",
      "_______________________________________________\n",
      "Confusion Matrix: \n",
      " [[12  3  1  5  0]\n",
      " [ 0 15  0  2  3]\n",
      " [ 0  2 18  1  1]\n",
      " [ 0  4  1 14  3]\n",
      " [ 0  5  0  4 11]]\n",
      "\n",
      "\n"
     ]
    }
   ],
   "source": [
    "print_score(best_model, x_train, y_train, x_test, y_test, mode='SVM_NIMH-CHEFS', train=False)"
   ]
  },
  {
   "cell_type": "markdown",
   "metadata": {},
   "source": [
    "#### Export to ONNX"
   ]
  },
  {
   "cell_type": "code",
   "execution_count": 42,
   "metadata": {},
   "outputs": [
    {
     "name": "stdout",
     "output_type": "stream",
     "text": [
      "Requirement already satisfied: onnx in /opt/conda/lib/python3.11/site-packages (1.16.1)\n",
      "Requirement already satisfied: skl2onnx in /opt/conda/lib/python3.11/site-packages (1.17.0)\n",
      "Requirement already satisfied: numpy>=1.20 in /opt/conda/lib/python3.11/site-packages (from onnx) (1.26.4)\n",
      "Requirement already satisfied: protobuf>=3.20.2 in /opt/conda/lib/python3.11/site-packages (from onnx) (3.20.2)\n",
      "Requirement already satisfied: scikit-learn>=1.1 in /opt/conda/lib/python3.11/site-packages (from skl2onnx) (1.5.0)\n",
      "Requirement already satisfied: onnxconverter-common>=1.7.0 in /opt/conda/lib/python3.11/site-packages (from skl2onnx) (1.14.0)\n",
      "Requirement already satisfied: packaging in /opt/conda/lib/python3.11/site-packages (from onnxconverter-common>=1.7.0->skl2onnx) (24.1)\n",
      "Requirement already satisfied: scipy>=1.6.0 in /opt/conda/lib/python3.11/site-packages (from scikit-learn>=1.1->skl2onnx) (1.13.1)\n",
      "Requirement already satisfied: joblib>=1.2.0 in /opt/conda/lib/python3.11/site-packages (from scikit-learn>=1.1->skl2onnx) (1.4.2)\n",
      "Requirement already satisfied: threadpoolctl>=3.1.0 in /opt/conda/lib/python3.11/site-packages (from scikit-learn>=1.1->skl2onnx) (3.5.0)\n",
      "Note: you may need to restart the kernel to use updated packages.\n",
      "import successful\n"
     ]
    }
   ],
   "source": [
    "%pip install onnx skl2onnx\n",
    "\n",
    "import onnx\n",
    "from skl2onnx import convert_sklearn\n",
    "from skl2onnx.common.data_types import FloatTensorType\n",
    "\n",
    "print('import successful')"
   ]
  },
  {
   "cell_type": "code",
   "execution_count": null,
   "metadata": {},
   "outputs": [],
   "source": [
    "initial_type = [('float_input', FloatTensorType([None, x_train.shape[1]]))]\n",
    "onnx_model = convert_sklearn(best_model, initial_types=initial_type)\n",
    "\n",
    "# Save the model to a file\n",
    "with open(\"best_model.onnx\", \"wb\") as f:\n",
    "    f.write(onnx_model.SerializeToString())"
   ]
  },
  {
   "cell_type": "code",
   "execution_count": 17,
   "metadata": {},
   "outputs": [
    {
     "name": "stdout",
     "output_type": "stream",
     "text": [
      "Training SVM completed in 0m 3s\n",
      "Test Result:\n",
      "================================================\n",
      "Accuracy Score: 20.95%\n",
      "_______________________________________________\n",
      "CLASSIFICATION REPORT:\n",
      "              precision    recall  f1-score   support\n",
      "\n",
      "           0       0.00      0.00      0.00        21\n",
      "           1       0.00      0.00      0.00        20\n",
      "           2       0.00      0.00      0.00        22\n",
      "           3       0.21      1.00      0.35        22\n",
      "           4       0.00      0.00      0.00        20\n",
      "\n",
      "    accuracy                           0.21       105\n",
      "   macro avg       0.04      0.20      0.07       105\n",
      "weighted avg       0.04      0.21      0.07       105\n",
      "\n",
      "_______________________________________________\n",
      "Confusion Matrix: \n",
      " [[ 0  0  0 21  0]\n",
      " [ 0  0  0 20  0]\n",
      " [ 0  0  0 22  0]\n",
      " [ 0  0  0 22  0]\n",
      " [ 0  0  0 20  0]]\n",
      "\n",
      "\n"
     ]
    },
    {
     "name": "stderr",
     "output_type": "stream",
     "text": [
      "/opt/conda/lib/python3.11/site-packages/sklearn/metrics/_classification.py:1517: UndefinedMetricWarning: Precision is ill-defined and being set to 0.0 in labels with no predicted samples. Use `zero_division` parameter to control this behavior.\n",
      "  _warn_prf(average, modifier, f\"{metric.capitalize()} is\", len(result))\n",
      "/opt/conda/lib/python3.11/site-packages/sklearn/metrics/_classification.py:1517: UndefinedMetricWarning: Precision is ill-defined and being set to 0.0 in labels with no predicted samples. Use `zero_division` parameter to control this behavior.\n",
      "  _warn_prf(average, modifier, f\"{metric.capitalize()} is\", len(result))\n",
      "/opt/conda/lib/python3.11/site-packages/sklearn/metrics/_classification.py:1517: UndefinedMetricWarning: Precision is ill-defined and being set to 0.0 in labels with no predicted samples. Use `zero_division` parameter to control this behavior.\n",
      "  _warn_prf(average, modifier, f\"{metric.capitalize()} is\", len(result))\n"
     ]
    }
   ],
   "source": [
    "since = time.time()\n",
    "\n",
    "classifier = SVC(C=0.1, gamma=1, kernel='rbf')\n",
    "classifier.fit(x_train, y_train)\n",
    "\n",
    "elapsed_time = time.time() - since\n",
    "print(f\"Training SVM completed in {elapsed_time // 60:.0f}m {elapsed_time % 60:.0f}s\")\n",
    "\n",
    "print_score(classifier, x_train, y_train, x_test, y_test, mode='SVM_NIMH-CHEFS', train=False)"
   ]
  },
  {
   "cell_type": "code",
   "execution_count": null,
   "metadata": {},
   "outputs": [],
   "source": [
    "#print_score(classifier, x_train, y_train, x_test, y_test, mode='SVM_NIMH-CHEFS', train=True)\n"
   ]
  },
  {
   "cell_type": "code",
   "execution_count": null,
   "metadata": {},
   "outputs": [],
   "source": [
    "print_score(classifier, x_train, y_train, x_test, y_test, mode='SVM_NIMH-CHEFS', train=False)"
   ]
  },
  {
   "cell_type": "code",
   "execution_count": null,
   "metadata": {},
   "outputs": [],
   "source": [
    "from sklearn.metrics import accuracy_score, precision_score, recall_score, f1_score\n",
    "\n",
    "y_pred = classifier.predict(x_test)\n",
    "\n",
    "# Calculate evaluation metrics\n",
    "accuracy = accuracy_score(y_test, y_pred)\n",
    "precision = precision_score(y_test, y_pred, average='weighted')\n",
    "recall = recall_score(y_test, y_pred, average='weighted')\n",
    "f1 = f1_score(y_test, y_pred, average='weighted')\n",
    "\n",
    "print(accuracy, precision, recall, f1)"
   ]
  }
 ],
 "metadata": {
  "kernelspec": {
   "display_name": "Python 3 (ipykernel)",
   "language": "python",
   "name": "python3"
  },
  "language_info": {
   "codemirror_mode": {
    "name": "ipython",
    "version": 3
   },
   "file_extension": ".py",
   "mimetype": "text/x-python",
   "name": "python",
   "nbconvert_exporter": "python",
   "pygments_lexer": "ipython3",
   "version": "3.11.9"
  }
 },
 "nbformat": 4,
 "nbformat_minor": 4
}
