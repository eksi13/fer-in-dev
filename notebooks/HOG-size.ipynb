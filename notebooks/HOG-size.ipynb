{
 "cells": [
  {
   "cell_type": "code",
   "execution_count": 3,
   "id": "9f8e5bcd-b021-4e3d-8afd-9dbb7a553c57",
   "metadata": {},
   "outputs": [],
   "source": [
    "def compute_hog_feature_vector_size(height, width, orientations, pixels_per_cell, cells_per_block):\n",
    "    # Calculate number of cells along height and width\n",
    "    num_cells_height = height // pixels_per_cell\n",
    "    num_cells_width = width // pixels_per_cell\n",
    "    \n",
    "    # Calculate number of blocks along height and width\n",
    "    num_blocks_height = num_cells_height - cells_per_block + 1\n",
    "    num_blocks_width = num_cells_width - cells_per_block + 1\n",
    "    \n",
    "    # Calculate size of feature vector per block\n",
    "    num_cells_per_block = cells_per_block * cells_per_block\n",
    "    feature_vector_size_per_block = num_cells_per_block * orientations\n",
    "    \n",
    "    # Calculate total size of HOG feature vector\n",
    "    total_feature_vector_size = num_blocks_height * num_blocks_width * feature_vector_size_per_block\n",
    "    \n",
    "    return total_feature_vector_size"
   ]
  },
  {
   "cell_type": "code",
   "execution_count": 19,
   "id": "88592dea-73c7-4e58-a6c6-29586fedc76a",
   "metadata": {},
   "outputs": [
    {
     "name": "stdout",
     "output_type": "stream",
     "text": [
      "HOG feature vector size: 256\n"
     ]
    }
   ],
   "source": [
    "height = 64\n",
    "width = 64\n",
    "orientations = 4\n",
    "pixels_per_cell = 12\n",
    "cells_per_block = 4\n",
    "\n",
    "hog_feature_vector_size = compute_hog_feature_vector_size(height, width, orientations, pixels_per_cell, cells_per_block)\n",
    "print(\"HOG feature vector size:\", hog_feature_vector_size)"
   ]
  },
  {
   "cell_type": "code",
   "execution_count": null,
   "id": "7dd85f93-65fb-424c-a381-0af3867cd9bf",
   "metadata": {},
   "outputs": [],
   "source": []
  }
 ],
 "metadata": {
  "kernelspec": {
   "display_name": "Python 3 (ipykernel)",
   "language": "python",
   "name": "python3"
  },
  "language_info": {
   "codemirror_mode": {
    "name": "ipython",
    "version": 3
   },
   "file_extension": ".py",
   "mimetype": "text/x-python",
   "name": "python",
   "nbconvert_exporter": "python",
   "pygments_lexer": "ipython3",
   "version": "3.11.9"
  }
 },
 "nbformat": 4,
 "nbformat_minor": 5
}
