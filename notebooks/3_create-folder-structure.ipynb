{
 "cells": [
  {
   "cell_type": "markdown",
   "metadata": {},
   "source": [
    "This notebook processes a dataset of images by splitting them into training, validation, and test sets. It calculates the number of images for each set, creates the necessary directories, and moves the images accordingly. This prepares the data for subsequent machine learning model training and evaluation."
   ]
  },
  {
   "cell_type": "code",
   "execution_count": null,
   "metadata": {},
   "outputs": [],
   "source": [
    "import cv2\n",
    "import matplotlib.pyplot as plt\n",
    "import numpy as np\n",
    "from pathlib import Path\n",
    "from tqdm import tqdm\n",
    "import re\n",
    "\n",
    "from skimage.feature import hog\n",
    "from sklearn.svm import SVC\n",
    "from sklearn.model_selection import GridSearchCV, KFold, train_test_split, cross_val_score\n",
    "from sklearn.metrics import accuracy_score, confusion_matrix, classification_report\n",
    "\n",
    "import pickle, shutil, random\n",
    "\n",
    "Path.cwd()"
   ]
  },
  {
   "cell_type": "code",
   "execution_count": null,
   "metadata": {},
   "outputs": [],
   "source": [
    "PATH = Path('/home/jovyan/work/cross-label/extracted_faces')\n",
    "LABELS = [f.name for f in PATH.iterdir() if f.is_dir()]\n",
    "\n",
    "NUM_IMAGES = len(list(PATH.rglob('*.jpg')))\n",
    "IMAGES = list(PATH.rglob('*.jpg'))\n",
    "print(len(IMAGES))\n",
    "\n",
    "NEG = [str(file) for file in IMAGES if re.search('_1.1.jpg', str(file))]\n",
    "POS = [str(file) for file in IMAGES if re.search('_1.2.jpg', str(file))]\n",
    "NEU = [str(file) for file in IMAGES if re.search('_0.0.jpg', str(file))]"
   ]
  },
  {
   "cell_type": "code",
   "execution_count": null,
   "metadata": {},
   "outputs": [],
   "source": [
    "neg_path = '/home/jovyan/work/cross-label/extracted_faces/negative'\n",
    "pos_path = '/home/jovyan/work/cross-label/extracted_faces/positive'\n",
    "neu_path = '/home/jovyan/work/cross-label/extracted_faces/neutral'"
   ]
  },
  {
   "cell_type": "code",
   "execution_count": null,
   "metadata": {},
   "outputs": [],
   "source": [
    "for file in tqdm(NEU):\n",
    "    try:\n",
    "        shutil.move(str(file), neu_path)\n",
    "    except:\n",
    "        continue"
   ]
  },
  {
   "cell_type": "code",
   "execution_count": null,
   "metadata": {},
   "outputs": [],
   "source": [
    "PATH = Path('/home/jovyan/work/cross-label/extracted_faces')\n",
    "LABELS = [f.name for f in PATH.iterdir() if f.is_dir()]\n",
    "print(LABELS)\n",
    "\n",
    "NUM_IMAGES = len(list(PATH.rglob('*.jpg')))\n",
    "\n",
    "TRAIN_PROP = 0.6\n",
    "VALID_PROP = 0.2\n",
    "TEST_PROP = 0.2\n",
    "\n",
    "N_TRAIN = int((NUM_IMAGES * TRAIN_PROP) + 0.5)\n",
    "N_VALID = int((NUM_IMAGES * VALID_PROP) + 0.5)\n",
    "N_TEST = NUM_IMAGES - N_TRAIN - N_VALID\n",
    "\n",
    "print(f\"[INFO] Total number of images ... {str(NUM_IMAGES)}\")\n",
    "print(f\"[INFO] Number of images used in training ... {str(N_TRAIN)} ({str(TRAIN_PROP * 100)}%)\")\n",
    "print(f\"[INFO] Number of images used in validation ...{str(N_VALID)} ({str(VALID_PROP * 100)}%)\")\n",
    "print(f\"[INFO] Number of images used in testing ... {str(N_TEST)} ({str(TEST_PROP * 100)}%)\")"
   ]
  },
  {
   "cell_type": "code",
   "execution_count": null,
   "metadata": {},
   "outputs": [],
   "source": [
    "def split_and_move():\n",
    "\n",
    "    print(f\"[INFO] Splitting files in train - test - val sets for each of {len(LABELS)} labels ...\")\n",
    "    for label in tqdm(LABELS):\n",
    "        \n",
    "        # create paths for each label\n",
    "        folder_path = PATH / label\n",
    "        train_destination = PATH / \"train\" / label\n",
    "        val_destination = PATH / \"val\" / label\n",
    "        test_destination = PATH / \"test\" / label\n",
    "        \n",
    "        # create the directories eg. \"train / happy\"\n",
    "        train_destination.mkdir(parents=True, exist_ok=True)\n",
    "        val_destination.mkdir(parents=True, exist_ok=True)\n",
    "        test_destination.mkdir(parents=True, exist_ok=True)\n",
    "\n",
    "        # get all the jpgs in the label file\n",
    "        files = list(folder_path.rglob('*.jpg'))\n",
    "        random.shuffle(files)\n",
    "\n",
    "        train_n = (int((len(files) * TRAIN_PROP) + 0.5))\n",
    "        val_n = (int((len(files) * VALID_PROP) + 0.2))\n",
    "\n",
    "        for file_idx, file in enumerate(files):\n",
    "            if file_idx < train_n:\n",
    "                shutil.move(str(file), train_destination)\n",
    "            elif file_idx < train_n + val_n:\n",
    "                shutil.move(str(file), val_destination)\n",
    "            else:\n",
    "                shutil.move(str(file), test_destination)\n",
    "\n",
    "        if folder_path.exists() and folder_path.is_dir():\n",
    "            shutil.rmtree(folder_path)\n",
    "\n",
    "    print(f\"[INFO] DONE ...\")\n"
   ]
  },
  {
   "cell_type": "code",
   "execution_count": null,
   "metadata": {},
   "outputs": [],
   "source": [
    "split_and_move()"
   ]
  }
 ],
 "metadata": {
  "kernelspec": {
   "display_name": "Python 3 (ipykernel)",
   "language": "python",
   "name": "python3"
  },
  "language_info": {
   "codemirror_mode": {
    "name": "ipython",
    "version": 3
   },
   "file_extension": ".py",
   "mimetype": "text/x-python",
   "name": "python",
   "nbconvert_exporter": "python",
   "pygments_lexer": "ipython3",
   "version": "3.11.9"
  }
 },
 "nbformat": 4,
 "nbformat_minor": 4
}
