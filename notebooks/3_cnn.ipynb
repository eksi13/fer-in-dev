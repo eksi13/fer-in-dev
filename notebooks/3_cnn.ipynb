{
 "cells": [
  {
   "cell_type": "code",
   "execution_count": 21,
   "metadata": {},
   "outputs": [],
   "source": [
    "import torch\n",
    "from torchvision import transforms, datasets, models\n",
    "from pathlib import Path\n",
    "\n",
    "import warnings\n",
    "warnings.filterwarnings('ignore', category=FutureWarning)\n",
    "\n",
    "#%pip install torchsummary \n",
    "from torchsummary import summary\n",
    "\n",
    "import torch.nn as nn"
   ]
  },
  {
   "cell_type": "code",
   "execution_count": 2,
   "metadata": {},
   "outputs": [
    {
     "name": "stdout",
     "output_type": "stream",
     "text": [
      "Train on gpu: False\n"
     ]
    }
   ],
   "source": [
    "train_on_gpu = torch.cuda.is_available()\n",
    "print(f'Train on gpu: {train_on_gpu}')\n",
    "\n",
    "if train_on_gpu:\n",
    "    gpu_count = torch.cuda.device_count()\n",
    "    print(f'{gpu_count} gpus detected.')\n",
    "    if gpu_count > 1:\n",
    "        multi_gpu = True\n",
    "    else:\n",
    "        multi_gpu = False"
   ]
  },
  {
   "cell_type": "code",
   "execution_count": 3,
   "metadata": {},
   "outputs": [],
   "source": [
    "BASE_PATH = Path('/project/volume/data/out/NIMH-CHEFS')\n",
    "\n",
    "TRAIN = 'train'\n",
    "VAL = 'val'\n",
    "TEST = 'test'"
   ]
  },
  {
   "cell_type": "code",
   "execution_count": 23,
   "metadata": {},
   "outputs": [
    {
     "name": "stdout",
     "output_type": "stream",
     "text": [
      "[INFO] Number of images in train set ...320\n",
      "[INFO] Number of images in val set ...106\n",
      "[INFO] Number of images in test set ...107\n",
      "5\n",
      "[INFO] Classes:  ['Afraid', 'Angry', 'Happy', 'Neutral', 'Sad']\n"
     ]
    }
   ],
   "source": [
    "# set transformations per dataset\n",
    "data_transforms = {\n",
    "    'train': transforms.Compose([\n",
    "        transforms.RandomRotation(degrees=30),\n",
    "        transforms.ColorJitter(),\n",
    "        transforms.RandomHorizontalFlip(),\n",
    "        transforms.RandomResizedCrop(size=224, scale=(0.08, 1.0)),\n",
    "        transforms.ToTensor(), # automatically scales the from [0,255] to [0,1]\n",
    "        transforms.Normalize(mean=[0.485, 0.456, 0.406], # vgg16 / imagenet standard\n",
    "                             std=[0.229, 0.224, 0.225])\n",
    "\n",
    "    ]),\n",
    "    'val': transforms.Compose([\n",
    "        transforms.Resize(size=256),\n",
    "        transforms.CenterCrop(size=224),\n",
    "        transforms.ToTensor(),\n",
    "        transforms.Normalize(mean=[0.485, 0.456, 0.406],\n",
    "                             std=[0.229, 0.224, 0.225]) \n",
    "    ]),\n",
    "    'test': transforms.Compose([\n",
    "        transforms.Resize(size=256),\n",
    "        transforms.CenterCrop(size=224),\n",
    "        transforms.ToTensor(),\n",
    "        transforms.Normalize(mean=[0.485, 0.456, 0.406],\n",
    "                             std=[0.229, 0.224, 0.225]) \n",
    "    ])\n",
    "}\n",
    "\n",
    "\n",
    "# create datasets\n",
    "image_datasets = {\n",
    "    x: datasets.ImageFolder(\n",
    "        root=(BASE_PATH / x),\n",
    "        transform=data_transforms[x]\n",
    "    )\n",
    "    for x in [TRAIN, VAL, TEST]\n",
    "}\n",
    "\n",
    "\n",
    "# create dataloaders to avoidd loading all fof the data into memory at once\n",
    "dataloaders = {\n",
    "    x: torch.utils.data.DataLoader(\n",
    "        image_datasets[x], \n",
    "        batch_size=64,\n",
    "        shuffle=True, \n",
    "        num_workers=4\n",
    "    )\n",
    "    for x in [TRAIN, VAL, TEST]\n",
    "}\n",
    "\n",
    "dataset_sizes = { x : len(image_datasets[x]) for x in [TRAIN, VAL, TEST] }\n",
    "\n",
    "for x in [TRAIN, VAL, TEST]:\n",
    "    print(f\"[INFO] Number of images in {x} set ...{dataset_sizes[x]}\")\n",
    "\n",
    "class_names = image_datasets[TRAIN].classes\n",
    "n_classes = len(class_names)\n",
    "print(n_classes)\n",
    "print(\"[INFO] Classes: \", image_datasets[TRAIN].classes)"
   ]
  },
  {
   "cell_type": "code",
   "execution_count": 5,
   "metadata": {},
   "outputs": [
    {
     "name": "stdout",
     "output_type": "stream",
     "text": [
      "torch.Size([64, 3, 224, 224])\n",
      "torch.Size([64])\n"
     ]
    }
   ],
   "source": [
    "trainiter = iter(dataloaders['train'])\n",
    "features, labels = next(trainiter)\n",
    "print(features.shape) # batch_size, color_channels, height, width\n",
    "print(labels.shape) # batch_size"
   ]
  },
  {
   "cell_type": "code",
   "execution_count": 52,
   "metadata": {},
   "outputs": [],
   "source": [
    "vgg16 = models.vgg16(weights=models.VGG16_Weights.IMAGENET1K_V1)"
   ]
  },
  {
   "cell_type": "code",
   "execution_count": 55,
   "metadata": {},
   "outputs": [],
   "source": [
    "for param in vgg16.features.parameters():\n",
    "    param.requires_grad = False"
   ]
  },
  {
   "cell_type": "code",
   "execution_count": 56,
   "metadata": {},
   "outputs": [
    {
     "data": {
      "text/plain": [
       "Sequential(\n",
       "  (0): Linear(in_features=25088, out_features=4096, bias=True)\n",
       "  (1): ReLU(inplace=True)\n",
       "  (2): Dropout(p=0.5, inplace=False)\n",
       "  (3): Linear(in_features=4096, out_features=4096, bias=True)\n",
       "  (4): ReLU(inplace=True)\n",
       "  (5): Dropout(p=0.5, inplace=False)\n",
       "  (6): Linear(in_features=4096, out_features=1000, bias=True)\n",
       ")"
      ]
     },
     "execution_count": 56,
     "metadata": {},
     "output_type": "execute_result"
    }
   ],
   "source": [
    "vgg16.classifier"
   ]
  },
  {
   "cell_type": "code",
   "execution_count": 57,
   "metadata": {},
   "outputs": [
    {
     "data": {
      "text/plain": [
       "Sequential(\n",
       "  (0): Linear(in_features=25088, out_features=4096, bias=True)\n",
       "  (1): ReLU(inplace=True)\n",
       "  (2): Dropout(p=0.5, inplace=False)\n",
       "  (3): Linear(in_features=4096, out_features=4096, bias=True)\n",
       "  (4): ReLU(inplace=True)\n",
       "  (5): Dropout(p=0.5, inplace=False)\n",
       "  (6): Linear(in_features=4096, out_features=5, bias=True)\n",
       ")"
      ]
     },
     "execution_count": 57,
     "metadata": {},
     "output_type": "execute_result"
    }
   ],
   "source": [
    "n_inputs = list(vgg16.classifier)[6].in_features\n",
    "\n",
    "features = list(vgg16.classifier)[:-1]\n",
    "features.extend([nn.Linear(in_features=n_inputs, out_features=n_classes)])\n",
    "\n",
    "vgg16.classifier = nn.Sequential(*features)\n",
    "vgg16.classifier"
   ]
  },
  {
   "cell_type": "code",
   "execution_count": 61,
   "metadata": {},
   "outputs": [
    {
     "name": "stdout",
     "output_type": "stream",
     "text": [
      "134,281,029 total parameters.\n",
      "119,566,341 training parameters.\n"
     ]
    }
   ],
   "source": [
    "total_params = sum(p.numel() for p in vgg16.parameters())\n",
    "print(f'{total_params:,} total parameters.')\n",
    "\n",
    "total_trainable_params = sum(p.numel() for p in vgg16.parameters() if p.requires_grad)\n",
    "print(f'{total_trainable_params:,} training parameters.')"
   ]
  },
  {
   "cell_type": "code",
   "execution_count": 64,
   "metadata": {},
   "outputs": [],
   "source": [
    "if train_on_gpu:\n",
    "    vgg16 = vgg16.to('cuda')"
   ]
  },
  {
   "cell_type": "code",
   "execution_count": 65,
   "metadata": {},
   "outputs": [
    {
     "name": "stdout",
     "output_type": "stream",
     "text": [
      "----------------------------------------------------------------\n",
      "        Layer (type)               Output Shape         Param #\n",
      "================================================================\n",
      "            Conv2d-1         [64, 64, 224, 224]           1,792\n",
      "              ReLU-2         [64, 64, 224, 224]               0\n",
      "            Conv2d-3         [64, 64, 224, 224]          36,928\n",
      "              ReLU-4         [64, 64, 224, 224]               0\n",
      "         MaxPool2d-5         [64, 64, 112, 112]               0\n",
      "            Conv2d-6        [64, 128, 112, 112]          73,856\n",
      "              ReLU-7        [64, 128, 112, 112]               0\n",
      "            Conv2d-8        [64, 128, 112, 112]         147,584\n",
      "              ReLU-9        [64, 128, 112, 112]               0\n",
      "        MaxPool2d-10          [64, 128, 56, 56]               0\n",
      "           Conv2d-11          [64, 256, 56, 56]         295,168\n",
      "             ReLU-12          [64, 256, 56, 56]               0\n",
      "           Conv2d-13          [64, 256, 56, 56]         590,080\n",
      "             ReLU-14          [64, 256, 56, 56]               0\n",
      "           Conv2d-15          [64, 256, 56, 56]         590,080\n",
      "             ReLU-16          [64, 256, 56, 56]               0\n",
      "        MaxPool2d-17          [64, 256, 28, 28]               0\n",
      "           Conv2d-18          [64, 512, 28, 28]       1,180,160\n",
      "             ReLU-19          [64, 512, 28, 28]               0\n",
      "           Conv2d-20          [64, 512, 28, 28]       2,359,808\n",
      "             ReLU-21          [64, 512, 28, 28]               0\n",
      "           Conv2d-22          [64, 512, 28, 28]       2,359,808\n",
      "             ReLU-23          [64, 512, 28, 28]               0\n",
      "        MaxPool2d-24          [64, 512, 14, 14]               0\n",
      "           Conv2d-25          [64, 512, 14, 14]       2,359,808\n",
      "             ReLU-26          [64, 512, 14, 14]               0\n",
      "           Conv2d-27          [64, 512, 14, 14]       2,359,808\n",
      "             ReLU-28          [64, 512, 14, 14]               0\n",
      "           Conv2d-29          [64, 512, 14, 14]       2,359,808\n",
      "             ReLU-30          [64, 512, 14, 14]               0\n",
      "        MaxPool2d-31            [64, 512, 7, 7]               0\n",
      "AdaptiveAvgPool2d-32            [64, 512, 7, 7]               0\n",
      "           Linear-33                 [64, 4096]     102,764,544\n",
      "             ReLU-34                 [64, 4096]               0\n",
      "          Dropout-35                 [64, 4096]               0\n",
      "           Linear-36                 [64, 4096]      16,781,312\n",
      "             ReLU-37                 [64, 4096]               0\n",
      "          Dropout-38                 [64, 4096]               0\n",
      "           Linear-39                    [64, 5]          20,485\n",
      "================================================================\n",
      "Total params: 134,281,029\n",
      "Trainable params: 119,566,341\n",
      "Non-trainable params: 14,714,688\n",
      "----------------------------------------------------------------\n",
      "Input size (MB): 36.75\n",
      "Forward/backward pass size (MB): 14001.50\n",
      "Params size (MB): 512.24\n",
      "Estimated Total Size (MB): 14550.49\n",
      "----------------------------------------------------------------\n"
     ]
    }
   ],
   "source": [
    "summary(vgg16, input_size=(3, 224, 224), batch_size=64, device='cuda')"
   ]
  },
  {
   "cell_type": "code",
   "execution_count": null,
   "metadata": {},
   "outputs": [],
   "source": []
  }
 ],
 "metadata": {
  "kernelspec": {
   "display_name": "Python 3 (ipykernel)",
   "language": "python",
   "name": "python3"
  },
  "language_info": {
   "codemirror_mode": {
    "name": "ipython",
    "version": 3
   },
   "file_extension": ".py",
   "mimetype": "text/x-python",
   "name": "python",
   "nbconvert_exporter": "python",
   "pygments_lexer": "ipython3",
   "version": "3.8.10"
  }
 },
 "nbformat": 4,
 "nbformat_minor": 2
}
