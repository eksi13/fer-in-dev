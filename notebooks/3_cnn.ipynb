{
 "cells": [
  {
   "cell_type": "code",
   "execution_count": 1,
   "metadata": {},
   "outputs": [],
   "source": [
    "import torch\n",
    "from torch import optim, cuda\n",
    "from torchvision import transforms, datasets, models\n",
    "from pathlib import Path\n",
    "import numpy as np\n",
    "from timeit import default_timer as timer\n",
    "import pandas as pd\n",
    "import torch.nn as nn\n",
    "import matplotlib.pyplot as plt\n",
    "\n",
    "import warnings\n",
    "warnings.filterwarnings('ignore', category=FutureWarning)\n",
    "\n",
    "#%pip install torchsummary \n",
    "from torchsummary import summary"
   ]
  },
  {
   "cell_type": "code",
   "execution_count": 9,
   "metadata": {},
   "outputs": [
    {
     "name": "stdout",
     "output_type": "stream",
     "text": [
      "Train on gpu: False\n"
     ]
    }
   ],
   "source": [
    "train_on_gpu = cuda.is_available()\n",
    "print(f'Train on gpu: {train_on_gpu}')\n",
    "\n",
    "if train_on_gpu:\n",
    "    gpu_count = cuda.device_count()\n",
    "    print(f'{gpu_count} gpus detected.')\n",
    "    if gpu_count > 1:\n",
    "        multi_gpu = True\n",
    "    else:\n",
    "        multi_gpu = False\n",
    "\n",
    "BASE_PATH = Path('/project/volume/data/out/NIMH-CHEFS')\n",
    "\n",
    "TRAIN = 'train'\n",
    "VAL = 'val'\n",
    "TEST = 'test'"
   ]
  },
  {
   "cell_type": "code",
   "execution_count": 10,
   "metadata": {},
   "outputs": [
    {
     "name": "stdout",
     "output_type": "stream",
     "text": [
      "[INFO] Number of images in train set ...320\n",
      "[INFO] Number of images in val set ...106\n",
      "[INFO] Number of images in test set ...107\n",
      "5\n",
      "[INFO] Classes:  ['Afraid', 'Angry', 'Happy', 'Neutral', 'Sad']\n"
     ]
    }
   ],
   "source": [
    "# set transformations per dataset\n",
    "data_transforms = {\n",
    "    'train': transforms.Compose([\n",
    "        transforms.RandomRotation(degrees=30),\n",
    "        transforms.ColorJitter(),\n",
    "        transforms.RandomHorizontalFlip(),\n",
    "        transforms.RandomResizedCrop(size=224, scale=(0.08, 1.0)),\n",
    "        transforms.ToTensor(), # automatically scales the from [0,255] to [0,1]\n",
    "        transforms.Normalize(mean=[0.485, 0.456, 0.406], # vgg16 / imagenet standard\n",
    "                             std=[0.229, 0.224, 0.225])\n",
    "\n",
    "    ]),\n",
    "    'val': transforms.Compose([\n",
    "        transforms.Resize(size=256),\n",
    "        transforms.CenterCrop(size=224),\n",
    "        transforms.ToTensor(),\n",
    "        transforms.Normalize(mean=[0.485, 0.456, 0.406],\n",
    "                             std=[0.229, 0.224, 0.225]) \n",
    "    ]),\n",
    "    'test': transforms.Compose([\n",
    "        transforms.Resize(size=256),\n",
    "        transforms.CenterCrop(size=224),\n",
    "        transforms.ToTensor(),\n",
    "        transforms.Normalize(mean=[0.485, 0.456, 0.406],\n",
    "                             std=[0.229, 0.224, 0.225]) \n",
    "    ])\n",
    "}\n",
    "\n",
    "\n",
    "# create datasets\n",
    "image_datasets = {\n",
    "    x: datasets.ImageFolder(\n",
    "        root=(BASE_PATH / x),\n",
    "        transform=data_transforms[x]\n",
    "    )\n",
    "    for x in [TRAIN, VAL, TEST]\n",
    "}\n",
    "\n",
    "\n",
    "# create dataloaders to avoidd loading all fof the data into memory at once\n",
    "dataloaders = {\n",
    "    x: torch.utils.data.DataLoader(\n",
    "        image_datasets[x], \n",
    "        batch_size=64,\n",
    "        shuffle=True, \n",
    "        num_workers=4\n",
    "    )\n",
    "    for x in [TRAIN, VAL, TEST]\n",
    "}\n",
    "\n",
    "dataset_sizes = { x : len(image_datasets[x]) for x in [TRAIN, VAL, TEST] }\n",
    "\n",
    "for x in [TRAIN, VAL, TEST]:\n",
    "    print(f\"[INFO] Number of images in {x} set ...{dataset_sizes[x]}\")\n",
    "\n",
    "class_names = image_datasets[TRAIN].classes\n",
    "n_classes = len(class_names)\n",
    "print(n_classes)\n",
    "print(\"[INFO] Classes: \", image_datasets[TRAIN].classes)"
   ]
  },
  {
   "cell_type": "code",
   "execution_count": 1,
   "metadata": {},
   "outputs": [
    {
     "name": "stdout",
     "output_type": "stream",
     "text": [
      "Downloading http://yann.lecun.com/exdb/mnist/train-images-idx3-ubyte.gz\n",
      "Failed to download (trying next):\n",
      "HTTP Error 403: Forbidden\n",
      "\n",
      "Downloading https://ossci-datasets.s3.amazonaws.com/mnist/train-images-idx3-ubyte.gz\n",
      "Downloading https://ossci-datasets.s3.amazonaws.com/mnist/train-images-idx3-ubyte.gz to ./data/MNIST/raw/train-images-idx3-ubyte.gz\n"
     ]
    },
    {
     "name": "stderr",
     "output_type": "stream",
     "text": [
      "100%|██████████████████████████████████████████████| 9912422/9912422 [00:11<00:00, 870568.59it/s]\n"
     ]
    },
    {
     "name": "stdout",
     "output_type": "stream",
     "text": [
      "Extracting ./data/MNIST/raw/train-images-idx3-ubyte.gz to ./data/MNIST/raw\n",
      "\n",
      "Downloading http://yann.lecun.com/exdb/mnist/train-labels-idx1-ubyte.gz\n",
      "Failed to download (trying next):\n",
      "HTTP Error 403: Forbidden\n",
      "\n",
      "Downloading https://ossci-datasets.s3.amazonaws.com/mnist/train-labels-idx1-ubyte.gz\n",
      "Downloading https://ossci-datasets.s3.amazonaws.com/mnist/train-labels-idx1-ubyte.gz to ./data/MNIST/raw/train-labels-idx1-ubyte.gz\n"
     ]
    },
    {
     "name": "stderr",
     "output_type": "stream",
     "text": [
      "100%|██████████████████████████████████████████████████| 28881/28881 [00:00<00:00, 264306.63it/s]\n"
     ]
    },
    {
     "name": "stdout",
     "output_type": "stream",
     "text": [
      "Extracting ./data/MNIST/raw/train-labels-idx1-ubyte.gz to ./data/MNIST/raw\n",
      "\n",
      "Downloading http://yann.lecun.com/exdb/mnist/t10k-images-idx3-ubyte.gz\n",
      "Failed to download (trying next):\n",
      "HTTP Error 403: Forbidden\n",
      "\n",
      "Downloading https://ossci-datasets.s3.amazonaws.com/mnist/t10k-images-idx3-ubyte.gz\n",
      "Downloading https://ossci-datasets.s3.amazonaws.com/mnist/t10k-images-idx3-ubyte.gz to ./data/MNIST/raw/t10k-images-idx3-ubyte.gz\n"
     ]
    },
    {
     "name": "stderr",
     "output_type": "stream",
     "text": [
      "100%|██████████████████████████████████████████████| 1648877/1648877 [00:02<00:00, 812503.75it/s]\n"
     ]
    },
    {
     "name": "stdout",
     "output_type": "stream",
     "text": [
      "Extracting ./data/MNIST/raw/t10k-images-idx3-ubyte.gz to ./data/MNIST/raw\n",
      "\n",
      "Downloading http://yann.lecun.com/exdb/mnist/t10k-labels-idx1-ubyte.gz\n",
      "Failed to download (trying next):\n",
      "HTTP Error 403: Forbidden\n",
      "\n",
      "Downloading https://ossci-datasets.s3.amazonaws.com/mnist/t10k-labels-idx1-ubyte.gz\n",
      "Downloading https://ossci-datasets.s3.amazonaws.com/mnist/t10k-labels-idx1-ubyte.gz to ./data/MNIST/raw/t10k-labels-idx1-ubyte.gz\n"
     ]
    },
    {
     "name": "stderr",
     "output_type": "stream",
     "text": [
      "100%|███████████████████████████████████████████████████| 4542/4542 [00:00<00:00, 1717192.06it/s]\n"
     ]
    },
    {
     "name": "stdout",
     "output_type": "stream",
     "text": [
      "Extracting ./data/MNIST/raw/t10k-labels-idx1-ubyte.gz to ./data/MNIST/raw\n",
      "\n",
      "[INFO] Number of images in train set: 60000\n",
      "[INFO] Number of images in val set: 10000\n",
      "[INFO] Number of images in test set: 10000\n",
      "10\n",
      "[INFO] Classes:  ['0', '1', '2', '3', '4', '5', '6', '7', '8', '9']\n"
     ]
    }
   ],
   "source": [
    "import torch\n",
    "from torchvision import datasets, transforms\n",
    "\n",
    "# Define transforms\n",
    "data_transforms = {\n",
    "    'train': transforms.Compose([\n",
    "        transforms.ToTensor(),\n",
    "        transforms.Normalize((0.1307,), (0.3081,))  # MNIST mean and std\n",
    "    ]),\n",
    "    'val': transforms.Compose([\n",
    "        transforms.ToTensor(),\n",
    "        transforms.Normalize((0.1307,), (0.3081,))\n",
    "    ]),\n",
    "    'test': transforms.Compose([\n",
    "        transforms.ToTensor(),\n",
    "        transforms.Normalize((0.1307,), (0.3081,))\n",
    "    ])\n",
    "}\n",
    "\n",
    "# Create datasets\n",
    "mnist_datasets = {x: datasets.MNIST(root='./data', train=(x=='train'), download=True, transform=data_transforms[x]) for x in ['train', 'val', 'test']}\n",
    "\n",
    "# Create dataloaders\n",
    "dataloaders = {x: torch.utils.data.DataLoader(mnist_datasets[x], batch_size=64, shuffle=True, num_workers=4) for x in ['train', 'val', 'test']}\n",
    "\n",
    "dataset_sizes = {x: len(mnist_datasets[x]) for x in ['train', 'val', 'test']}\n",
    "\n",
    "for x in ['train', 'val', 'test']:\n",
    "    print(f\"[INFO] Number of images in {x} set: {dataset_sizes[x]}\")\n",
    "\n",
    "class_names = [str(i) for i in range(10)]  # MNIST classes are numbers 0-9\n",
    "n_classes = len(class_names)\n",
    "print(n_classes)\n",
    "print(\"[INFO] Classes: \", class_names)\n"
   ]
  },
  {
   "cell_type": "code",
   "execution_count": 11,
   "metadata": {},
   "outputs": [
    {
     "name": "stdout",
     "output_type": "stream",
     "text": [
      "torch.Size([64, 3, 224, 224])\n",
      "torch.Size([64])\n"
     ]
    }
   ],
   "source": [
    "trainiter = iter(dataloaders['train'])\n",
    "features, labels = next(trainiter)\n",
    "print(features.shape) # batch_size, color_channels, height, width\n",
    "print(labels.shape) # batch_size"
   ]
  },
  {
   "cell_type": "code",
   "execution_count": 5,
   "metadata": {},
   "outputs": [
    {
     "name": "stdout",
     "output_type": "stream",
     "text": [
      "134,281,029 total parameters.\n",
      "119,566,341 training parameters.\n",
      "----------------------------------------------------------------\n",
      "        Layer (type)               Output Shape         Param #\n",
      "================================================================\n",
      "            Conv2d-1         [64, 64, 224, 224]           1,792\n",
      "              ReLU-2         [64, 64, 224, 224]               0\n",
      "            Conv2d-3         [64, 64, 224, 224]          36,928\n",
      "              ReLU-4         [64, 64, 224, 224]               0\n",
      "         MaxPool2d-5         [64, 64, 112, 112]               0\n",
      "            Conv2d-6        [64, 128, 112, 112]          73,856\n",
      "              ReLU-7        [64, 128, 112, 112]               0\n",
      "            Conv2d-8        [64, 128, 112, 112]         147,584\n",
      "              ReLU-9        [64, 128, 112, 112]               0\n",
      "        MaxPool2d-10          [64, 128, 56, 56]               0\n",
      "           Conv2d-11          [64, 256, 56, 56]         295,168\n",
      "             ReLU-12          [64, 256, 56, 56]               0\n",
      "           Conv2d-13          [64, 256, 56, 56]         590,080\n",
      "             ReLU-14          [64, 256, 56, 56]               0\n",
      "           Conv2d-15          [64, 256, 56, 56]         590,080\n",
      "             ReLU-16          [64, 256, 56, 56]               0\n",
      "        MaxPool2d-17          [64, 256, 28, 28]               0\n",
      "           Conv2d-18          [64, 512, 28, 28]       1,180,160\n",
      "             ReLU-19          [64, 512, 28, 28]               0\n",
      "           Conv2d-20          [64, 512, 28, 28]       2,359,808\n",
      "             ReLU-21          [64, 512, 28, 28]               0\n",
      "           Conv2d-22          [64, 512, 28, 28]       2,359,808\n",
      "             ReLU-23          [64, 512, 28, 28]               0\n",
      "        MaxPool2d-24          [64, 512, 14, 14]               0\n",
      "           Conv2d-25          [64, 512, 14, 14]       2,359,808\n",
      "             ReLU-26          [64, 512, 14, 14]               0\n",
      "           Conv2d-27          [64, 512, 14, 14]       2,359,808\n",
      "             ReLU-28          [64, 512, 14, 14]               0\n",
      "           Conv2d-29          [64, 512, 14, 14]       2,359,808\n",
      "             ReLU-30          [64, 512, 14, 14]               0\n",
      "        MaxPool2d-31            [64, 512, 7, 7]               0\n",
      "AdaptiveAvgPool2d-32            [64, 512, 7, 7]               0\n",
      "           Linear-33                 [64, 4096]     102,764,544\n",
      "             ReLU-34                 [64, 4096]               0\n",
      "          Dropout-35                 [64, 4096]               0\n",
      "           Linear-36                 [64, 4096]      16,781,312\n",
      "             ReLU-37                 [64, 4096]               0\n",
      "          Dropout-38                 [64, 4096]               0\n",
      "           Linear-39                    [64, 5]          20,485\n",
      "================================================================\n",
      "Total params: 134,281,029\n",
      "Trainable params: 119,566,341\n",
      "Non-trainable params: 14,714,688\n",
      "----------------------------------------------------------------\n",
      "Input size (MB): 36.75\n",
      "Forward/backward pass size (MB): 14001.50\n",
      "Params size (MB): 512.24\n",
      "Estimated Total Size (MB): 14550.49\n",
      "----------------------------------------------------------------\n"
     ]
    }
   ],
   "source": [
    "vgg16 = models.vgg16(weights=models.VGG16_Weights.IMAGENET1K_V1)\n",
    "\n",
    "for param in vgg16.features.parameters():\n",
    "    param.requires_grad = False\n",
    "\n",
    "n_inputs = list(vgg16.classifier)[6].in_features\n",
    "\n",
    "features = list(vgg16.classifier)[:-1]\n",
    "features.extend([nn.Linear(in_features=n_inputs, out_features=n_classes)])\n",
    "\n",
    "vgg16.classifier = nn.Sequential(*features)\n",
    "\n",
    "total_params = sum(p.numel() for p in vgg16.parameters())\n",
    "print(f'{total_params:,} total parameters.')\n",
    "\n",
    "total_trainable_params = sum(p.numel() for p in vgg16.parameters() if p.requires_grad)\n",
    "print(f'{total_trainable_params:,} training parameters.')\n",
    "\n",
    "if train_on_gpu:\n",
    "    vgg16 = vgg16.to('cuda')\n",
    "\n",
    "summary(vgg16, input_size=(3, 224, 224), batch_size=64, device='cuda')"
   ]
  },
  {
   "cell_type": "code",
   "execution_count": 12,
   "metadata": {},
   "outputs": [],
   "source": [
    "class_to_idx = image_datasets[TRAIN].class_to_idx\n",
    "idx_to_class = { idx: class_ for class_, idx in class_to_idx.items() }"
   ]
  },
  {
   "cell_type": "markdown",
   "metadata": {},
   "source": [
    "## Training Loss and Optimizer"
   ]
  },
  {
   "cell_type": "code",
   "execution_count": 13,
   "metadata": {},
   "outputs": [
    {
     "name": "stdout",
     "output_type": "stream",
     "text": [
      "Parameter containing:\n",
      "tensor([[-0.0011, -0.0027,  0.0022,  ...,  0.0066, -0.0004, -0.0021],\n",
      "        [ 0.0052,  0.0020,  0.0046,  ..., -0.0054, -0.0045, -0.0019],\n",
      "        [-0.0005,  0.0052,  0.0018,  ...,  0.0068,  0.0005,  0.0091],\n",
      "        ...,\n",
      "        [-0.0075, -0.0096, -0.0025,  ..., -0.0079, -0.0106, -0.0036],\n",
      "        [-0.0004,  0.0014, -0.0019,  ...,  0.0036,  0.0021,  0.0038],\n",
      "        [ 0.0063,  0.0041, -0.0004,  ..., -0.0030,  0.0011,  0.0047]],\n",
      "       requires_grad=True)\n",
      "Parameter containing:\n",
      "tensor([ 0.0341,  0.0021,  0.0217,  ..., -0.0060,  0.0480,  0.0001],\n",
      "       requires_grad=True)\n",
      "Parameter containing:\n",
      "tensor([[-0.0113,  0.0104, -0.0017,  ..., -0.0161,  0.0121,  0.0065],\n",
      "        [-0.0005, -0.0078,  0.0071,  ..., -0.0041,  0.0099, -0.0111],\n",
      "        [-0.0109, -0.0052,  0.0168,  ..., -0.0036,  0.0035, -0.0224],\n",
      "        ...,\n",
      "        [-0.0107, -0.0073, -0.0038,  ..., -0.0025,  0.0083, -0.0054],\n",
      "        [ 0.0054,  0.0081, -0.0136,  ...,  0.0041, -0.0004, -0.0023],\n",
      "        [ 0.0288,  0.0066,  0.0049,  ...,  0.0244,  0.0066, -0.0073]],\n",
      "       requires_grad=True)\n",
      "Parameter containing:\n",
      "tensor([0.0332, 0.0616, 0.0307,  ..., 0.0456, 0.0442, 0.0588],\n",
      "       requires_grad=True)\n",
      "Parameter containing:\n",
      "tensor([[ 0.0011, -0.0132,  0.0021,  ..., -0.0116,  0.0118,  0.0104],\n",
      "        [-0.0096,  0.0092,  0.0043,  ...,  0.0098,  0.0035, -0.0069],\n",
      "        [ 0.0117, -0.0112,  0.0011,  ...,  0.0098, -0.0108,  0.0131],\n",
      "        [-0.0002, -0.0116, -0.0050,  ..., -0.0081, -0.0100, -0.0092],\n",
      "        [-0.0141, -0.0090, -0.0112,  ...,  0.0020,  0.0073, -0.0059]],\n",
      "       requires_grad=True)\n",
      "Parameter containing:\n",
      "tensor([-0.0106, -0.0126, -0.0091,  0.0098, -0.0003], requires_grad=True)\n"
     ]
    }
   ],
   "source": [
    "criterion = nn.NLLLoss()\n",
    "optimizer = optim.Adam(vgg16.parameters())\n",
    "\n",
    "for p in optimizer.param_groups[0]['params']:\n",
    "    if p.requires_grad:\n",
    "        print(p)"
   ]
  },
  {
   "cell_type": "code",
   "execution_count": 14,
   "metadata": {},
   "outputs": [],
   "source": [
    "def train(model, criterion, optimizer, train_loader, valid_loader, save_file_name, max_epoch_stop=3, n_epochs=20, print_every=1):\n",
    "\n",
    "    # early stopping init\n",
    "    epochs_no_improve = 0\n",
    "    valid_loss_min = np.Inf\n",
    "\n",
    "    valid_max_acc = 0\n",
    "    history = []\n",
    "\n",
    "    try:\n",
    "        print(f'Model has been trained for: {model.epochs} epochs.\\n')\n",
    "    except:\n",
    "        model.epochs = 0\n",
    "        print(f'Starting training from scratch.\\n')\n",
    "\n",
    "    overall_start = timer()\n",
    "\n",
    "    for epoch in range(n_epochs):\n",
    "\n",
    "        train_loss = 0.\n",
    "        valid_loss = 0.\n",
    "\n",
    "        train_acc = 0\n",
    "        valid_acc = 0\n",
    "\n",
    "\n",
    "        model.train()\n",
    "        start = timer()\n",
    "\n",
    "        for i, (data, target) in enumerate(train_loader):\n",
    "            \n",
    "            # move to gpu if possible\n",
    "            if train_on_gpu:\n",
    "                data, target = data.cuda(), target.cuda()\n",
    "            \n",
    "            # zero out gradients after each step\n",
    "            optimizer.zero_grad()\n",
    "            # compute inference\n",
    "            output = model(data)\n",
    "\n",
    "            # compute loss \n",
    "            loss = criterion(output, target)\n",
    "            # compute gradient according to loss\n",
    "            loss.backward()\n",
    "\n",
    "            # take step into direction of gradient (adjust weights)\n",
    "            optimizer.step()\n",
    "\n",
    "            # accumulate overall loss (average loss * nbr examples in batch)\n",
    "            train_loss += loss.item() * data.size(0)\n",
    "\n",
    "            # finde max log probalbility\n",
    "            _, pred = torch.max(output, dim=1)\n",
    "            correct_tensor = pred.eq(target.data.view_as(pred))\n",
    "            accuracy = torch.mean(correct_tensor.type(torch.FloatTensor))\n",
    "            train_acc += accuracy.item() * data.size(0)\n",
    "\n",
    "            print(f'Epoch: {epoch}\\t{100 * (i + 1) / len(train_loader):.2f}% complete. {timer() - start:.2f} seconds elapsed in epoch.',end='\\r')\n",
    "\n",
    "\n",
    "        # Start validation\n",
    "        else:\n",
    "            model.epochs += 1\n",
    "\n",
    "            with torch.no_grad():\n",
    "                model.eval()\n",
    "\n",
    "                # Validation loop\n",
    "                for data, target in valid_loader:\n",
    "\n",
    "                    if train_on_gpu:\n",
    "                        data, target = data.cuda(), target.cuda()\n",
    "\n",
    "                    # Forward pass\n",
    "                    output = model(data)\n",
    "\n",
    "                    # Validation loss (average loss * nbr examples in batch)\n",
    "                    loss = criterion(output, target)\n",
    "                    valid_loss += loss.item() * data.size(0)\n",
    "\n",
    "                    # Calculate validation accuracy (average acc * nbr examples in batch)\n",
    "                    _, pred = torch.max(output, dim=1)\n",
    "                    correct_tensor = pred.eq(target.data.view_as(pred))\n",
    "                    accuracy = torch.mean(correct_tensor.type(torch.FloatTensor))\n",
    "                    valid_acc += accuracy.item() * data.size(0)\n",
    "\n",
    "                # Calculate average losses and accuracy\n",
    "                train_loss = train_loss / len(train_loader.dataset)\n",
    "                valid_loss = valid_loss / len(valid_loader.dataset)\n",
    "\n",
    "                train_acc = train_acc / len(train_loader.dataset)\n",
    "                valid_acc = valid_acc / len(valid_loader.dataset)\n",
    "\n",
    "                history.append([train_loss, valid_loss, train_acc, valid_acc])\n",
    "\n",
    "                # training and validation results\n",
    "                if (epoch + 1) % print_every == 0:\n",
    "                    print(f'\\nEpoch: {epoch} \\tTraining Loss: {train_loss:.4f} \\tValidation Loss: {valid_loss:.4f}')\n",
    "                    print(f'\\t\\tTraining Accuracy: {100 * train_acc:.2f}%\\t Validation Accuracy: {100 * valid_acc:.2f}%')\n",
    "\n",
    "                # Save the model if validation loss decreases\n",
    "                if valid_loss < valid_loss_min:\n",
    "                    torch.save(model.state_dict(), save_file_name)\n",
    "                    # Track improvement\n",
    "                    epochs_no_improve = 0\n",
    "                    valid_loss_min = valid_loss\n",
    "                    valid_best_acc = valid_acc\n",
    "                    best_epoch = epoch\n",
    "\n",
    "                else:\n",
    "                    epochs_no_improve += 1\n",
    "\n",
    "                    # early stopping\n",
    "                    if epochs_no_improve >= max_epoch_stop:\n",
    "                        print(f'\\nEarly Stopping! Total epochs: {epoch}. Best epoch: {best_epoch} with loss: {valid_loss_min:.2f} and acc: {100 * valid_acc:.2f}%')\n",
    "                        total_time = timer() - overall_start\n",
    "                        print(f'{total_time:.2f} total seconds elapsed. {total_time / (epoch+1):.2f} seconds per epoch.')\n",
    "\n",
    "                        # Load the best state dict and attach optimizer\n",
    "                        model.load_state_dict(torch.load(save_file_name))\n",
    "                        model.optimizer = optimizer\n",
    "\n",
    "                        # Format history\n",
    "                        history = pd.DataFrame(\n",
    "                            history,\n",
    "                            columns=[\n",
    "                                'train_loss', \n",
    "                                'valid_loss', \n",
    "                                'train_acc',\n",
    "                                'valid_acc'\n",
    "                                ]\n",
    "                            )\n",
    "                        return model, history"
   ]
  },
  {
   "cell_type": "code",
   "execution_count": 15,
   "metadata": {},
   "outputs": [
    {
     "name": "stdout",
     "output_type": "stream",
     "text": [
      "Starting training from scratch.\n",
      "\n"
     ]
    },
    {
     "ename": "",
     "evalue": "",
     "output_type": "error",
     "traceback": [
      "\u001b[1;31mThe Kernel crashed while executing code in the current cell or a previous cell. \n",
      "\u001b[1;31mPlease review the code in the cell(s) to identify a possible cause of the failure. \n",
      "\u001b[1;31mClick <a href='https://aka.ms/vscodeJupyterKernelCrash'>here</a> for more info. \n",
      "\u001b[1;31mView Jupyter <a href='command:jupyter.viewOutput'>log</a> for further details."
     ]
    },
    {
     "ename": "",
     "evalue": "",
     "output_type": "error",
     "traceback": [
      "\u001b[1;31mCanceled future for execute_request message before replies were done"
     ]
    },
    {
     "ename": "",
     "evalue": "",
     "output_type": "error",
     "traceback": [
      "\u001b[1;31mCanceled future for execute_request message before replies were done. \n",
      "\u001b[1;31mView Jupyter <a href='command:jupyter.viewOutput'>log</a> for further details."
     ]
    }
   ],
   "source": [
    "model, history = train(\n",
    "    vgg16,\n",
    "    criterion,\n",
    "    optimizer,\n",
    "    dataloaders[TRAIN],\n",
    "    dataloaders[VAL],\n",
    "    save_file_name='vgg16-transfer-4.pt',\n",
    "    max_epoch_stop=5,\n",
    "    n_epochs=30,\n",
    "    print_every=1\n",
    ")\n"
   ]
  },
  {
   "cell_type": "code",
   "execution_count": null,
   "metadata": {},
   "outputs": [],
   "source": [
    "plt.figure(figsize=(8, 6))\n",
    "for c in ['train_loss', 'valid_loss']:\n",
    "    plt.plot(\n",
    "        history[c], label=c)\n",
    "plt.legend()\n",
    "plt.xlabel('Epoch')\n",
    "plt.ylabel('Average Negative Log Likelihood')\n",
    "plt.title('Training and Validation Losses')"
   ]
  }
 ],
 "metadata": {
  "kernelspec": {
   "display_name": "Python 3 (ipykernel)",
   "language": "python",
   "name": "python3"
  },
  "language_info": {
   "codemirror_mode": {
    "name": "ipython",
    "version": 3
   },
   "file_extension": ".py",
   "mimetype": "text/x-python",
   "name": "python",
   "nbconvert_exporter": "python",
   "pygments_lexer": "ipython3",
   "version": "3.8.10"
  }
 },
 "nbformat": 4,
 "nbformat_minor": 2
}
